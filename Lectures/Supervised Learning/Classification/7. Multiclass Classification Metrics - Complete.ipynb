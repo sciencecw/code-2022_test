{
 "cells": [
  {
   "cell_type": "markdown",
   "id": "83aeb84d",
   "metadata": {},
   "source": [
    "# Multiclass Classification Metrics\n",
    "\n",
    "Let's expand our model diagnostic toolbox to account for classification problems with more than one possible outcome.\n",
    "\n",
    "## What we will accomplish\n",
    "\n",
    "In this notebook we will:\n",
    "- Discuss how to assess multiclass classifiers,\n",
    "- Expand the confusion matrix to account for more than two classes and\n",
    "- Introduce cross-entropy."
   ]
  },
  {
   "cell_type": "code",
   "execution_count": 1,
   "id": "dd5413a8",
   "metadata": {},
   "outputs": [],
   "source": [
    "## For data handling\n",
    "import pandas as pd\n",
    "import numpy as np\n",
    "\n",
    "## For plotting\n",
    "import matplotlib.pyplot as plt\n",
    "import seaborn as sns\n",
    "\n",
    "## This sets the plot style\n",
    "## to have a grid on a dark background\n",
    "sns.set_style(\"whitegrid\")"
   ]
  },
  {
   "cell_type": "markdown",
   "id": "f732f48c",
   "metadata": {},
   "source": [
    "## Making multiclass into binary\n",
    "\n",
    "The first way you may evaluate a multiclass model is essentially the same as a binary model.\n",
    "\n",
    "Sometimes there may be a couple of classes that you are most interested in, in which case you can just focus on optimizing the performance of binary classifier metrics on those classes.\n",
    "\n",
    "For example, the Cleveland Heart Disease data set, <a href=\"https://archive.ics.uci.edu/ml/datasets/heart+disease\">https://archive.ics.uci.edu/ml/datasets/heart+disease</a>, provides four possible heart disease outcomes, but perhaps we are most interested in the most serious heart disease classification or the case where someone does not have heart disease."
   ]
  },
  {
   "cell_type": "markdown",
   "id": "3c6af8b4",
   "metadata": {},
   "source": [
    "## Multiclass confusion matrix\n",
    "\n",
    "Whether we are interested in a couple of classes or all of the classes we can still gather useful information from the confusion matrix. The confusion matrix we introduced earlier naturally extends to more than two possible classes.\n",
    "\n",
    "<img src=\"conf_mat_multi.png\" width=\"70%\"></img>\n",
    "\n",
    "However, in this setting we lose our ability to interpret things like true positive rate, false positve rate, etc.\n",
    "\n",
    "Let's see this in action in `sklearn`."
   ]
  },
  {
   "cell_type": "code",
   "execution_count": 2,
   "id": "311550c8",
   "metadata": {},
   "outputs": [],
   "source": [
    "from sklearn.datasets import load_iris"
   ]
  },
  {
   "cell_type": "code",
   "execution_count": 3,
   "id": "0bdc0692",
   "metadata": {},
   "outputs": [],
   "source": [
    "iris = load_iris(as_frame=True)\n",
    "\n",
    "X = iris['data']\n",
    "X = X.rename(columns={'sepal length (cm)':'sepal_length',\n",
    "                         'sepal width (cm)':'sepal_width',\n",
    "                         'petal length (cm)':'petal_length',\n",
    "                         'petal width (cm)':'petal_width'})\n",
    "y = iris['target']"
   ]
  },
  {
   "cell_type": "code",
   "execution_count": 4,
   "id": "84909302",
   "metadata": {},
   "outputs": [],
   "source": [
    "from sklearn.model_selection import train_test_split"
   ]
  },
  {
   "cell_type": "code",
   "execution_count": 5,
   "id": "c5e011c4",
   "metadata": {},
   "outputs": [],
   "source": [
    "X_train, X_test, y_train, y_test = train_test_split(X.copy(), y,\n",
    "                                                       shuffle=True,\n",
    "                                                       random_state=413,\n",
    "                                                       test_size=.2,\n",
    "                                                       stratify=y)"
   ]
  },
  {
   "cell_type": "code",
   "execution_count": 6,
   "id": "26d5e5f8",
   "metadata": {},
   "outputs": [
    {
     "data": {
      "image/png": "[encoded data removed]",
      "text/plain": [
       "<Figure size 720x576 with 1 Axes>"
      ]
     },
     "metadata": {},
     "output_type": "display_data"
    }
   ],
   "source": [
    "plt.figure(figsize=(10,8))\n",
    "\n",
    "plt.scatter(X_train.loc[y_train==0].petal_width, \n",
    "                X_train.loc[y_train==0].petal_length,\n",
    "                s = 60,\n",
    "                label='$y=0$')\n",
    "plt.scatter(X_train.loc[y_train==1].petal_width, \n",
    "                X_train.loc[y_train==1].petal_length,\n",
    "                marker = 'v',\n",
    "                s = 60,\n",
    "                label='$y=1$')\n",
    "plt.scatter(X_train.loc[y_train==2].petal_width, \n",
    "                X_train.loc[y_train==2].petal_length,\n",
    "                marker = 'x',\n",
    "                s = 60,\n",
    "                label='$y=2$')\n",
    "\n",
    "plt.xlabel(\"Petal Width (cm)\", fontsize=18)\n",
    "plt.ylabel(\"Petal Length (cm)\", fontsize=18)\n",
    "plt.legend(fontsize=16)\n",
    "\n",
    "plt.show()"
   ]
  },
  {
   "cell_type": "code",
   "execution_count": 7,
   "id": "31e2662b",
   "metadata": {},
   "outputs": [],
   "source": [
    "## import LDA\n",
    "from sklearn.discriminant_analysis import LinearDiscriminantAnalysis"
   ]
  },
  {
   "cell_type": "code",
   "execution_count": 8,
   "id": "9e93fe61",
   "metadata": {},
   "outputs": [
    {
     "data": {
      "text/plain": [
       "LinearDiscriminantAnalysis()"
      ]
     },
     "execution_count": 8,
     "metadata": {},
     "output_type": "execute_result"
    }
   ],
   "source": [
    "## Make LDA object\n",
    "LDA = LinearDiscriminantAnalysis()\n",
    "\n",
    "## Fit the model\n",
    "LDA.fit(X_train[['petal_width', 'petal_length']], y_train)"
   ]
  },
  {
   "cell_type": "code",
   "execution_count": 9,
   "id": "ffd73844",
   "metadata": {},
   "outputs": [],
   "source": [
    "## import confusion matrix\n",
    "from sklearn.metrics import confusion_matrix"
   ]
  },
  {
   "cell_type": "code",
   "execution_count": 10,
   "id": "0b564f01",
   "metadata": {},
   "outputs": [],
   "source": [
    "conf_mat = confusion_matrix(y_train, LDA.predict(X_train[['petal_width', 'petal_length']]))"
   ]
  },
  {
   "cell_type": "code",
   "execution_count": 11,
   "id": "b624da97",
   "metadata": {},
   "outputs": [
    {
     "data": {
      "text/html": [
       "<div>\n",
       "<style scoped>\n",
       "    .dataframe tbody tr th:only-of-type {\n",
       "        vertical-align: middle;\n",
       "    }\n",
       "\n",
       "    .dataframe tbody tr th {\n",
       "        vertical-align: top;\n",
       "    }\n",
       "\n",
       "    .dataframe thead th {\n",
       "        text-align: right;\n",
       "    }\n",
       "</style>\n",
       "<table border=\"1\" class=\"dataframe\">\n",
       "  <thead>\n",
       "    <tr style=\"text-align: right;\">\n",
       "      <th></th>\n",
       "      <th>Predicted 0</th>\n",
       "      <th>Predicted 1</th>\n",
       "      <th>Predicted 2</th>\n",
       "    </tr>\n",
       "  </thead>\n",
       "  <tbody>\n",
       "    <tr>\n",
       "      <th>Actual 0</th>\n",
       "      <td>40</td>\n",
       "      <td>0</td>\n",
       "      <td>0</td>\n",
       "    </tr>\n",
       "    <tr>\n",
       "      <th>Actual 1</th>\n",
       "      <td>0</td>\n",
       "      <td>38</td>\n",
       "      <td>2</td>\n",
       "    </tr>\n",
       "    <tr>\n",
       "      <th>Actual 2</th>\n",
       "      <td>0</td>\n",
       "      <td>2</td>\n",
       "      <td>38</td>\n",
       "    </tr>\n",
       "  </tbody>\n",
       "</table>\n",
       "</div>"
      ],
      "text/plain": [
       "          Predicted 0  Predicted 1  Predicted 2\n",
       "Actual 0           40            0            0\n",
       "Actual 1            0           38            2\n",
       "Actual 2            0            2           38"
      ]
     },
     "execution_count": 11,
     "metadata": {},
     "output_type": "execute_result"
    }
   ],
   "source": [
    "pd.DataFrame(conf_mat,\n",
    "                 columns = ['Predicted 0', 'Predicted 1', 'Predicted 2'],\n",
    "                 index = ['Actual 0', 'Actual 1', 'Actual 2'])"
   ]
  },
  {
   "cell_type": "markdown",
   "id": "3eb0015d",
   "metadata": {},
   "source": [
    "## Cross-entropy\n",
    "\n",
    "A metric that expands nicely to multiclass classification is known as cross-entropy, sometimes known as $\\log$-loss for reasons that will soon become clear.\n",
    "\n",
    "Cross-entropy is a measure of how well two probability distributions align. Here we want to compare the \"distribution\" of the sample, where we take \"distribution\" to a set of indicator functions, $y_c = 1_{y=c}$, to the estimated probability distribution from the model.\n",
    "\n",
    "For each observation, $i$, we have we compute:\n",
    "\n",
    "$$\n",
    "-\\sum_{c=1}^\\mathcal{C} y_{c,i} \\log \\left( p_{c,i} \\right),\n",
    "$$\n",
    "\n",
    "where $\\mathcal{C}$ is the total number of possible classes and $p_{c,i}$ is the probability that observation $i$ is of class $c$.\n",
    "\n",
    "The total cross-entropy over the sample is the total sum.\n",
    "\n",
    "Let's calculate this now by hand, then show how to do it in `sklearn`."
   ]
  },
  {
   "cell_type": "code",
   "execution_count": 12,
   "id": "467f94cb",
   "metadata": {},
   "outputs": [],
   "source": [
    "## generate the ycs\n",
    "ycs = pd.get_dummies(y_train).to_numpy()"
   ]
  },
  {
   "cell_type": "code",
   "execution_count": 13,
   "id": "528ad097",
   "metadata": {},
   "outputs": [
    {
     "data": {
      "text/plain": [
       "array([[0, 1, 0],\n",
       "       [0, 0, 1],\n",
       "       [0, 1, 0],\n",
       "       [0, 1, 0],\n",
       "       [1, 0, 0],\n",
       "       [1, 0, 0],\n",
       "       [0, 0, 1],\n",
       "       [1, 0, 0],\n",
       "       [0, 0, 1],\n",
       "       [0, 0, 1],\n",
       "       [0, 1, 0],\n",
       "       [1, 0, 0],\n",
       "       [1, 0, 0],\n",
       "       [0, 0, 1],\n",
       "       [0, 0, 1],\n",
       "       [0, 0, 1],\n",
       "       [0, 1, 0],\n",
       "       [1, 0, 0],\n",
       "       [0, 1, 0],\n",
       "       [1, 0, 0],\n",
       "       [0, 0, 1],\n",
       "       [0, 1, 0],\n",
       "       [0, 1, 0],\n",
       "       [1, 0, 0],\n",
       "       [0, 1, 0],\n",
       "       [0, 1, 0],\n",
       "       [1, 0, 0],\n",
       "       [0, 1, 0],\n",
       "       [1, 0, 0],\n",
       "       [0, 1, 0],\n",
       "       [0, 1, 0],\n",
       "       [0, 1, 0],\n",
       "       [1, 0, 0],\n",
       "       [1, 0, 0],\n",
       "       [0, 1, 0],\n",
       "       [1, 0, 0],\n",
       "       [0, 0, 1],\n",
       "       [1, 0, 0],\n",
       "       [1, 0, 0],\n",
       "       [0, 1, 0],\n",
       "       [1, 0, 0],\n",
       "       [0, 0, 1],\n",
       "       [0, 0, 1],\n",
       "       [1, 0, 0],\n",
       "       [0, 0, 1],\n",
       "       [0, 1, 0],\n",
       "       [1, 0, 0],\n",
       "       [0, 0, 1],\n",
       "       [1, 0, 0],\n",
       "       [0, 1, 0],\n",
       "       [0, 0, 1],\n",
       "       [1, 0, 0],\n",
       "       [0, 0, 1],\n",
       "       [0, 1, 0],\n",
       "       [0, 1, 0],\n",
       "       [0, 1, 0],\n",
       "       [1, 0, 0],\n",
       "       [0, 0, 1],\n",
       "       [0, 0, 1],\n",
       "       [1, 0, 0],\n",
       "       [0, 0, 1],\n",
       "       [0, 0, 1],\n",
       "       [0, 0, 1],\n",
       "       [0, 1, 0],\n",
       "       [0, 0, 1],\n",
       "       [0, 1, 0],\n",
       "       [0, 0, 1],\n",
       "       [0, 0, 1],\n",
       "       [0, 1, 0],\n",
       "       [1, 0, 0],\n",
       "       [0, 1, 0],\n",
       "       [0, 0, 1],\n",
       "       [0, 1, 0],\n",
       "       [0, 1, 0],\n",
       "       [0, 1, 0],\n",
       "       [0, 0, 1],\n",
       "       [0, 1, 0],\n",
       "       [1, 0, 0],\n",
       "       [1, 0, 0],\n",
       "       [0, 1, 0],\n",
       "       [1, 0, 0],\n",
       "       [0, 1, 0],\n",
       "       [0, 1, 0],\n",
       "       [0, 0, 1],\n",
       "       [0, 0, 1],\n",
       "       [0, 0, 1],\n",
       "       [0, 0, 1],\n",
       "       [0, 0, 1],\n",
       "       [1, 0, 0],\n",
       "       [1, 0, 0],\n",
       "       [1, 0, 0],\n",
       "       [1, 0, 0],\n",
       "       [1, 0, 0],\n",
       "       [0, 0, 1],\n",
       "       [1, 0, 0],\n",
       "       [0, 1, 0],\n",
       "       [0, 0, 1],\n",
       "       [0, 0, 1],\n",
       "       [0, 0, 1],\n",
       "       [0, 0, 1],\n",
       "       [0, 1, 0],\n",
       "       [1, 0, 0],\n",
       "       [0, 1, 0],\n",
       "       [0, 0, 1],\n",
       "       [1, 0, 0],\n",
       "       [0, 0, 1],\n",
       "       [0, 0, 1],\n",
       "       [0, 0, 1],\n",
       "       [0, 1, 0],\n",
       "       [0, 0, 1],\n",
       "       [1, 0, 0],\n",
       "       [0, 1, 0],\n",
       "       [1, 0, 0],\n",
       "       [1, 0, 0],\n",
       "       [0, 1, 0],\n",
       "       [1, 0, 0],\n",
       "       [1, 0, 0],\n",
       "       [0, 1, 0],\n",
       "       [1, 0, 0],\n",
       "       [0, 1, 0]], dtype=uint8)"
      ]
     },
     "execution_count": 13,
     "metadata": {},
     "output_type": "execute_result"
    }
   ],
   "source": [
    "ycs"
   ]
  },
  {
   "cell_type": "code",
   "execution_count": 14,
   "id": "d7301a14",
   "metadata": {},
   "outputs": [],
   "source": [
    "## generate the pcs\n",
    "pcs = LDA.predict_proba(X_train[['petal_width', 'petal_length']])"
   ]
  },
  {
   "cell_type": "code",
   "execution_count": 15,
   "id": "9e9bba72",
   "metadata": {},
   "outputs": [
    {
     "data": {
      "text/plain": [
       "array([4.40483776e-02, 1.46301727e-05, 6.20094724e-04, 3.82021497e-04,\n",
       "       2.45070630e-12, 1.04340980e-11, 2.82346732e-04, 5.37443091e-08,\n",
       "       2.48239036e-04, 2.91372789e-05, 1.69434408e-02, 8.00004507e-12,\n",
       "       4.73354245e-10, 2.67748127e-04, 1.35294091e-02, 3.17880280e-03,\n",
       "       1.10324637e+00, 1.04340980e-11, 1.63336009e-03, 8.00004507e-12,\n",
       "       3.72097977e-07, 2.00443332e-04, 1.38324209e-02, 5.04381715e-09,\n",
       "       3.25037413e-03, 1.44976360e-04, 3.40598660e-11, 8.58273821e-06,\n",
       "       8.52435900e-11, 1.44976360e-04, 1.44976360e-04, 4.48455534e-05,\n",
       "       4.73354245e-10, 8.00004507e-12, 1.69434408e-02, 2.14740943e-08,\n",
       "       3.88960863e-06, 2.45070630e-12, 2.96497782e-09, 2.88713743e-04,\n",
       "       8.52435900e-11, 1.64940298e-04, 2.10651330e-06, 8.52435900e-11,\n",
       "       1.43443907e+00, 2.76323374e-05, 2.61139999e-11, 2.30151285e-04,\n",
       "       2.61139999e-11, 6.97976977e-06, 3.27396978e-02, 2.78258305e-10,\n",
       "       6.50681509e-01, 1.69434408e-02, 8.54332363e-03, 1.38324209e-02,\n",
       "       2.61139999e-11, 5.80290426e-05, 7.34595642e-06, 8.00004507e-12,\n",
       "       5.55146289e-06, 1.35294091e-02, 1.45851080e-02, 6.20094724e-04,\n",
       "       3.39850793e-01, 5.38993570e-06, 4.02956783e-04, 1.95300627e-06,\n",
       "       5.37751045e-02, 1.87894145e-12, 1.63531063e-03, 2.88406853e-02,\n",
       "       1.24436618e+00, 1.35926561e-01, 1.33157855e-03, 1.52921582e-04,\n",
       "       2.76704652e-06, 1.87894145e-12, 8.00004507e-12, 2.35341201e-04,\n",
       "       2.61139999e-11, 3.98615498e-03, 4.34066920e-06, 1.01605808e-04,\n",
       "       4.36705556e-08, 5.55941200e-03, 2.22597036e-01, 6.25900092e-05,\n",
       "       2.45070630e-12, 2.45070630e-12, 5.39568390e-14, 2.61139999e-11,\n",
       "       8.00004507e-12, 4.64075929e-02, 2.80081094e-08, 1.18173831e-04,\n",
       "       8.28212763e-05, 7.34595642e-06, 1.82300586e+00, 3.27142692e-07,\n",
       "       2.00443332e-04, 4.73354245e-10, 2.09499965e-05, 3.39850793e-01,\n",
       "       7.03881398e-14, 6.54072558e-04, 1.66406050e-05, 2.22597036e-01,\n",
       "       2.35341201e-04, 9.03923521e-02, 2.61139999e-11, 1.12148553e-01,\n",
       "       7.50732809e-13, 6.13376017e-12, 1.69434408e-02, 8.52435900e-11,\n",
       "       8.00004507e-12, 3.25037413e-03, 6.13376017e-12, 2.73623138e-02])"
      ]
     },
     "execution_count": 15,
     "metadata": {},
     "output_type": "execute_result"
    }
   ],
   "source": [
    "## take the sum of each rows product\n",
    "- np.sum(ycs * np.log(pcs), axis=1)"
   ]
  },
  {
   "cell_type": "code",
   "execution_count": 16,
   "id": "2b3c9da7",
   "metadata": {},
   "outputs": [
    {
     "data": {
      "text/plain": [
       "8.127982067830915"
      ]
     },
     "execution_count": 16,
     "metadata": {},
     "output_type": "execute_result"
    }
   ],
   "source": [
    "## sum that sum\n",
    "np.sum(- np.sum(ycs * np.log(pcs), axis=1))"
   ]
  },
  {
   "cell_type": "markdown",
   "id": "effa725f",
   "metadata": {},
   "source": [
    "##### In `sklearn`\n",
    "\n",
    "This can be done with `log_loss` in `sklearn`, <a href=\"https://scikit-learn.org/stable/modules/generated/sklearn.metrics.log_loss.html\">https://scikit-learn.org/stable/modules/generated/sklearn.metrics.log_loss.html</a>."
   ]
  },
  {
   "cell_type": "code",
   "execution_count": 17,
   "id": "b6de1313",
   "metadata": {},
   "outputs": [],
   "source": [
    "## with sklearn\n",
    "from sklearn.metrics import log_loss"
   ]
  },
  {
   "cell_type": "code",
   "execution_count": 18,
   "id": "9f9325b5",
   "metadata": {},
   "outputs": [
    {
     "data": {
      "text/plain": [
       "8.127982067830997"
      ]
     },
     "execution_count": 18,
     "metadata": {},
     "output_type": "execute_result"
    }
   ],
   "source": [
    "## implement log_loss on the training set\n",
    "## first put in the true values\n",
    "## then the predicted probabilities\n",
    "## labels are the labels for the three classes [0,1,2]\n",
    "## normalize=False uses the log-loss formula we presented above\n",
    "log_loss(y_train, pcs, labels=[0,1,2], normalize=False)"
   ]
  },
  {
   "cell_type": "markdown",
   "id": "2e0247a1",
   "metadata": {},
   "source": [
    "#### What is the goal of cross entropy?\n",
    "\n",
    "Let's think about the formula for a second:\n",
    "\n",
    "$$\n",
    "-\\sum_{c=1}^\\mathcal{C} y_{c,i} \\log \\left( p_{c,i} \\right),\n",
    "$$\n",
    "\n",
    "The only term that contributes to this sum is the one corresponding to the class that observation $i$ actually is, say it is $l$. If we know the class of $i$ is $l$, then observation $i$ contributes\n",
    "\n",
    "$$\n",
    "- \\log \\left( p_{l,i} \\right)\n",
    "$$\n",
    "\n",
    "to the total cross-entropy. When $p_{l,i}$ is closer to $1$,  $- \\log \\left( p_{l,i} \\right)$ is closer to 0. Conversely as $p_{l,i} \\rightarrow 0$, $- \\log \\left( p_{l,i} \\right) \\rightarrow \\infty$. Since we want to assign observation $i$ to its actual class, what we want is a value of $p_{l,i}$ that is close to $1$. The closer to $1$ each of the $p_{l,i}$s are, the closer to $0$ our cross-entropy is. Thus a good model is one with low cross-entropy.\n",
    "\n",
    "<i>Cross-entropy, \"punishes\" models that are confidently incorrect because such models would have a very low value for $p_{l,i}$.</i>"
   ]
  },
  {
   "cell_type": "markdown",
   "id": "d22a3c6f",
   "metadata": {},
   "source": [
    "--------------------------\n",
    "\n",
    "This notebook was written for the Erd&#337;s Institute C&#337;de Data Science Boot Camp by Matthew Osborne, Ph. D., 2022.\n",
    "\n",
    "Any potential redistributors must seek and receive permission from Matthew Tyler Osborne, Ph.D. prior to redistribution. Redistribution of the material contained in this repository is conditional on acknowledgement of Matthew Tyler Osborne, Ph.D.'s original authorship and sponsorship of the Erdős Institute as subject to the license (see License.md)"
   ]
  },
  {
   "cell_type": "code",
   "execution_count": null,
   "id": "960bb54e",
   "metadata": {},
   "outputs": [],
   "source": []
  }
 ],
 "metadata": {
  "kernelspec": {
   "display_name": "Python 3 (ipykernel)",
   "language": "python",
   "name": "python3"
  },
  "language_info": {
   "codemirror_mode": {
    "name": "ipython",
    "version": 3
   },
   "file_extension": ".py",
   "mimetype": "text/x-python",
   "name": "python",
   "nbconvert_exporter": "python",
   "pygments_lexer": "ipython3",
   "version": "3.9.9"
  }
 },
 "nbformat": 4,
 "nbformat_minor": 5
}
