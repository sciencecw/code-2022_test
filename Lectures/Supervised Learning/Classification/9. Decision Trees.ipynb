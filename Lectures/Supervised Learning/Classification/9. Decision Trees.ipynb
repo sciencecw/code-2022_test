{
 "cells": [
  {
   "cell_type": "markdown",
   "id": "85bcfebc",
   "metadata": {},
   "source": [
    "# Decision Trees\n",
    "\n",
    "There are algorithms that fall into a class known as tree-based methods. The foundation for this class is the decision tree.\n",
    "\n",
    "## What we will accomplish\n",
    "\n",
    "In this notebook we will:\n",
    "- Introduce decision trees,\n",
    "- Define Gini Impurity and\n",
    "- Review the CART algorithm used to fit a decision tree."
   ]
  },
  {
   "cell_type": "code",
   "execution_count": null,
   "id": "5e1f65b2",
   "metadata": {},
   "outputs": [],
   "source": [
    "## For data handling\n",
    "import pandas as pd\n",
    "import numpy as np\n",
    "\n",
    "## For plotting\n",
    "import matplotlib.pyplot as plt\n",
    "import seaborn as sns\n",
    "\n",
    "## This sets the plot style\n",
    "## to have a grid on a white background\n",
    "sns.set_style(\"darkgrid\")"
   ]
  },
  {
   "cell_type": "markdown",
   "id": "5e783abf",
   "metadata": {},
   "source": [
    "## The basic idea\n",
    "\n",
    "The basic idea for decision trees is to segment the data space in a way that allows us to classify well.\n",
    "\n",
    "### A simple example\n",
    "\n",
    "Let's look at a simple example. Below we generate some random data with an $x_1$ feature, an $x_2$ feature, and a target, $y$. We then plot the data. "
   ]
  },
  {
   "cell_type": "code",
   "execution_count": null,
   "id": "e879ca87",
   "metadata": {},
   "outputs": [],
   "source": [
    "np.random.seed(334)\n",
    "X = np.zeros((200,2))\n",
    "X[:,0] = np.random.random(200)\n",
    "X[100:,0] = X[100:,0] + 1.01\n",
    "X[:100,0] = X[:100,0] - .01\n",
    "X[:,1] = np.random.random(200)\n",
    "\n",
    "y = np.zeros(200)\n",
    "y[100:] = 1"
   ]
  },
  {
   "cell_type": "code",
   "execution_count": null,
   "id": "8c39d46f",
   "metadata": {},
   "outputs": [],
   "source": [
    "plt.figure(figsize = (10,10))\n",
    "plt.scatter(X[y == 0,0], X[y == 0,1], c='blue', label=\"0\")\n",
    "plt.scatter(X[y == 1,0], X[y == 1,1], c='orange', marker=\"v\", label=\"1\")\n",
    "plt.xlabel(\"$x_1$\",fontsize = 16)\n",
    "plt.ylabel(\"$x_2$\",fontsize = 16)\n",
    "plt.legend(fontsize='14', title_fontsize='16', loc=2)\n",
    "\n",
    "plt.show()"
   ]
  },
  {
   "cell_type": "markdown",
   "id": "80e1c095",
   "metadata": {},
   "source": [
    "If you had to come up with an adhoc classification rule right now what would you say we should do?\n",
    "\n",
    "<br>\n",
    "<br>\n",
    "\n",
    "One good choice would be to say that if the data point is to the left of $x_1= 1$ then we classify it as $0$, and if it to the right of $x_1=1$ then we classify it as $1$. We can illustrate this with a logic tree:\n",
    "<img src = \"SimpleTree.png\" width = \"50%\"></img>\n",
    "\n",
    "While this is a simple example, it is the basic idea behind a decision tree. You look at a feature, choose a cut point that minimizes some measure of wrongness, and keep going until some stopping criterion.\n",
    "\n",
    "Before we move on to real data, let's fit a decision tree to our dumb data and see what classification rule it comes up with. `sklearn` fits a decision tree with the model object, `DecisionTreeClassifier` <a href=\"https://scikit-learn.org/stable/modules/generated/sklearn.tree.DecisionTreeClassifier.html\">https://scikit-learn.org/stable/modules/generated/sklearn.tree.DecisionTreeClassifier.html</a>."
   ]
  },
  {
   "cell_type": "code",
   "execution_count": null,
   "id": "e6d978b8",
   "metadata": {},
   "outputs": [],
   "source": [
    "## Import packages\n",
    "## tree will be used to plot the decisiton tree\n",
    "from sklearn import tree\n",
    "\n",
    "## This is the actual out of the box algorithm\n"
   ]
  },
  {
   "cell_type": "code",
   "execution_count": null,
   "id": "91ca95ee",
   "metadata": {},
   "outputs": [],
   "source": [
    "## Make an decision tree object\n",
    "tree_clf = \n",
    "\n",
    "## fit the classifier\n",
    "## Note I store it as a figure to make the plot below\n",
    "fig = tree_clf.fit(X, y)"
   ]
  },
  {
   "cell_type": "code",
   "execution_count": null,
   "id": "125db053",
   "metadata": {},
   "outputs": [],
   "source": [
    "## Plot the fitted tree\n",
    "plt.figure(figsize = (8,8))\n",
    "tree.plot_tree(fig, filled = True)\n",
    "plt.show()"
   ]
  },
  {
   "cell_type": "markdown",
   "id": "3574cd51",
   "metadata": {},
   "source": [
    "The plot above is the logic tree built by the decision tree algorithm. To classify a new observation we start at the <i>root node</i> up top. If the observation satisfies the logic statement at the top we go left and are classified as a $0$, else we go right and are classified as $1$. The two <i>children</i> of the root node are known as <i>leaf nodes</i> or <i>terminal nodes</i> because they have no children of their own so we just predict the majority class contained in that node.\n",
    "\n",
    "This is essentially the decision rule we came up with (which is the objectively correct one by the way), so in this example the decision tree did well.\n",
    "\n",
    "\n",
    "If we look in the plot above we notice a number of different stats in each node:\n",
    "\n",
    "- `samples`: the number of samples in each node\n",
    "- `gini`: the gini impurity of the node, more on this in a moment\n",
    "- `value`: the breakdown of the number of samples of each target value in the node, for example the leaf node on the left has $100$ nodes labeled $0$ and $0$ nodes labeled $1$\n",
    "- A decision rule: The rule that is used for the following split, samples that would be evaluated as True for the rule go to the left child, samples that would be evaluated as False go to the right child\n",
    "\n",
    "### How is wrongness measured?\n",
    "\n",
    "There are a couple of ways to measure wrongness, or rather impurity, with decision trees. There are two popular measures that can implemented with out of the box `sklearn`.\n",
    "\n",
    "#### Gini impurity\n",
    "\n",
    "Suppose that there are $N$ target classes.\n",
    "\n",
    "The Gini Impurity for class $i$ of a node estimates the probability that a randomly chosen sample of class $i$ from the node is incorrectly classified as not class $i$. The formula is:\n",
    "$$\n",
    "G_i = p_i(1-p_i),\n",
    "$$\n",
    "\n",
    "where $p_i$ is the proportion of samples in the node of class $i$. The total Gini Impurity is the sum of all these $G_i$:\n",
    "\n",
    "$$\n",
    "I_G = \\sum_{i=1}^N G_i = 1 - \\sum_{i=1}^N p_i^2.\n",
    "$$\n",
    "\n",
    "\n",
    "#### Entropy\n",
    "\n",
    "Entropy is an alternative impurity measure you could use when building a decision tree in `sklearn`. \n",
    "\n",
    "We have already discussed this metric in the `Multiclass Classification Metrics` notebook.\n",
    "\n",
    "Again suppose there are $N$ target classes. The contribution made to entropy from class $i$ is:\n",
    "\n",
    "$$\n",
    "H_i = - p_i \\log(p_i),\n",
    "$$\n",
    "\n",
    "where again $p_i$ is the proportion of samples in the node of class $i$. The total entropy of the node is the sum of all the $H_i$:\n",
    "\n",
    "$$\n",
    "I_H = \\sum_{i=1}^N H_i = -\\sum_{i=1}^N p_i \\log(p_i).\n",
    "$$\n",
    "\n",
    "#### Which to use?\n",
    "\n",
    "In most cases both measures are comparable, with Gini impurity being faster to compute (the $\\log$ in entropy takes more time for a computer) it is a good default."
   ]
  },
  {
   "cell_type": "markdown",
   "id": "af024285",
   "metadata": {},
   "source": [
    "## How `sklearn` fits a tree\n",
    "\n",
    "\n",
    "### The CART algorithm\n",
    "\n",
    "`sklearn` uses the <i>Classification and Regression Tree</i> or <i>CART</i> algorithm. \n",
    "\n",
    "Suppose your data set has $n$ observations with $m$ features, and for simplicity only $2$ target classes.\n",
    "\n",
    "The algorithm starts with the root node. It then searches through each feature, $k$, and finds a split point, $t_k$, that produces the purest subsets (weighted by the number of samples in each subset), i.e. it finds a $t_k$ that minimizes:\n",
    "$$\n",
    "J(k,t_k) = \\frac{n_\\text{left}}{n} I_\\text{left} + \\frac{n_\\text{right}}{n} I_\\text{right},\n",
    "$$\n",
    "where left and right refers to being left or right of the split point, $t_k$, and $I$ is the impurity measure you choose to use (the default is Gini). \n",
    "\n",
    "Once it finds the $(k,t_k)$ pair that has smallest $J(k,t_k)$, it splits the data according to that decision split.\n",
    "\n",
    "The algorithm then repeats the entire process on each of the children nodes it just produced. This continues until some stopping condition for example:\n",
    "- reaching a maximum depth, controlled with `max_depth`\n",
    "- reaching a minimum number of samples in each node, controlled with `min_samples_leaf`\n",
    "- reaching a minimum weight to be in a node, controlled with `min_weight_fraction_leaf`\n",
    "- etc., see documentation for further options, <a href=\"https://scikit-learn.org/stable/modules/generated/sklearn.tree.DecisionTreeClassifier.html\">https://scikit-learn.org/stable/modules/generated/sklearn.tree.DecisionTreeClassifier.html</a>.\n",
    "\n",
    "or until it can no longer reduce the impurity by making a cut.\n",
    "\n",
    "\n",
    "We will end by demonstrating the effect of `max_depth` on a new randomly generated data set."
   ]
  },
  {
   "cell_type": "code",
   "execution_count": null,
   "id": "50cb5aa8",
   "metadata": {},
   "outputs": [],
   "source": [
    "np.random.seed(434)\n",
    "X = np.zeros((200,2))\n",
    "X[:,0] = np.random.random(200)\n",
    "X[:,1] = np.random.random(200)\n",
    "\n",
    "y = np.zeros(200)\n",
    "y[X[:,0]-X[:,1]>=0] = 1"
   ]
  },
  {
   "cell_type": "code",
   "execution_count": null,
   "id": "a1ca01e6",
   "metadata": {},
   "outputs": [],
   "source": [
    "plt.figure(figsize = (10,10))\n",
    "plt.scatter(X[y == 0,0], X[y == 0,1], c = 'blue', label = \"0\")\n",
    "plt.scatter(X[y == 1,0], X[y == 1,1], c = 'orange', marker = 'v', label = \"1\")\n",
    "plt.xlabel(\"$x_1$\",fontsize = 16)\n",
    "plt.ylabel(\"$x_2$\",fontsize = 16)\n",
    "plt.legend(fontsize='14', title_fontsize='16', loc=2)\n",
    "\n",
    "plt.show()"
   ]
  },
  {
   "cell_type": "code",
   "execution_count": null,
   "id": "5e503be8",
   "metadata": {
    "scrolled": false
   },
   "outputs": [],
   "source": [
    "xx1, xx2 = np.meshgrid(np.arange(-.01, 1.01, .01),\n",
    "                          np.arange(-.01, 1.01, .01))\n",
    "\n",
    "X_pred = np.zeros((len(xx1.reshape(-1,1)), 2))\n",
    "X_pred[:,0] = xx1.flatten()\n",
    "X_pred[:,1] = xx2.flatten()\n",
    "\n",
    "for i in range(1,11):\n",
    "    tree = DecisionTreeClassifier(max_depth  = i)\n",
    "    \n",
    "    tree.fit(X, y)\n",
    "    \n",
    "    preds = tree.predict(X_pred)\n",
    "    \n",
    "    plt.figure(figsize=(10,8))\n",
    "\n",
    "    plt.scatter(X_pred[preds==0,0],\n",
    "                X_pred[preds==0,1],\n",
    "                alpha=.1,\n",
    "                c='lightblue',\n",
    "                s=100)\n",
    "    plt.scatter(X_pred[preds==1,0],\n",
    "                X_pred[preds==1,1],\n",
    "                alpha=.1,\n",
    "                c='orange',\n",
    "                s=100)\n",
    "    \n",
    "    plt.scatter(X[y==0,0], \n",
    "                X[y==0,1],\n",
    "                label='Training 0',\n",
    "                c = 'darkblue',\n",
    "                edgecolor='black',\n",
    "                s=100)\n",
    "    plt.scatter(X[y==1,0], \n",
    "                X[y==1,1],\n",
    "                label='Training 1',\n",
    "                c = 'darkorange',\n",
    "                marker='v',\n",
    "                edgecolor='black',\n",
    "                s=100)\n",
    "    \n",
    "    plt.title(\"Maximum Depth of \" + str(i), fontsize=20)\n",
    "    plt.xlabel(\"$x_1$\", fontsize=18)\n",
    "    plt.ylabel(\"$x_2$\", fontsize=18)\n",
    "    plt.legend(fontsize=14)\n",
    "    \n",
    "    plt.show()\n"
   ]
  },
  {
   "cell_type": "markdown",
   "id": "25d60e63",
   "metadata": {},
   "source": [
    "Typically for the \"best\" choice of `max_depth` we would run something like cross-validation.\n",
    "\n",
    "Before we close the jupyter notebook on decision trees let's leave with a few take aways.\n",
    "\n",
    "\n",
    "##### Advantages\n",
    "\n",
    "- Interpret-ability :\n",
    "    - Decision Trees are known as a white box algorithm (as opposed to the black box often used to describe machine learning). This is because you are able to entirely describe how a decision tree predicts a data points target using the logic tree,\n",
    "- Very Fast Predictions and\n",
    "- Very little preprocessing of data prior to training.\n",
    "\n",
    "##### Disadvantages\n",
    "\n",
    "- Greediness:\n",
    "    - The algorithm is greedy meaning it may not create the optimal tree. For example, maybe the best tree involves an initial suboptimal cut, the CART algorithm won't find this tree.\n",
    "- Overfitting: \n",
    "    - Decision trees are very prone to overfitting the data, you can control for this using regularization hyperparameters like max_depth and min_samples_split. It's also a good idea to use cv when you can.\n",
    "- Orthogonal Boundaries:\n",
    "    - Because of the process of determining cut points (remember the $t_k$ from the algorithm?) decision boundaries happen at right angles. This means that classes divided by a non-horizontal or non-vertical line the decision tree will have some capturing the boundary. This can be mitigated a bit with PCA.\n",
    "- Sensitive:\n",
    "    - Trees are very sensitive to the training data. Removing or adding a few points can greatly change the decision boundary produced by the algorithm. One way around this is to use an averaged algorithm, like a random forest. We discuss these in a later notebook."
   ]
  },
  {
   "cell_type": "markdown",
   "id": "8b895327",
   "metadata": {},
   "source": [
    "--------------------------\n",
    "\n",
    "This notebook was written for the Erd&#337;s Institute C&#337;de Data Science Boot Camp by Matthew Osborne, Ph. D., 2022.\n",
    "\n",
    "Any potential redistributors must seek and receive permission from Matthew Tyler Osborne, Ph.D. prior to redistribution. Redistribution of the material contained in this repository is conditional on acknowledgement of Matthew Tyler Osborne, Ph.D.'s original authorship and sponsorship of the Erdős Institute as subject to the license (see License.md)"
   ]
  },
  {
   "cell_type": "code",
   "execution_count": null,
   "id": "be61b53d",
   "metadata": {},
   "outputs": [],
   "source": []
  }
 ],
 "metadata": {
  "kernelspec": {
   "display_name": "Python 3 (ipykernel)",
   "language": "python",
   "name": "python3"
  },
  "language_info": {
   "codemirror_mode": {
    "name": "ipython",
    "version": 3
   },
   "file_extension": ".py",
   "mimetype": "text/x-python",
   "name": "python",
   "nbconvert_exporter": "python",
   "pygments_lexer": "ipython3",
   "version": "3.9.9"
  }
 },
 "nbformat": 4,
 "nbformat_minor": 5
}
