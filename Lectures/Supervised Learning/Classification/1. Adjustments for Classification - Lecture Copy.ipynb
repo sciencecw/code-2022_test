{
 "cells": [
  {
   "cell_type": "markdown",
   "id": "9fe55869",
   "metadata": {},
   "source": [
    "# Adjustments for Classification\n",
    "\n",
    "We also have to adjust some of our data approaches for classification problems.\n",
    "\n",
    "## What we will accomplish\n",
    "\n",
    "In this notebook we will:\n",
    "- Discuss the concept of and motivation for stratified splits,\n",
    "- Demonstrate the `stratify` argument in `train_test_split` and\n",
    "- Introduce `StratifiedKFold` in `sklearn`."
   ]
  },
  {
   "cell_type": "code",
   "execution_count": 1,
   "id": "5aca157a",
   "metadata": {},
   "outputs": [],
   "source": [
    "import numpy as np\n",
    "import pandas as pd\n",
    "import matplotlib.pyplot as plt\n",
    "from seaborn import set_style\n",
    "\n",
    "set_style(\"whitegrid\")"
   ]
  },
  {
   "cell_type": "markdown",
   "id": "89229d2f",
   "metadata": {},
   "source": [
    "## Illustrating example\n",
    "\n",
    "We will start with a contrived example to illustrate the motivation behind <i>stratified</i> splits."
   ]
  },
  {
   "cell_type": "code",
   "execution_count": 2,
   "id": "939f9eaf",
   "metadata": {},
   "outputs": [],
   "source": [
    "## Some sample output data\n",
    "y = [0,1,0,0,0,0,0,1,0,0]"
   ]
  },
  {
   "cell_type": "markdown",
   "id": "3fcf1605",
   "metadata": {},
   "source": [
    "Let's say we have some data we would like to model where the `y` above is our output. Let's now make some train test splits, and print them."
   ]
  },
  {
   "cell_type": "code",
   "execution_count": 3,
   "id": "6814aade",
   "metadata": {},
   "outputs": [],
   "source": [
    "from sklearn.model_selection import train_test_split"
   ]
  },
  {
   "cell_type": "code",
   "execution_count": 4,
   "id": "8fd4d234",
   "metadata": {},
   "outputs": [
    {
     "name": "stdout",
     "output_type": "stream",
     "text": [
      "Split 1\n",
      "y_train [1, 0, 1, 0, 0, 0, 0, 0]\n",
      "y_test [0, 0]\n",
      "\n",
      "Split 2\n",
      "y_train [1, 0, 0, 0, 0, 0, 1, 0]\n",
      "y_test [0, 0]\n",
      "\n",
      "Split 3\n",
      "y_train [0, 0, 0, 0, 0, 0, 0, 0]\n",
      "y_test [1, 1]\n",
      "\n",
      "Split 4\n",
      "y_train [0, 1, 0, 0, 0, 1, 0, 0]\n",
      "y_test [0, 0]\n",
      "\n",
      "Split 5\n",
      "y_train [0, 0, 0, 1, 1, 0, 0, 0]\n",
      "y_test [0, 0]\n",
      "\n"
     ]
    }
   ],
   "source": [
    "np.random.seed(9)\n",
    "for i in range(5):\n",
    "    y_train, y_test = train_test_split(y, \n",
    "                                       shuffle=True, \n",
    "                                       test_size=.2)\n",
    "    print(\"Split\", i+1)\n",
    "    print(\"y_train\", y_train)\n",
    "    print(\"y_test\", y_test)\n",
    "    print()"
   ]
  },
  {
   "cell_type": "markdown",
   "id": "9bd99cc1",
   "metadata": {},
   "source": [
    "While this may be a silly example, it does highlight an issue that can occur when doing train test splits with categorical data, particularly when your data is highly <i>imbalanced</i>, meaning one of the categories is far more present than the other(s).\n",
    "\n",
    "A major assumption in supervised learning is that your data is always being drawn from the same underlying probability distribution. So when we make any kind of data split we want both sets in the split to look approximately the same:\n",
    "\n",
    "<img src=\"train_test_class.png\" width=\"80%\"></img>"
   ]
  },
  {
   "cell_type": "markdown",
   "id": "3d20e73b",
   "metadata": {},
   "source": [
    "## Stratified splits\n",
    "\n",
    "### In theory\n",
    "\n",
    "How we can ensure that our splits are representative of the sample's distribution, with regard to the output variable of interest, is known as <i>stratification</i>. When we perform a data split stratified on a categorical variable we break our sample into the observations corresponding to each unique category. We then perform a randomized split on each of those subsets. After the random split all of the respective cateogries are recombined into two unique data sets with categorical splits roughly equal to the original sample distribution.\n",
    "\n",
    "This may be easier to understand with a picture.\n",
    "\n",
    "<img src=\"stratify.png\" width=\"75%\"></img> \n",
    "\n",
    "### In `sklearn`\n",
    "\n",
    "We now demonstrate how to make stratified train test splits and stratified cross-validations."
   ]
  },
  {
   "cell_type": "code",
   "execution_count": 13,
   "id": "1897e2ff",
   "metadata": {},
   "outputs": [],
   "source": [
    "beer = pd.read_csv(\"../../../Data/beer1.csv\")"
   ]
  },
  {
   "cell_type": "code",
   "execution_count": 14,
   "id": "1836dfe6",
   "metadata": {},
   "outputs": [
    {
     "data": {
      "text/html": [
       "<div>\n",
       "<style scoped>\n",
       "    .dataframe tbody tr th:only-of-type {\n",
       "        vertical-align: middle;\n",
       "    }\n",
       "\n",
       "    .dataframe tbody tr th {\n",
       "        vertical-align: top;\n",
       "    }\n",
       "\n",
       "    .dataframe thead th {\n",
       "        text-align: right;\n",
       "    }\n",
       "</style>\n",
       "<table border=\"1\" class=\"dataframe\">\n",
       "  <thead>\n",
       "    <tr style=\"text-align: right;\">\n",
       "      <th></th>\n",
       "      <th>IBU</th>\n",
       "      <th>ABV</th>\n",
       "      <th>Rating</th>\n",
       "      <th>Beer_Type</th>\n",
       "    </tr>\n",
       "  </thead>\n",
       "  <tbody>\n",
       "    <tr>\n",
       "      <th>0</th>\n",
       "      <td>45</td>\n",
       "      <td>4.2</td>\n",
       "      <td>3.792</td>\n",
       "      <td>Stout</td>\n",
       "    </tr>\n",
       "    <tr>\n",
       "      <th>1</th>\n",
       "      <td>60</td>\n",
       "      <td>8.3</td>\n",
       "      <td>4.145</td>\n",
       "      <td>Stout</td>\n",
       "    </tr>\n",
       "    <tr>\n",
       "      <th>2</th>\n",
       "      <td>25</td>\n",
       "      <td>6.0</td>\n",
       "      <td>3.951</td>\n",
       "      <td>Stout</td>\n",
       "    </tr>\n",
       "    <tr>\n",
       "      <th>3</th>\n",
       "      <td>31</td>\n",
       "      <td>11.0</td>\n",
       "      <td>4.062</td>\n",
       "      <td>Stout</td>\n",
       "    </tr>\n",
       "    <tr>\n",
       "      <th>4</th>\n",
       "      <td>75</td>\n",
       "      <td>9.0</td>\n",
       "      <td>4.018</td>\n",
       "      <td>Stout</td>\n",
       "    </tr>\n",
       "  </tbody>\n",
       "</table>\n",
       "</div>"
      ],
      "text/plain": [
       "   IBU   ABV  Rating Beer_Type\n",
       "0   45   4.2   3.792     Stout\n",
       "1   60   8.3   4.145     Stout\n",
       "2   25   6.0   3.951     Stout\n",
       "3   31  11.0   4.062     Stout\n",
       "4   75   9.0   4.018     Stout"
      ]
     },
     "execution_count": 14,
     "metadata": {},
     "output_type": "execute_result"
    }
   ],
   "source": [
    "beer.head()"
   ]
  },
  {
   "cell_type": "code",
   "execution_count": 15,
   "id": "c33bfa91",
   "metadata": {},
   "outputs": [
    {
     "data": {
      "text/plain": [
       "IPA      0.560694\n",
       "Stout    0.439306\n",
       "Name: Beer_Type, dtype: float64"
      ]
     },
     "execution_count": 15,
     "metadata": {},
     "output_type": "execute_result"
    }
   ],
   "source": [
    "beer.Beer_Type.value_counts(normalize=True)"
   ]
  },
  {
   "cell_type": "code",
   "execution_count": 19,
   "id": "388419aa",
   "metadata": {},
   "outputs": [
    {
     "name": "stdout",
     "output_type": "stream",
     "text": [
      "1.0.2\n"
     ]
    }
   ],
   "source": [
    "import sklearn\n",
    "\n",
    "print(sklearn.__version__)"
   ]
  },
  {
   "cell_type": "markdown",
   "id": "3214bdb7",
   "metadata": {},
   "source": [
    "#### `train_test_split`'s `stratify` argument"
   ]
  },
  {
   "cell_type": "code",
   "execution_count": 16,
   "id": "a0a4e9f4",
   "metadata": {},
   "outputs": [],
   "source": [
    "## Make the split\n",
    "beer_train, beer_test = train_test_split(beer.copy(),\n",
    "                                            shuffle = True,\n",
    "                                            random_state = 590,\n",
    "                                            test_size = .2,\n",
    "                                            stratify = beer.Beer_Type)"
   ]
  },
  {
   "cell_type": "code",
   "execution_count": 17,
   "id": "abf33689",
   "metadata": {},
   "outputs": [
    {
     "data": {
      "text/plain": [
       "IPA      0.561594\n",
       "Stout    0.438406\n",
       "Name: Beer_Type, dtype: float64"
      ]
     },
     "execution_count": 17,
     "metadata": {},
     "output_type": "execute_result"
    }
   ],
   "source": [
    "## look at the distribution for the training data\n",
    "\n",
    "beer_train.Beer_Type.value_counts(normalize=True)\n"
   ]
  },
  {
   "cell_type": "code",
   "execution_count": 18,
   "id": "7bf80177",
   "metadata": {},
   "outputs": [
    {
     "data": {
      "text/plain": [
       "IPA      0.557143\n",
       "Stout    0.442857\n",
       "Name: Beer_Type, dtype: float64"
      ]
     },
     "execution_count": 18,
     "metadata": {},
     "output_type": "execute_result"
    }
   ],
   "source": [
    "## look at the distribution for the test data\n",
    "beer_test.Beer_Type.value_counts(normalize=True)\n",
    "\n"
   ]
  },
  {
   "cell_type": "markdown",
   "id": "8b4950da",
   "metadata": {},
   "source": [
    "#### `StratifiedKFold`\n",
    "\n",
    "We can also perform a stratified $k$-fold cross-validation with the assistance of `sklearn`'s `StratifiedKFold` object.\n",
    "\n",
    "<a href=\"https://scikit-learn.org/stable/modules/generated/sklearn.model_selection.StratifiedKFold.html\">https://scikit-learn.org/stable/modules/generated/sklearn.model_selection.StratifiedKFold.html</a>"
   ]
  },
  {
   "cell_type": "code",
   "execution_count": 20,
   "id": "330f018f",
   "metadata": {},
   "outputs": [],
   "source": [
    "## import here\n",
    "from sklearn.model_selection import StratifiedKFold"
   ]
  },
  {
   "cell_type": "code",
   "execution_count": 21,
   "id": "31aa4219",
   "metadata": {},
   "outputs": [],
   "source": [
    "## make the kfold object\n",
    "kfold = StratifiedKFold(5, shuffle=True, random_state=203)"
   ]
  },
  {
   "cell_type": "code",
   "execution_count": 22,
   "id": "96f8c4ce",
   "metadata": {},
   "outputs": [
    {
     "name": "stdout",
     "output_type": "stream",
     "text": [
      "Split 1\n",
      "CV Training Set Split\n",
      "IPA      0.563636\n",
      "Stout    0.436364\n",
      "Name: Beer_Type, dtype: float64\n",
      "\n",
      "CV Holdout Set Split\n",
      "IPA      0.553571\n",
      "Stout    0.446429\n",
      "Name: Beer_Type, dtype: float64\n",
      "+++++++++++++++\n",
      "Split 2\n",
      "CV Training Set Split\n",
      "IPA      0.561086\n",
      "Stout    0.438914\n",
      "Name: Beer_Type, dtype: float64\n",
      "\n",
      "CV Holdout Set Split\n",
      "IPA      0.563636\n",
      "Stout    0.436364\n",
      "Name: Beer_Type, dtype: float64\n",
      "+++++++++++++++\n",
      "Split 3\n",
      "CV Training Set Split\n",
      "IPA      0.561086\n",
      "Stout    0.438914\n",
      "Name: Beer_Type, dtype: float64\n",
      "\n",
      "CV Holdout Set Split\n",
      "IPA      0.563636\n",
      "Stout    0.436364\n",
      "Name: Beer_Type, dtype: float64\n",
      "+++++++++++++++\n",
      "Split 4\n",
      "CV Training Set Split\n",
      "IPA      0.561086\n",
      "Stout    0.438914\n",
      "Name: Beer_Type, dtype: float64\n",
      "\n",
      "CV Holdout Set Split\n",
      "IPA      0.563636\n",
      "Stout    0.436364\n",
      "Name: Beer_Type, dtype: float64\n",
      "+++++++++++++++\n",
      "Split 5\n",
      "CV Training Set Split\n",
      "IPA      0.561086\n",
      "Stout    0.438914\n",
      "Name: Beer_Type, dtype: float64\n",
      "\n",
      "CV Holdout Set Split\n",
      "IPA      0.563636\n",
      "Stout    0.436364\n",
      "Name: Beer_Type, dtype: float64\n",
      "+++++++++++++++\n"
     ]
    }
   ],
   "source": [
    "## loop through train sets and test sets\n",
    "i = 1\n",
    "for train_index, test_index in kfold.split(beer_train[['IBU','ABV']], beer_train['Beer_Type']):\n",
    "    ## print the beer type splits\n",
    "    print(\"Split\",i)\n",
    "    print(\"CV Training Set Split\")\n",
    "    print(beer_train.iloc[train_index].Beer_Type.value_counts(normalize=True))\n",
    "    \n",
    "    print()\n",
    "    \n",
    "    print(\"CV Holdout Set Split\")\n",
    "    print(beer_train.iloc[test_index].Beer_Type.value_counts(normalize=True))\n",
    "    \n",
    "    print(\"+++++++++++++++\")\n",
    "    i = i + 1"
   ]
  },
  {
   "cell_type": "markdown",
   "id": "bba91883",
   "metadata": {},
   "source": [
    "Now that we know how to adjust our data splits for categorical data, let's start classifying."
   ]
  },
  {
   "cell_type": "markdown",
   "id": "6d58f6fd",
   "metadata": {},
   "source": [
    "--------------------------\n",
    "\n",
    "This notebook was written for the Erd&#337;s Institute C&#337;de Data Science Boot Camp by Matthew Osborne, Ph. D., 2022.\n",
    "\n",
    "Any potential redistributors must seek and receive permission from Matthew Tyler Osborne, Ph.D. prior to redistribution. Redistribution of the material contained in this repository is conditional on acknowledgement of Matthew Tyler Osborne, Ph.D.'s original authorship and sponsorship of the Erdős Institute as subject to the license (see License.md)"
   ]
  },
  {
   "cell_type": "code",
   "execution_count": null,
   "id": "ef5b84c3",
   "metadata": {},
   "outputs": [],
   "source": []
  }
 ],
 "metadata": {
  "kernelspec": {
   "display_name": "Python 3 (ipykernel)",
   "language": "python",
   "name": "python3"
  },
  "language_info": {
   "codemirror_mode": {
    "name": "ipython",
    "version": 3
   },
   "file_extension": ".py",
   "mimetype": "text/x-python",
   "name": "python",
   "nbconvert_exporter": "python",
   "pygments_lexer": "ipython3",
   "version": "3.9.9"
  }
 },
 "nbformat": 4,
 "nbformat_minor": 5
}
