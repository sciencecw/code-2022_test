{
 "cells": [
  {
   "cell_type": "markdown",
   "id": "9fe55869",
   "metadata": {},
   "source": [
    "# Adjustments for Classification\n",
    "\n",
    "We also have to adjust some of our data approaches for classification problems.\n",
    "\n",
    "## What we will accomplish\n",
    "\n",
    "In this notebook we will:\n",
    "- Discuss the concept of and motivation for stratified splits,\n",
    "- Demonstrate the `stratify` argument in `train_test_split` and\n",
    "- Introduce `StratifiedKFold` in `sklearn`."
   ]
  },
  {
   "cell_type": "code",
   "execution_count": null,
   "id": "5aca157a",
   "metadata": {},
   "outputs": [],
   "source": [
    "import numpy as np\n",
    "import pandas as pd\n",
    "import matplotlib.pyplot as plt\n",
    "from seaborn import set_style\n",
    "\n",
    "set_style(\"whitegrid\")"
   ]
  },
  {
   "cell_type": "markdown",
   "id": "89229d2f",
   "metadata": {},
   "source": [
    "## Illustrating example\n",
    "\n",
    "We will start with a contrived example to illustrate the motivation behind <i>stratified</i> splits."
   ]
  },
  {
   "cell_type": "code",
   "execution_count": null,
   "id": "939f9eaf",
   "metadata": {},
   "outputs": [],
   "source": [
    "## Some sample output data\n",
    "y = [0,1,0,0,0,0,0,1,0,0]"
   ]
  },
  {
   "cell_type": "markdown",
   "id": "3fcf1605",
   "metadata": {},
   "source": [
    "Let's say we have some data we would like to model where the `y` above is our output. Let's now make some train test splits, and print them."
   ]
  },
  {
   "cell_type": "code",
   "execution_count": null,
   "id": "6814aade",
   "metadata": {},
   "outputs": [],
   "source": [
    "from sklearn.model_selection import train_test_split"
   ]
  },
  {
   "cell_type": "code",
   "execution_count": null,
   "id": "8fd4d234",
   "metadata": {},
   "outputs": [],
   "source": [
    "np.random.seed(9)\n",
    "for i in range(5):\n",
    "    y_train, y_test = train_test_split(y, \n",
    "                                       shuffle=True, \n",
    "                                       test_size=.2)\n",
    "    print(\"Split\", i+1)\n",
    "    print(\"y_train\", y_train)\n",
    "    print(\"y_test\", y_test)\n",
    "    print()"
   ]
  },
  {
   "cell_type": "markdown",
   "id": "9bd99cc1",
   "metadata": {},
   "source": [
    "While this may be a silly example, it does highlight an issue that can occur when doing train test splits with categorical data, particularly when your data is highly <i>imbalanced</i>, meaning one of the categories is far more present than the other(s).\n",
    "\n",
    "A major assumption in supervised learning is that your data is always being drawn from the same underlying probability distribution. So when we make any kind of data split we want both sets in the split to look approximately the same:\n",
    "\n",
    "<img src=\"train_test_class.png\" width=\"80%\"></img>"
   ]
  },
  {
   "cell_type": "markdown",
   "id": "3d20e73b",
   "metadata": {},
   "source": [
    "## Stratified splits\n",
    "\n",
    "### In theory\n",
    "\n",
    "How we can ensure that our splits are representative of the sample's distribution, with regard to the output variable of interest, is known as <i>stratification</i>. When we perform a data split stratified on a categorical variable we break our sample into the observations corresponding to each unique category. We then perform a randomized split on each of those subsets. After the random split all of the respective cateogries are recombined into two unique data sets with categorical splits roughly equal to the original sample distribution.\n",
    "\n",
    "This may be easier to understand with a picture.\n",
    "\n",
    "<img src=\"stratify.png\" width=\"75%\"></img> \n",
    "\n",
    "### In `sklearn`\n",
    "\n",
    "We now demonstrate how to make stratified train test splits and stratified cross-validations."
   ]
  },
  {
   "cell_type": "code",
   "execution_count": null,
   "id": "1897e2ff",
   "metadata": {},
   "outputs": [],
   "source": [
    "beer = pd.read_csv(\"../../../Data/beer_df.csv\")"
   ]
  },
  {
   "cell_type": "code",
   "execution_count": null,
   "id": "1836dfe6",
   "metadata": {},
   "outputs": [],
   "source": [
    "beer.head()"
   ]
  },
  {
   "cell_type": "code",
   "execution_count": null,
   "id": "c33bfa91",
   "metadata": {},
   "outputs": [],
   "source": [
    "beer.Beer_Type.value_counts(normalize=True)"
   ]
  },
  {
   "cell_type": "markdown",
   "id": "3214bdb7",
   "metadata": {},
   "source": [
    "#### `train_test_split`'s `stratify` argument"
   ]
  },
  {
   "cell_type": "code",
   "execution_count": null,
   "id": "a0a4e9f4",
   "metadata": {},
   "outputs": [],
   "source": [
    "## Make the split\n",
    "beer_train, beer_test = "
   ]
  },
  {
   "cell_type": "code",
   "execution_count": null,
   "id": "abf33689",
   "metadata": {},
   "outputs": [],
   "source": [
    "## look at the distribution for the training data\n",
    "\n",
    "beer_train.Beer_Type.value_counts(normalize=True)\n"
   ]
  },
  {
   "cell_type": "code",
   "execution_count": null,
   "id": "7bf80177",
   "metadata": {},
   "outputs": [],
   "source": [
    "## look at the distribution for the test data\n",
    "beer_test.Beer_Type.value_counts(normalize=True)\n",
    "\n"
   ]
  },
  {
   "cell_type": "markdown",
   "id": "8b4950da",
   "metadata": {},
   "source": [
    "#### `StratifiedKFold`\n",
    "\n",
    "We can also perform a stratified $k$-fold cross-validation with the assistance of `sklearn`'s `StratifiedKFold` object.\n",
    "\n",
    "<a href=\"https://scikit-learn.org/stable/modules/generated/sklearn.model_selection.StratifiedKFold.html\">https://scikit-learn.org/stable/modules/generated/sklearn.model_selection.StratifiedKFold.html</a>"
   ]
  },
  {
   "cell_type": "code",
   "execution_count": null,
   "id": "330f018f",
   "metadata": {},
   "outputs": [],
   "source": [
    "## import here\n"
   ]
  },
  {
   "cell_type": "code",
   "execution_count": null,
   "id": "31aa4219",
   "metadata": {},
   "outputs": [],
   "source": [
    "## make the kfold object\n",
    "kfold = "
   ]
  },
  {
   "cell_type": "code",
   "execution_count": null,
   "id": "96f8c4ce",
   "metadata": {},
   "outputs": [],
   "source": [
    "## loop through train sets and test sets\n",
    "i = 1\n",
    "for train_index, test_index in kfold.split(beer_train[['IBU','ABV']], beer_train['Beer_Type']):\n",
    "    ## print the beer type splits\n",
    "    print(\"Split\",i)\n",
    "    print(\"CV Training Set Split\")\n",
    "    print(beer_train.iloc[train_index].Beer_Type.value_counts(normalize=True))\n",
    "    \n",
    "    print()\n",
    "    \n",
    "    print(\"CV Holdout Set Split\")\n",
    "    print(beer_train.iloc[test_index].Beer_Type.value_counts(normalize=True))\n",
    "    \n",
    "    print(\"+++++++++++++++\")\n",
    "    i = i + 1"
   ]
  },
  {
   "cell_type": "markdown",
   "id": "bba91883",
   "metadata": {},
   "source": [
    "Now that we know how to adjust our data splits for categorical data, let's start classifying."
   ]
  },
  {
   "cell_type": "markdown",
   "id": "6d58f6fd",
   "metadata": {},
   "source": [
    "--------------------------\n",
    "\n",
    "This notebook was written for the Erd&#337;s Institute C&#337;de Data Science Boot Camp by Matthew Osborne, Ph. D., 2022.\n",
    "\n",
    "Any potential redistributors must seek and receive permission from Matthew Tyler Osborne, Ph.D. prior to redistribution. Redistribution of the material contained in this repository is conditional on acknowledgement of Matthew Tyler Osborne, Ph.D.'s original authorship and sponsorship of the Erdős Institute as subject to the license (see License.md)"
   ]
  },
  {
   "cell_type": "code",
   "execution_count": null,
   "id": "ef5b84c3",
   "metadata": {},
   "outputs": [],
   "source": []
  }
 ],
 "metadata": {
  "kernelspec": {
   "display_name": "Python 3 (ipykernel)",
   "language": "python",
   "name": "python3"
  },
  "language_info": {
   "codemirror_mode": {
    "name": "ipython",
    "version": 3
   },
   "file_extension": ".py",
   "mimetype": "text/x-python",
   "name": "python",
   "nbconvert_exporter": "python",
   "pygments_lexer": "ipython3",
   "version": "3.9.9"
  }
 },
 "nbformat": 4,
 "nbformat_minor": 5
}
