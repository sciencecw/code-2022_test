{
 "cells": [
  {
   "cell_type": "markdown",
   "id": "fdc4c586",
   "metadata": {},
   "source": [
    "# Baseline Forecasting Models\n",
    "\n",
    "Recall from our regression lessons that an important step in predictive modeling is establishing a baseline model for comparison purposes. Let's introduce a few baseline options for time series forecasting.\n",
    "\n",
    "## What we will accomplish\n",
    "\n",
    "In this notebook we will:\n",
    "- Introduce six baseline models:\n",
    "    - Forecasts for data without trend or seasonality:\n",
    "        - An average or white noise forecast and\n",
    "        - A naive or random walk forecast,\n",
    "    - Forecasts for data with trend but not seasonality:\n",
    "        - A trend forecast and\n",
    "        - A random walk with drift forecast,\n",
    "    - Forecasts for data with seasonality but not trend:\n",
    "        - A seasonal average forecast and\n",
    "        - A seasonal trend forecast\n",
    "- And discuss error measurement for forecasting.\n",
    "\n",
    "### Notation\n",
    "\n",
    "Throughout this notebook we will assume that $y_t$ is a time series, that the training set has $n$ observations and that we are interested in predicting observations at times $t > n$."
   ]
  },
  {
   "cell_type": "code",
   "execution_count": null,
   "id": "bbb16b4e",
   "metadata": {},
   "outputs": [],
   "source": [
    "import pandas as pd\n",
    "import numpy as np\n",
    "import matplotlib.pyplot as plt\n",
    "\n",
    "from datetime import datetime, timedelta\n",
    "from seaborn import set_style\n",
    "from sklearn.metrics import mean_squared_error\n",
    "\n",
    "set_style(\"whitegrid\")"
   ]
  },
  {
   "cell_type": "markdown",
   "id": "ec86ab46",
   "metadata": {},
   "source": [
    "#### Two data sets\n",
    "\n",
    "We will illustrate these forecasts on two data sets. The first is Google's parent company's closing stock price for each trading day from August 19, 2004 to March 25, 2022. This data set comes from <a href=\"https://finance.yahoo.com/\">Yahoo! Finance</a>. The second data set are the weekly seasonal influenza case counts for the United States of America from 1931 to 1950 provided by <a href=\"https://www.tycho.pitt.edu/\">Project Tycho</a>."
   ]
  },
  {
   "cell_type": "markdown",
   "id": "767597e6",
   "metadata": {},
   "source": [
    "## Data without trend or seasonality\n",
    "\n",
    "The first two forecasts are reasonable baselines for data that do not exhibit a trend or seasonality.\n",
    "\n",
    "We will demonstrate their implementation with some Google stock data, even though it appears to exhibit a trend.\n",
    "\n",
    "#### Predicting Google stock prices\n",
    "\n",
    "The data we load below gives the Google parent company stock closing price on every trading day from August 19, 2004 to March 25, 2022."
   ]
  },
  {
   "cell_type": "code",
   "execution_count": null,
   "id": "6ce67b79",
   "metadata": {},
   "outputs": [],
   "source": [
    "## Load the data\n",
    "goog = pd.read_csv(\"../../../Data/google_stock.csv\", parse_dates=['date'])"
   ]
  },
  {
   "cell_type": "code",
   "execution_count": null,
   "id": "96a1d466",
   "metadata": {},
   "outputs": [],
   "source": [
    "## First five entries\n",
    "goog.head()"
   ]
  },
  {
   "cell_type": "code",
   "execution_count": null,
   "id": "c9cebfb1",
   "metadata": {},
   "outputs": [],
   "source": [
    "plt.figure(figsize=(20,8))\n",
    "\n",
    "plt.plot(goog.date, goog.closing_price)\n",
    "\n",
    "plt.xlabel(\"Date\", fontsize=18)\n",
    "plt.ylabel(\"Closing Price\", fontsize=18)\n",
    "\n",
    "plt.xticks(fontsize=14)\n",
    "plt.yticks(fontsize=14)\n",
    "\n",
    "plt.show()"
   ]
  },
  {
   "cell_type": "markdown",
   "id": "c87f032f",
   "metadata": {},
   "source": [
    "We will build baseline models that forecast the closing price for the next two weeks.\n",
    "\n",
    "For simplicity, we will <i>not</i> be performing cross-validation, we will just compare both models to the last 14 trading days in the data set."
   ]
  },
  {
   "cell_type": "code",
   "execution_count": null,
   "id": "2d5c26de",
   "metadata": {},
   "outputs": [],
   "source": [
    "goog_train = goog.iloc[:-14].copy()\n",
    "goog_test = goog.iloc[-14:].copy()"
   ]
  },
  {
   "cell_type": "markdown",
   "id": "2d72e5b5",
   "metadata": {},
   "source": [
    "### An average forecast\n",
    "\n",
    "One baseline is the <i>average forecast</i> which consists of predicting the historical average for every time point in the horizon.\n",
    "\n",
    "Formally our forecast is:\n",
    "\n",
    "$$\n",
    "f(t) = \\left\\lbrace \\begin{array}{l c c} E(y_t) + \\epsilon, & \\text{for} & t > n  \\\\\n",
    "                                        y_t & \\text{for} & t\\leq n\n",
    "                                        \\end{array}\\right.,\n",
    "$$\n",
    "\n",
    "where $\\epsilon$ is an error term and in practice we estimate $E(y_t)$ with:\n",
    "\n",
    "$$\n",
    "\\frac{1}{n}\\sum_{i=1}^n y_i.\n",
    "$$\n",
    "\n",
    "<i>Note for this estimate to be \"good\" the assumption that the $y_t$ are independent and identically distributed</i>.\n",
    "\n",
    "#### White noise\n",
    "\n",
    "The model underlying this forecast assumes that the time series is a purely random process consisting of a sequence of independent identically distributed random variables. In time series such a sequence is often referred to as <i>white noise</i>."
   ]
  },
  {
   "cell_type": "code",
   "execution_count": null,
   "id": "0d988fe5",
   "metadata": {},
   "outputs": [],
   "source": [
    "## Making the average \"prediction\"\n",
    "goog_avg = "
   ]
  },
  {
   "cell_type": "code",
   "execution_count": null,
   "id": "2439a0b0",
   "metadata": {},
   "outputs": [],
   "source": [
    "## Plotting the average prediction with the actual data\n",
    "\n",
    "plt.figure(figsize=(18,8))\n",
    "\n",
    "plt.plot(goog_train.date[-100:],\n",
    "            goog_train.closing_price[-100:],\n",
    "            'b-',\n",
    "            label=\"Training Data\")\n",
    "\n",
    "plt.plot(goog_test.date,\n",
    "            goog_test.closing_price,\n",
    "            'r-',\n",
    "            label=\"Test Data\")\n",
    "\n",
    "plt.plot(goog_test.date,\n",
    "            goog_avg,\n",
    "            'r--',\n",
    "            label=\"Average Prediction\")\n",
    "\n",
    "plt.text(goog_train.date.values[-10],\n",
    "         2980,\n",
    "         \"Prediction MSE = \" + str(np.round(mean_squared_error(goog_test.closing_price.values,\n",
    "                                                                  goog_avg), 2)),\n",
    "         fontsize=18)\n",
    "\n",
    "plt.legend(fontsize=14, loc=2)\n",
    "\n",
    "plt.xticks(fontsize=16)\n",
    "plt.yticks(fontsize=16)\n",
    "\n",
    "plt.show()"
   ]
  },
  {
   "cell_type": "markdown",
   "id": "9d9458fc",
   "metadata": {},
   "source": [
    "### A naive forecast\n",
    "\n",
    "Another baseline you may consider is the <i>naive forecast</i>. In this model your prediction for the entire horizon is just the value of the final observation in your data set.\n",
    "\n",
    "Formally our forecast is:\n",
    "\n",
    "$$\n",
    "f(t) = \\left\\lbrace \\begin{array}{l c c}y_n + \\epsilon, & \\text{for} & t > n  \\\\\n",
    "                                        y_t & \\text{for} & t\\leq n\n",
    "                                        \\end{array}\\right.,\n",
    "$$\n",
    "\n",
    "where $\\epsilon$ is an error term.\n",
    "\n",
    "#### Random walks\n",
    "\n",
    "The underlying statistical model for this forecast is the <i>random walk</i> where a sequence of random variables, $y_1, y_2, \\dots$ are given be:\n",
    "\n",
    "$$\n",
    "y_1 = c, \\ c \\in \\mathbb{R} \\ \\ \\text{ and } \\ \\ y_{t+1} = y_{t} + \\epsilon.\n",
    "$$"
   ]
  },
  {
   "cell_type": "code",
   "execution_count": null,
   "id": "1d6fd1ae",
   "metadata": {},
   "outputs": [],
   "source": [
    "## Making the naive \"prediction\"\n",
    "goog_naive = "
   ]
  },
  {
   "cell_type": "code",
   "execution_count": null,
   "id": "6020cf6b",
   "metadata": {},
   "outputs": [],
   "source": [
    "## Plotting the naive prediction with the actual data\n",
    "\n",
    "plt.figure(figsize=(18,8))\n",
    "\n",
    "plt.plot(goog_train.date[-100:],\n",
    "            goog_train.closing_price[-100:],\n",
    "            'b-',\n",
    "            label=\"Training Data\")\n",
    "\n",
    "plt.plot(goog_test.date,\n",
    "            goog_test.closing_price,\n",
    "            'r-',\n",
    "            label=\"Test Data\")\n",
    "\n",
    "plt.plot(goog_test.date,\n",
    "            goog_naive,\n",
    "            'r--',\n",
    "            label=\"Naive Prediction\")\n",
    "\n",
    "plt.text(goog_train.date.values[-10],\n",
    "         2980,\n",
    "         \"Prediction MSE = \" + str(np.round(mean_squared_error(goog_test.closing_price.values,\n",
    "                                                                  goog_naive), 2)),\n",
    "         fontsize=18)\n",
    "\n",
    "plt.legend(fontsize=14, loc=2)\n",
    "\n",
    "plt.xticks(fontsize=16)\n",
    "plt.yticks(fontsize=16)\n",
    "\n",
    "plt.show()"
   ]
  },
  {
   "cell_type": "markdown",
   "id": "67f2044e",
   "metadata": {},
   "source": [
    "We can see that neither forecast is particularly good, but one is certainly better than the other. This could help color your decision of baseline model. For example, the average model is a poor baseline for this data set because the Google stock price has risen dramatically since its initial public offering, note that this sort of behavior is called a <i>trend</i>."
   ]
  },
  {
   "cell_type": "markdown",
   "id": "478262dd",
   "metadata": {},
   "source": [
    "## Data with trend but no seasonality\n",
    "\n",
    "These two forecasts can serve as decent baselines for data sets with a trend but no seasonality.\n",
    "\n",
    "Again we will demonstrate with the Google data set."
   ]
  },
  {
   "cell_type": "markdown",
   "id": "b1e631f4",
   "metadata": {},
   "source": [
    "### A trend forecast\n",
    "\n",
    "A baseline trend forecast will assume that the time series is a linear function of time plus some random noise, i.e.:\n",
    "\n",
    "$$\n",
    "f(t) = \\left\\lbrace \\begin{array}{l c c} \\beta t + \\epsilon, & \\text{for} & t > n  \\\\\n",
    "                                        y_t & \\text{for} & t\\leq n\n",
    "                                        \\end{array}\\right.,\n",
    "$$\n",
    "\n",
    "where $\\beta \\in \\mathbb{R}$ and $\\epsilon$ is a random error term. <i>Note that you could also forecast with an intercept term as well</i>.\n",
    "\n",
    "#### Underlying statistical model\n",
    "\n",
    "Here the statistical model is similar to white noise, but instead of the random variables being independent of time we assume that the expectation of the random variable is linear in time, i.e. $E(y_t) = \\beta t$. We can think of this as a trend extension of the average model described above.\n",
    "\n",
    "#### Fitting the model\n",
    "\n",
    "To estimate $\\beta$ we can take the arithmetic mean of the <i>first differences</i>, which are $y_{t+1} - y_t$ for all values $t\\leq n-1$. <i>If you are assuming a model with intercept you could just fit a linear regression model using the time point as the feature you are regressing on</i>."
   ]
  },
  {
   "cell_type": "code",
   "execution_count": null,
   "id": "7ecffe95",
   "metadata": {},
   "outputs": [],
   "source": [
    "## You can get sequential differences using .diff()\n",
    "first_diffs = "
   ]
  },
  {
   "cell_type": "code",
   "execution_count": null,
   "id": "38e14387",
   "metadata": {},
   "outputs": [],
   "source": [
    "## Not\n",
    "first_diffs"
   ]
  },
  {
   "cell_type": "code",
   "execution_count": null,
   "id": "47f9b140",
   "metadata": {},
   "outputs": [],
   "source": [
    "beta_hat = \n",
    "\n",
    "trend_pred = beta_hat*np.arange(len(goog_train), len(goog_train)+len(goog_test))"
   ]
  },
  {
   "cell_type": "code",
   "execution_count": null,
   "id": "af3ca45b",
   "metadata": {},
   "outputs": [],
   "source": [
    "## Plotting the naive prediction with the actual data\n",
    "\n",
    "\n",
    "plt.figure(figsize=(18,8))\n",
    "\n",
    "plt.plot(goog_train.date[-100:],\n",
    "            goog_train.closing_price[-100:],\n",
    "            'b-',\n",
    "            label=\"Training Data\")\n",
    "\n",
    "plt.plot(goog_test.date,\n",
    "            goog_test.closing_price,\n",
    "            'r-',\n",
    "            label=\"Test Data\")\n",
    "\n",
    "plt.plot(goog_test.date,\n",
    "            trend_pred,\n",
    "            'r--',\n",
    "            label=\"Trend Forecast Prediction\")\n",
    "\n",
    "plt.text(goog_train.date.values[-10],\n",
    "         2980,\n",
    "         \"Prediction MSE = \" + str(np.round(mean_squared_error(goog_test.closing_price.values,\n",
    "                                                                  trend_pred), 2)),\n",
    "         fontsize=18)\n",
    "\n",
    "plt.legend(fontsize=14, loc=2)\n",
    "\n",
    "plt.xticks(fontsize=16)\n",
    "plt.yticks(fontsize=16)\n",
    "\n",
    "plt.show()"
   ]
  },
  {
   "cell_type": "markdown",
   "id": "98b3ff4c",
   "metadata": {},
   "source": [
    "While this is still not a great fit, it is an improvement on the average model."
   ]
  },
  {
   "cell_type": "markdown",
   "id": "8a07a258",
   "metadata": {},
   "source": [
    "### A random walk with drift\n",
    "\n",
    "This forecast is an extension of the naive forecast from above:\n",
    "\n",
    "$$\n",
    "f(t) = \\left\\lbrace \\begin{array}{l c c} y_n + \\beta*(t-n) + \\epsilon, & \\text{for} & t > n  \\\\\n",
    "                                        y_t & \\text{for} & t\\leq n\n",
    "                                        \\end{array}\\right.,\n",
    "$$\n",
    "\n",
    "where $\\beta \\in \\mathbb{R}$ and $\\epsilon$ is random noise.\n",
    "\n",
    "#### Underlying statistical model\n",
    "\n",
    "The model underlying this forecast is known as a <i>random walk with drift</i> where a sequence of random variables, $y_1, y_2, \\dots$ are given be:\n",
    "\n",
    "$$\n",
    "y_1 = c, \\ c \\in \\mathbb{R} \\ \\ \\text{ and } \\ \\ y_{t+1} = y_{t} + \\beta + \\epsilon.\n",
    "$$\n",
    "\n",
    "#### Estimating $\\beta$\n",
    "\n",
    "We can again estimate $\\beta$ with the arithmetic mean of the first differences."
   ]
  },
  {
   "cell_type": "code",
   "execution_count": null,
   "id": "910636cc",
   "metadata": {},
   "outputs": [],
   "source": [
    "beta_hat = goog_train.closing_price.diff().mean()\n",
    "\n",
    "drift_pred = goog_train.closing_price.values[-1] + beta_hat*np.arange(1,len(goog_test) + 1)"
   ]
  },
  {
   "cell_type": "code",
   "execution_count": null,
   "id": "5ade4e12",
   "metadata": {},
   "outputs": [],
   "source": [
    "## Plotting the naive prediction with the actual data\n",
    "\n",
    "\n",
    "plt.figure(figsize=(18,8))\n",
    "\n",
    "plt.plot(goog_train.date[-100:],\n",
    "            goog_train.closing_price[-100:],\n",
    "            'b-',\n",
    "            label=\"Training Data\")\n",
    "\n",
    "plt.plot(goog_test.date,\n",
    "            goog_test.closing_price,\n",
    "            'r-',\n",
    "            label=\"Test Data\")\n",
    "\n",
    "plt.plot(goog_test.date,\n",
    "            drift_pred,\n",
    "            'r--',\n",
    "            label=\"Trend Forecast Prediction\")\n",
    "\n",
    "plt.text(goog_train.date.values[-10],\n",
    "         2980,\n",
    "         \"Prediction MSE = \" + str(np.round(mean_squared_error(goog_test.closing_price.values,\n",
    "                                                                  drift_pred), 2)),\n",
    "         fontsize=18)\n",
    "\n",
    "plt.legend(fontsize=14, loc=2)\n",
    "\n",
    "plt.xticks(fontsize=16)\n",
    "plt.yticks(fontsize=16)\n",
    "\n",
    "plt.show()"
   ]
  },
  {
   "cell_type": "markdown",
   "id": "d1ddd4c0",
   "metadata": {},
   "source": [
    "Probably our best baseline so far."
   ]
  },
  {
   "cell_type": "markdown",
   "id": "2bb00a13",
   "metadata": {},
   "source": [
    "## Data with seasonality but no trend\n",
    "\n",
    "These forecasts may be useful for baseline comparisons on data with seasonality but no trend.\n",
    "\n",
    "We will demonstrate how these models are implemented with a seasonal influenza data set."
   ]
  },
  {
   "cell_type": "markdown",
   "id": "938407d6",
   "metadata": {},
   "source": [
    "#### Predicting US seasonal influenza incidence\n",
    "\n",
    "Let's visualize the influenza data set now."
   ]
  },
  {
   "cell_type": "code",
   "execution_count": null,
   "id": "dbcacfb8",
   "metadata": {},
   "outputs": [],
   "source": [
    "flu = pd.read_csv(\"../../../Data/us_flu_1928_1948.csv\", parse_dates=['date'])"
   ]
  },
  {
   "cell_type": "code",
   "execution_count": null,
   "id": "a8cb5c52",
   "metadata": {},
   "outputs": [],
   "source": [
    "plt.figure(figsize=(20,8))\n",
    "\n",
    "plt.plot(flu.date, flu.cases)\n",
    "\n",
    "plt.xlabel(\"Date\", fontsize=18)\n",
    "plt.ylabel(\"New Seasonal Influenza Cases\", fontsize=18)\n",
    "\n",
    "plt.xticks([datetime(1928,1,1) + timedelta(days=365*i) for i in range(21)],\n",
    "           [str(i) for i in range(1928, 1949)],\n",
    "           fontsize=14)\n",
    "plt.yticks(fontsize=14)\n",
    "\n",
    "plt.show()"
   ]
  },
  {
   "cell_type": "markdown",
   "id": "008bdabc",
   "metadata": {},
   "source": [
    "As we can see, this data exhibits a yearly pattern. New cases tend to increase at the end or beginning of each year and peak in the first quarter, declining afterward. This cycle occurs on a yearly basis. Time series that exhibit this kind of behavior are said to exhibit <i>seasonality</i>.\n",
    "\n",
    "When we believe that our time series is seasonal we can use this knowledge to update our previous baseline models in an attempt to improve them.\n",
    "\n",
    "We will use our two models to predict the new influenza cases in each week of 1947."
   ]
  },
  {
   "cell_type": "code",
   "execution_count": null,
   "id": "bf9f2cf4",
   "metadata": {},
   "outputs": [],
   "source": [
    "flu_train = flu.loc[flu.year!=1947].copy()\n",
    "flu_test = flu.loc[flu.year==1947].copy()"
   ]
  },
  {
   "cell_type": "markdown",
   "id": "783d6717",
   "metadata": {},
   "source": [
    "## Seasonal average forecast\n",
    "\n",
    "For each time step in the horizon the <i>seasonal average forecast</i> predicts the average value over all corresponding points in the season from the training set.\n",
    "\n",
    "For example, to predict the new cases week $17$ of 1947 we would find the average value of all week $17$s that occur in our data set.\n",
    "\n",
    "Formally our model is:\n",
    "\n",
    "$$\n",
    "f(t) = \\left\\lbrace \\begin{array}{l c c}\\frac{1}{\\left\\lfloor n/m \\right\\rfloor + 1} \\sum_{i=0}^{\\left\\lfloor n/m \\right\\rfloor} y_{t\\%m + i*m} + \\epsilon, & \\text{for} & t > n  \\\\\n",
    "                                        y_t & \\text{for} & t\\leq n\n",
    "                                        \\end{array}\\right.,\n",
    "$$\n",
    "\n",
    "where $\\lfloor \\bullet \\rfloor$ again denotes the floor function, $\\%$ denotes modular division and $\\epsilon$ is an error term.\n",
    "\n",
    "#### Underlying statistical model\n",
    "\n",
    "This is a seasonal extension of the average forecast from above. The underlying model assumes that each step in the season represents its own white noise sequence, whose expected value we estimate with step wise arithmetic means."
   ]
  },
  {
   "cell_type": "code",
   "execution_count": null,
   "id": "016440cc",
   "metadata": {},
   "outputs": [],
   "source": [
    "flu_train.head()"
   ]
  },
  {
   "cell_type": "code",
   "execution_count": null,
   "id": "eabb514b",
   "metadata": {},
   "outputs": [],
   "source": [
    "## get the average model predictions\n",
    "flu_avg = []\n",
    "\n",
    "for week in range(1,53):\n",
    "    "
   ]
  },
  {
   "cell_type": "code",
   "execution_count": null,
   "id": "5e069769",
   "metadata": {},
   "outputs": [],
   "source": [
    "## Plotting the naive prediction with the actual data\n",
    "\n",
    "plt.figure(figsize=(18,8))\n",
    "\n",
    "plt.plot(flu_train.date.values[-6*52:],\n",
    "            flu_train.cases.values[-6*52:],\n",
    "            'b-',\n",
    "            label=\"Training Data\")\n",
    "\n",
    "plt.plot(flu_test.date,\n",
    "            flu_test.cases,\n",
    "            'r-',\n",
    "            label=\"Test Data\")\n",
    "\n",
    "plt.plot(flu_test.date,\n",
    "            flu_avg,\n",
    "            'r--',\n",
    "            label=\"Average Prediction\")\n",
    "\n",
    "plt.text(datetime(1946, 3,1),\n",
    "         120000,\n",
    "         \"Prediction MSE = \" + str(np.round(mean_squared_error(flu_test.cases.values,\n",
    "                                                                  flu_avg), 2)),\n",
    "         fontsize=18)\n",
    "\n",
    "plt.legend(fontsize=14, loc=2)\n",
    "\n",
    "plt.xticks(fontsize=16)\n",
    "plt.yticks(fontsize=16)\n",
    "\n",
    "plt.show()"
   ]
  },
  {
   "cell_type": "markdown",
   "id": "6b7c2d59",
   "metadata": {},
   "source": [
    "## Seasonal naive model\n",
    "\n",
    "For each time step in the forecast horizon the <i>seasonal naive forecast</i> predicts the value from the corresponding point in the most recent season of the training data.\n",
    "\n",
    "To be precise, suppose that a \"season\" for the time series is $m$ time steps. Then our model is:\n",
    "\n",
    "$$\n",
    "f(t) = \\left\\lbrace \\begin{array}{l c c}y_\\tau + \\epsilon, & \\text{for} & t > n  \\\\\n",
    "                                        y_t & \\text{for} & t\\leq n\n",
    "                                        \\end{array}\\right.,\n",
    "$$\n",
    "\n",
    "where \n",
    "\n",
    "$$\n",
    "\\tau = t - \\left(\\left\\lfloor \\frac{t - n}{m} \\right\\rfloor + 1\\right) m, \\text{ with } \\lfloor \\bullet \\rfloor \\text{ denoting the floor function and}\n",
    "$$\n",
    "\n",
    "$\\epsilon$ is an error term.\n",
    "\n",
    "For example, if $m=6$, $n=12$ and $t=19$, then you would predict the value at step $7$, or $y_7$.\n",
    "\n",
    "#### Underlying model\n",
    "\n",
    "This is a seasonal extension of the random walk model, where we can think of each step in the season's cycle as its own random walk sequence.\n",
    "\n",
    "#### Cycle length for influenza data \n",
    "\n",
    "Influenza has a season equivalent to about $1$ year, or approximately $52$ weeks (this data set has been cleaned so that each year has $52$ weeks). To demonstrate the model we will predict influenza cases in the final year of the data set. So for our model we will just need to use the value in each corresponding week in 1949."
   ]
  },
  {
   "cell_type": "code",
   "execution_count": null,
   "id": "9c3d2f44",
   "metadata": {},
   "outputs": [],
   "source": [
    "flu_naive = "
   ]
  },
  {
   "cell_type": "code",
   "execution_count": null,
   "id": "bb4640a9",
   "metadata": {},
   "outputs": [],
   "source": [
    "## Plotting the naive prediction with the actual data\n",
    "\n",
    "plt.figure(figsize=(18,8))\n",
    "\n",
    "plt.plot(flu_train.date[-6*52:],\n",
    "            flu_train.cases[-6*52:],\n",
    "            'b-',\n",
    "            label=\"Training Data\")\n",
    "\n",
    "plt.plot(flu_test.date,\n",
    "            flu_test.cases,\n",
    "            'r-',\n",
    "            label=\"Test Data\")\n",
    "\n",
    "plt.plot(flu_test.date,\n",
    "            flu_naive,\n",
    "            'r--',\n",
    "            label=\"Average Prediction\")\n",
    "\n",
    "plt.text(datetime(1946, 3,1),\n",
    "         120000,\n",
    "         \"Prediction MSE = \" + str(np.round(mean_squared_error(flu_test.cases.values,\n",
    "                                                                  flu_naive), 2)),\n",
    "         fontsize=18)\n",
    "\n",
    "plt.legend(fontsize=14, loc=2)\n",
    "\n",
    "plt.xticks(fontsize=16)\n",
    "plt.yticks(fontsize=16)\n",
    "\n",
    "plt.show()"
   ]
  },
  {
   "cell_type": "markdown",
   "id": "32e0d2f7",
   "metadata": {},
   "source": [
    "Again we can see that neither of these forecasts are particularly good. In this case the reason is twofold. First the height of the peak of flu season is not consistent. Sometimes you will have mild seasons and other times you will have harsh seasons. Peak occurrence is also inconsistent. Some seasons the peak occurs before the new year, while it occurs after the new year in others."
   ]
  },
  {
   "cell_type": "markdown",
   "id": "4742706d",
   "metadata": {},
   "source": [
    "## Wrapping up\n",
    "\n",
    "You now have six baselines to choose from depending on your data. While we did not cover baseline options for time series that exhibit both a trend and seasonality, there are extensions of the white noise and random walk models that can be used to produce forecasts for such data. This extension is left to the corresponding `Practice Problems` notebook."
   ]
  },
  {
   "cell_type": "markdown",
   "id": "c9cdaf45",
   "metadata": {},
   "source": [
    "--------------------------\n",
    "\n",
    "This notebook was written for the Erd&#337;s Institute C&#337;de Data Science Boot Camp by Matthew Osborne, Ph. D., 2022.\n",
    "\n",
    "Any potential redistributors must seek and receive permission from Matthew Tyler Osborne, Ph.D. prior to redistribution. Redistribution of the material contained in this repository is conditional on acknowledgement of Matthew Tyler Osborne, Ph.D.'s original authorship and sponsorship of the Erdős Institute as subject to the license (see License.md)"
   ]
  }
 ],
 "metadata": {
  "kernelspec": {
   "display_name": "Python 3 (ipykernel)",
   "language": "python",
   "name": "python3"
  },
  "language_info": {
   "codemirror_mode": {
    "name": "ipython",
    "version": 3
   },
   "file_extension": ".py",
   "mimetype": "text/x-python",
   "name": "python",
   "nbconvert_exporter": "python",
   "pygments_lexer": "ipython3",
   "version": "3.9.9"
  }
 },
 "nbformat": 4,
 "nbformat_minor": 5
}
