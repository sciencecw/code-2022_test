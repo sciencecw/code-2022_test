{
 "cells": [
  {
   "cell_type": "markdown",
   "id": "a13b7295",
   "metadata": {},
   "source": [
    "# Next Steps for Time Series\n",
    "\n",
    "In this section we have touched on some of the most basic concepts regarding time series analysis and forecasting. While we do present additional content in the time series `Problem Sessions` and `Practice Problems` notebooks, you may wish to get more detailed information on this subject.\n",
    "\n",
    "## Theoretical Books\n",
    "\n",
    "Two useful books that tilt toward the theoretical side of things are:\n",
    "\n",
    "1. <a href=\"http://site.iugaza.edu.ps/nbarakat/files/2010/02/Analysis_of_Time_Series_An_Introduction.pdf\">The Analysis of Time Series</a>, by Chris Chatfield and\n",
    "\n",
    "2. <a href=\"https://mybiostats.files.wordpress.com/2015/03/time-series-analysis-and-its-applications-with-examples-in-r.pdf\">Time Series Analysis & its Applications</a>, by Robert H. Shumway and David S. Stoffer.\n",
    "\n",
    "## Python packages\n",
    "\n",
    "We exclusively used `statsmodels`'s `tsa` module, <a href=\"https://www.statsmodels.org/devel/tsa.html\">https://www.statsmodels.org/devel/tsa.html</a>, in these notes, but there are other approaches to building time series forecasts in python. Here is a nice list that GitHub user MaxBenChrist compiled, <a href=\"https://github.com/MaxBenChrist/awesome_time_series_in_python\">https://github.com/MaxBenChrist/awesome_time_series_in_python</a>."
   ]
  },
  {
   "cell_type": "markdown",
   "id": "454370c9",
   "metadata": {},
   "source": [
    "--------------------------\n",
    "\n",
    "This notebook was written for the Erd&#337;s Institute C&#337;de Data Science Boot Camp by Matthew Osborne, Ph. D., 2022.\n",
    "\n",
    "Any potential redistributors must seek and receive permission from Matthew Tyler Osborne, Ph.D. prior to redistribution. Redistribution of the material contained in this repository is conditional on acknowledgement of Matthew Tyler Osborne, Ph.D.'s original authorship and sponsorship of the Erdős Institute as subject to the license (see License.md)"
   ]
  },
  {
   "cell_type": "code",
   "execution_count": null,
   "id": "ac55b867",
   "metadata": {},
   "outputs": [],
   "source": []
  }
 ],
 "metadata": {
  "kernelspec": {
   "display_name": "Python 3 (ipykernel)",
   "language": "python",
   "name": "python3"
  },
  "language_info": {
   "codemirror_mode": {
    "name": "ipython",
    "version": 3
   },
   "file_extension": ".py",
   "mimetype": "text/x-python",
   "name": "python",
   "nbconvert_exporter": "python",
   "pygments_lexer": "ipython3",
   "version": "3.9.9"
  }
 },
 "nbformat": 4,
 "nbformat_minor": 5
}
