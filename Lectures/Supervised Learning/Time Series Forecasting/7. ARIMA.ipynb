{
 "cells": [
  {
   "cell_type": "markdown",
   "id": "6a8d4ad8",
   "metadata": {},
   "source": [
    "# ARIMA\n",
    "\n",
    "We learn one last forecasting model, ARIMA.\n",
    "\n",
    "## What we will accomplish\n",
    "\n",
    "In this notebook we will:\n",
    "- Touch on autoregressive models,\n",
    "- Combine autoregressive models with moving average models and differencing,\n",
    "- Introduce the ARIMA model,\n",
    "- Mention why stationarity is important and\n",
    "- Demonstrate how to fit an ARIMA model in python."
   ]
  },
  {
   "cell_type": "code",
   "execution_count": null,
   "id": "a8b133ff",
   "metadata": {},
   "outputs": [],
   "source": [
    "import pandas as pd\n",
    "import numpy as np\n",
    "import matplotlib.pyplot as plt\n",
    "\n",
    "from datetime import datetime, timedelta\n",
    "from seaborn import set_style\n",
    "set_style(\"whitegrid\")"
   ]
  },
  {
   "cell_type": "markdown",
   "id": "08a271f2",
   "metadata": {},
   "source": [
    "ARIMA models consist of three key components, we touched on the first of these, moving average models, in our `Averaging and Smoothing` notebook. A component we have not discussed are autoregressive models.\n",
    "\n",
    "## Autoregressive (AR) models\n",
    "\n",
    "An <i>autoregressive model</i> is one in which you regress onto previous observations of the time series. Specifically if $\\left\\lbrace y_t \\right\\rbrace$ is a time series then an autoregressive model of order $p$ is:\n",
    "\n",
    "$$\n",
    "y_t = \\alpha_1 y_{t-1} + \\dots + \\alpha_{p} y_{t-p} + \\epsilon_t,\n",
    "$$\n",
    "\n",
    "where $\\alpha_i$ are parameters to be fit and $\\epsilon_t$ is random noise. We sometimes denote this as an $\\text{AR}(p)$ process.\n",
    "\n",
    "In the case when $p=1$ we have:\n",
    "\n",
    "$$\n",
    "y_t = \\alpha y_{t-1} + \\epsilon_t,\n",
    "$$\n",
    "\n",
    "which is known as a Markov process.\n",
    "\n",
    "We will not explicitly demonstrate how to fit autoregressive models in python because it is a special case of an ARIMA model."
   ]
  },
  {
   "cell_type": "markdown",
   "id": "2809d3ae",
   "metadata": {},
   "source": [
    "## ARMA models\n",
    "\n",
    "The statistical basis for ARIMA models is the combination of AR (autoregressive) and MA (moving average) statistical models.\n",
    "\n",
    "Recall that the statistical model underlying an $\\text{MA}(q)$ forecast is:\n",
    "\n",
    "$$\n",
    "y_t = \\beta_0 \\epsilon_t + \\beta_1 \\epsilon_{t-1} + \\dots + \\beta_q \\epsilon_{t-q},\n",
    "$$\n",
    "\n",
    "where $\\left\\lbrace \\epsilon_t \\right\\rbrace$ is a sequence of independent identically distributed random variables with mean zero and a set variance.\n",
    "\n",
    "Combining an $\\text{AR}(p)$ and $\\text{MA}(q)$ sequence gives an $\\text{ARMA}(p,q)$ process, that is:\n",
    "\n",
    "$$\n",
    "y_t = \\alpha_1 y_{t-1} + \\dots + \\alpha_{p} y_{t-p} + \\beta_0 \\epsilon_t + \\beta_1 \\epsilon_{t-1} + \\dots + \\beta_q \\epsilon_{t-q}.\n",
    "$$\n",
    "\n",
    "From this we can see that if $p=0$, then we have a $\\text{MA}(q)$ process, while if $q=0$ we have an $\\text{AR}(p)$ process.\n",
    "\n",
    "We should note that any $\\text{ARMA}(p,q)$ process is a stationary time series. If the time series you are attempting to forecast <b>is not</b> stationary, it will not give a good fit or forecast in the long run. This leads to the final component of the ARIMA model."
   ]
  },
  {
   "cell_type": "markdown",
   "id": "cef1250f",
   "metadata": {},
   "source": [
    "## ARIMA\n",
    "\n",
    "In our `Stationarity and Autocorrelation` notebook we demonstrated how differencing can be used to produce a stationary time series from a non-stationary one. Differencing is thus the third component of the Autoregressive Integrated Moving Average (ARIMA) model. \n",
    "\n",
    "An ARIMA model first performs differencing on the original time series and then fits an ARMA model to that differenced series. In practice we say that we are fitting an $\\text{ARIMA}(p,d,q)$ model. Here $p$ references the number of $\\text{AR}$ terms, $q$ references the number of $\\text{MA}$ terms and $d$ the number of differences you applied to the original time series.\n",
    "\n",
    "### In python\n",
    "\n",
    "We can fit such a model using `statsmodels`'s `SARIMAX` model object, <a href=\"https://www.statsmodels.org/dev/generated/statsmodels.tsa.statespace.sarimax.SARIMAX.html\">https://www.statsmodels.org/dev/generated/statsmodels.tsa.statespace.sarimax.SARIMAX.html</a>.\n",
    "\n",
    "<i>Note: we use this model object because it is the more general version of the ARIMA model that can accomodate seasonal data. Also it allows us to set the maxinum number of iterations on the fitting algorithm.</i>"
   ]
  },
  {
   "cell_type": "code",
   "execution_count": null,
   "id": "3e2eca75",
   "metadata": {},
   "outputs": [],
   "source": [
    "## Import SARIMAX from tsa.api\n"
   ]
  },
  {
   "cell_type": "code",
   "execution_count": null,
   "id": "66698eba",
   "metadata": {},
   "outputs": [],
   "source": [
    "## Load the google data\n",
    "goog = pd.read_csv(\"../../../Data/google_stock.csv\", parse_dates=['date'])"
   ]
  },
  {
   "cell_type": "code",
   "execution_count": null,
   "id": "0ee857e3",
   "metadata": {},
   "outputs": [],
   "source": [
    "## train test split\n",
    "goog_train = goog.iloc[:-14].copy()\n",
    "goog_test = goog.iloc[-14:].copy()"
   ]
  },
  {
   "cell_type": "code",
   "execution_count": null,
   "id": "83beb3ba",
   "metadata": {
    "scrolled": true
   },
   "outputs": [],
   "source": [
    "## Making and fitting the model\n",
    "## Call SARIMAX\n",
    "## then the training data\n",
    "## then give the order here we choose (5,1,5)\n",
    "## call .fit, I have increased the number of iterations\n",
    "## for the fitting algorithm\n",
    "arima = "
   ]
  },
  {
   "cell_type": "code",
   "execution_count": null,
   "id": "70a7edfb",
   "metadata": {},
   "outputs": [],
   "source": [
    "plt.figure(figsize=(20,8))\n",
    "\n",
    "\n",
    "plt.plot(goog_train.date[-75:], \n",
    "         goog_train.closing_price[-75:],\n",
    "         'b',\n",
    "         label=\"Training Data\")\n",
    "\n",
    "\n",
    "## We can get the fitted values with fittedvalues\n",
    "plt.plot(goog_train.date[-75:], \n",
    "         arima.fittedvalues[-75:],\n",
    "         'g--',\n",
    "         label=\"ARIMA(5,1,5) Fit\")\n",
    "\n",
    "plt.plot(goog_test.date, \n",
    "         goog_test.closing_price,\n",
    "         'r',\n",
    "         label=\"Test Data\")\n",
    "\n",
    "## We can get the forecast with .forecast(h)\n",
    "plt.plot(goog_test.date, \n",
    "         arima.forecast(14),\n",
    "         'r--o',\n",
    "         label=\"ARIMA(5,1,5) Forecast\")\n",
    "\n",
    "plt.xlabel(\"Date\", fontsize=18)\n",
    "plt.ylabel(\"Closing Price\", fontsize=18)\n",
    "\n",
    "plt.xticks(fontsize=14)\n",
    "plt.yticks(fontsize=14)\n",
    "\n",
    "plt.legend(fontsize=14, loc=3)\n",
    "\n",
    "plt.show()"
   ]
  },
  {
   "cell_type": "markdown",
   "id": "4e524a38",
   "metadata": {},
   "source": [
    "This is how to make an ARIMA forecast is python. The procedure of choosing the correct parameters will be covered in greater depth in a `Problem Session` notebook.\n",
    "\n",
    "Also we can extend the ARIMA model for seasonal data, but we leave the details to the corresponding `Practice Problems` notebook."
   ]
  },
  {
   "cell_type": "markdown",
   "id": "120e74ba",
   "metadata": {},
   "source": [
    "--------------------------\n",
    "\n",
    "This notebook was written for the Erd&#337;s Institute C&#337;de Data Science Boot Camp by Matthew Osborne, Ph. D., 2022.\n",
    "\n",
    "Any potential redistributors must seek and receive permission from Matthew Tyler Osborne, Ph.D. prior to redistribution. Redistribution of the material contained in this repository is conditional on acknowledgement of Matthew Tyler Osborne, Ph.D.'s original authorship and sponsorship of the Erdős Institute as subject to the license (see License.md)"
   ]
  },
  {
   "cell_type": "code",
   "execution_count": null,
   "id": "f5c1aa9c",
   "metadata": {},
   "outputs": [],
   "source": []
  }
 ],
 "metadata": {
  "kernelspec": {
   "display_name": "Python 3 (ipykernel)",
   "language": "python",
   "name": "python3"
  },
  "language_info": {
   "codemirror_mode": {
    "name": "ipython",
    "version": 3
   },
   "file_extension": ".py",
   "mimetype": "text/x-python",
   "name": "python",
   "nbconvert_exporter": "python",
   "pygments_lexer": "ipython3",
   "version": "3.9.9"
  }
 },
 "nbformat": 4,
 "nbformat_minor": 5
}
