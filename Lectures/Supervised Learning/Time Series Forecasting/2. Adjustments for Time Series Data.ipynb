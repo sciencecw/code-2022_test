{
 "cells": [
  {
   "cell_type": "markdown",
   "id": "2c2b0a2e",
   "metadata": {},
   "source": [
    "# Adjustments for Time Series Data\n",
    "\n",
    "The sequential nature of time series data necessitates a number of adjustments to the supervised learning techniques we have learned up to this point.\n",
    "\n",
    "## What we will accomplish\n",
    "\n",
    "In this notebook we will:\n",
    "- Define the horizon of a forecast and\n",
    "- Discuss adjustments to data splitting techniques for time series data."
   ]
  },
  {
   "cell_type": "code",
   "execution_count": null,
   "id": "74772a82",
   "metadata": {},
   "outputs": [],
   "source": [
    "import numpy as np\n",
    "import matplotlib.pyplot as plt\n",
    "from seaborn import set_style\n",
    "\n",
    "set_style(\"whitegrid\")\n",
    "np.random.seed(440)"
   ]
  },
  {
   "cell_type": "markdown",
   "id": "c024de24",
   "metadata": {},
   "source": [
    "## Data split adjustments for time series\n",
    "\n",
    "The temporal nature of time series data changes how we will approach data splits. When creating splits for time series you have to respect the sequence of observations, meaning that we cannot just randomly split the data as we have done up to this point. Random splits could result in us training a model on data points that have occurred after the points we are trying to predict, essentially using the future to predict the past, Great Scott!\n",
    "\n",
    "### Train test and validation splits\n",
    "\n",
    "In forecasting we typically have a set timeframe into the future that we would like to predict. The number of steps forward we want to be able to forecast, say $h$, is know as our forecast's <i>horizon</i>. \n",
    "\n",
    "In train test splits (or validation splits) for time series you set aside the last one, two or three horizon's worth of data for your test (or validation) set. To illustrate see this image with 12 observations.\n",
    "\n",
    "<img src=\"time_train_test.png\" width=\"80%\"></img>\n",
    "\n",
    "For a horizon of $h=2$ (or $h=4$) we set aside the last four red circles as our test set and use the first eight blue circles as our training set.\n",
    "\n",
    "#### In python\n",
    "\n",
    "Typically we do not need special functions or objects to do this for us. If our data is arranged according to observation we can make the split using simple indexing."
   ]
  },
  {
   "cell_type": "markdown",
   "id": "fa6a3ea1",
   "metadata": {},
   "source": [
    "### Cross-validation\n",
    "\n",
    "Cross-validation for forecasting works in much the same way as the train-test split described above. For each of the $k$ splits you incrementally add the next $h$ or $2h$ observations.\n",
    "\n",
    "An example with $h=3$ and $k=5$ is shown below.\n",
    "\n",
    "<img src=\"time_cv.png\" width=\"100%\"></img>\n",
    "\n",
    "#### In python\n",
    "\n",
    "Again we could implement this in python by hand, however, `sklearn` has a nice time series cross-validation object we can use instead called `TimeSeriesSplit`, <a href=\"https://scikit-learn.org/stable/modules/generated/sklearn.model_selection.TimeSeriesSplit.html\">https://scikit-learn.org/stable/modules/generated/sklearn.model_selection.TimeSeriesSplit.html</a>."
   ]
  },
  {
   "cell_type": "code",
   "execution_count": null,
   "id": "aa603329",
   "metadata": {},
   "outputs": [],
   "source": [
    "## Import TimeSeriesSplit\n"
   ]
  },
  {
   "cell_type": "markdown",
   "id": "82f8efdc",
   "metadata": {},
   "source": [
    "We will demonstrate the use of `TimeSeriesSplit` on a fake time series array."
   ]
  },
  {
   "cell_type": "code",
   "execution_count": null,
   "id": "77460bb6",
   "metadata": {},
   "outputs": [],
   "source": [
    "series = np.random.choice([-1,1], 100, replace=True).cumsum()"
   ]
  },
  {
   "cell_type": "code",
   "execution_count": null,
   "id": "39d30c14",
   "metadata": {},
   "outputs": [],
   "source": [
    "plt.figure(figsize=(8,6))\n",
    "\n",
    "plt.plot(range(100),\n",
    "            series)\n",
    "\n",
    "plt.xlabel(\"Time Step\", fontsize=16)\n",
    "plt.ylabel(\"Time Series Value\", fontsize=16)\n",
    "\n",
    "plt.show()"
   ]
  },
  {
   "cell_type": "code",
   "execution_count": null,
   "id": "074b62bc",
   "metadata": {},
   "outputs": [],
   "source": [
    "## First we make a split object\n",
    "\n",
    "## n_splits is the number of splits, here we use 5\n",
    "## test_size limits the size of the holdout set, here we'll imagine \n",
    "## we are using a horizon of 14 (test_size=14)\n",
    "kfold = "
   ]
  },
  {
   "cell_type": "code",
   "execution_count": null,
   "id": "d8540dbe",
   "metadata": {},
   "outputs": [],
   "source": [
    "## Now we can use this just like a kfold object\n",
    "\n",
    "for train_index, test_index in kfold.split(series):\n",
    "    print(\"TRAIN INDEX:\", train_index)\n",
    "    print(\"TEST INDEX:\", test_index)\n",
    "    print()\n",
    "    print()"
   ]
  },
  {
   "cell_type": "markdown",
   "id": "8d647c7c",
   "metadata": {},
   "source": [
    "That's it!"
   ]
  },
  {
   "cell_type": "markdown",
   "id": "8954c46d",
   "metadata": {},
   "source": [
    "--------------------------\n",
    "\n",
    "This notebook was written for the Erd&#337;s Institute C&#337;de Data Science Boot Camp by Matthew Osborne, Ph. D., 2022.\n",
    "\n",
    "Any potential redistributors must seek and receive permission from Matthew Tyler Osborne, Ph.D. prior to redistribution. Redistribution of the material contained in this repository is conditional on acknowledgement of Matthew Tyler Osborne, Ph.D.'s original authorship and sponsorship of the Erdős Institute as subject to the license (see License.md)"
   ]
  },
  {
   "cell_type": "code",
   "execution_count": null,
   "id": "1d262d2b",
   "metadata": {},
   "outputs": [],
   "source": []
  }
 ],
 "metadata": {
  "kernelspec": {
   "display_name": "Python 3 (ipykernel)",
   "language": "python",
   "name": "python3"
  },
  "language_info": {
   "codemirror_mode": {
    "name": "ipython",
    "version": 3
   },
   "file_extension": ".py",
   "mimetype": "text/x-python",
   "name": "python",
   "nbconvert_exporter": "python",
   "pygments_lexer": "ipython3",
   "version": "3.9.9"
  }
 },
 "nbformat": 4,
 "nbformat_minor": 5
}
