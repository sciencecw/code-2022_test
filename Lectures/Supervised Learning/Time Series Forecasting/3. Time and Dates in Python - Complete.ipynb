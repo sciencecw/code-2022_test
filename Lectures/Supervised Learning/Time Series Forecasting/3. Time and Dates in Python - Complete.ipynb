{
 "cells": [
  {
   "cell_type": "markdown",
   "id": "988d79cf",
   "metadata": {},
   "source": [
    "# Time and Dates in Python\n",
    "\n",
    "Time and date data are not precisely the same as integers, strings and floats. Here we will introduce a couple of ways that python handles time and date data.\n",
    "\n",
    "## What we will accomplish\n",
    "\n",
    "In this notebook we will introduce:\n",
    "- The `datetime` module,\n",
    "- `timedelta`s,\n",
    "- Datetimes in `numpy` and\n",
    "- Timestamps in `pandas`."
   ]
  },
  {
   "cell_type": "code",
   "execution_count": 1,
   "id": "a3afbcc3",
   "metadata": {},
   "outputs": [],
   "source": [
    "import pandas as pd\n",
    "import numpy as np\n",
    "import matplotlib.pyplot as plt\n",
    "from seaborn import set_style\n",
    "\n",
    "set_style(\"whitegrid\")"
   ]
  },
  {
   "cell_type": "markdown",
   "id": "a3eba74e",
   "metadata": {},
   "source": [
    "## `datetime`s and `timedelta`s\n",
    "\n",
    "Python's built-in module for handling time and date data is the `datetime` module."
   ]
  },
  {
   "cell_type": "code",
   "execution_count": 2,
   "id": "eddd485f",
   "metadata": {},
   "outputs": [],
   "source": [
    "## DOCS: https://docs.python.org/3/library/datetime.html\n",
    "import datetime"
   ]
  },
  {
   "cell_type": "markdown",
   "id": "6f796beb",
   "metadata": {},
   "source": [
    "This module allows you to make `date` objects which only include the date, `datetime` objects which include the date and time and `timedelta`s which encode a temporal difference between two `dates` or `datetime`s. \n",
    "\n",
    "We will focus on `datetime`s and `timedelta`s and you can learn more about `date`s on your own time using the documentation link provided above.\n",
    "\n",
    "### Making `datetime`s\n",
    "\n",
    "There are a few different ways you can make a `datetime` from scratch, we will cover the most basic."
   ]
  },
  {
   "cell_type": "code",
   "execution_count": 3,
   "id": "08e7aecf",
   "metadata": {},
   "outputs": [
    {
     "data": {
      "text/plain": [
       "datetime.datetime(2022, 4, 11, 0, 0)"
      ]
     },
     "execution_count": 3,
     "metadata": {},
     "output_type": "execute_result"
    }
   ],
   "source": [
    "## to make a datetime object call \n",
    "## datetime.datetime(year, month, day, hour, minute, second, microsecond)\n",
    "datetime.datetime(2022, 4, 11)"
   ]
  },
  {
   "cell_type": "code",
   "execution_count": 4,
   "id": "6e205841",
   "metadata": {},
   "outputs": [],
   "source": [
    "## let's store a datetime\n",
    "## write in the datetime for your birthday\n",
    "D = datetime.datetime(2022, 4, 11)"
   ]
  },
  {
   "cell_type": "code",
   "execution_count": 5,
   "id": "97533530",
   "metadata": {},
   "outputs": [
    {
     "data": {
      "text/plain": [
       "2022"
      ]
     },
     "execution_count": 5,
     "metadata": {},
     "output_type": "execute_result"
    }
   ],
   "source": [
    "## We can access the year\n",
    "D.year"
   ]
  },
  {
   "cell_type": "code",
   "execution_count": 6,
   "id": "f226e4b3",
   "metadata": {},
   "outputs": [
    {
     "data": {
      "text/plain": [
       "4"
      ]
     },
     "execution_count": 6,
     "metadata": {},
     "output_type": "execute_result"
    }
   ],
   "source": [
    "## We can access the month\n",
    "D.month"
   ]
  },
  {
   "cell_type": "code",
   "execution_count": 7,
   "id": "d5a5ab17",
   "metadata": {},
   "outputs": [
    {
     "data": {
      "text/plain": [
       "11"
      ]
     },
     "execution_count": 7,
     "metadata": {},
     "output_type": "execute_result"
    }
   ],
   "source": [
    "## We can access the day\n",
    "D.day"
   ]
  },
  {
   "cell_type": "code",
   "execution_count": 8,
   "id": "262420b8",
   "metadata": {},
   "outputs": [
    {
     "data": {
      "text/plain": [
       "0"
      ]
     },
     "execution_count": 8,
     "metadata": {},
     "output_type": "execute_result"
    }
   ],
   "source": [
    "## We can access the hour\n",
    "D.hour"
   ]
  },
  {
   "cell_type": "code",
   "execution_count": 9,
   "id": "764ae1f2",
   "metadata": {},
   "outputs": [
    {
     "data": {
      "text/plain": [
       "0"
      ]
     },
     "execution_count": 9,
     "metadata": {},
     "output_type": "execute_result"
    }
   ],
   "source": [
    "## We can access the minute\n",
    "D.minute"
   ]
  },
  {
   "cell_type": "code",
   "execution_count": 10,
   "id": "5a08d6b3",
   "metadata": {},
   "outputs": [
    {
     "data": {
      "text/plain": [
       "0"
      ]
     },
     "execution_count": 10,
     "metadata": {},
     "output_type": "execute_result"
    }
   ],
   "source": [
    "## We can access the second\n",
    "D.second"
   ]
  },
  {
   "cell_type": "code",
   "execution_count": 12,
   "id": "3a95240d",
   "metadata": {},
   "outputs": [
    {
     "data": {
      "text/plain": [
       "datetime.datetime(2022, 4, 20, 16, 31, 26, 235159)"
      ]
     },
     "execution_count": 12,
     "metadata": {},
     "output_type": "execute_result"
    }
   ],
   "source": [
    "## There are even special datetimes like .now()\n",
    "datetime.datetime.now()"
   ]
  },
  {
   "cell_type": "markdown",
   "id": "1e34e51d",
   "metadata": {},
   "source": [
    "#### `timedelta`\n",
    "\n",
    "A `timedelta` allows you to move forward or backward from a given datetime."
   ]
  },
  {
   "cell_type": "code",
   "execution_count": 14,
   "id": "fea23466",
   "metadata": {},
   "outputs": [
    {
     "name": "stdout",
     "output_type": "stream",
     "text": [
      "Current datetime 2022-04-11 00:00:00\n",
      "Moving back two days 2022-03-28 00:00:00\n"
     ]
    }
   ],
   "source": [
    "print(\"Current datetime\", D)\n",
    "print(\"Moving back two days\", D - datetime.timedelta(days=2))"
   ]
  },
  {
   "cell_type": "markdown",
   "id": "e82603db",
   "metadata": {},
   "source": [
    "Note that you cannot do this for any time unit, only:\n",
    "- `weeks`,\n",
    "- `days`,\n",
    "- `hours`,\n",
    "- `minutes`,\n",
    "- `seconds`,\n",
    "- `microseconds` and\n",
    "- `milliseconds`."
   ]
  },
  {
   "cell_type": "markdown",
   "id": "341c21bb",
   "metadata": {},
   "source": [
    "## Dates and times in `numpy`\n",
    "\n",
    "`numpy` has its own built-in `datetime64` and `timedelta64` objects that you may have to use depending upon the project.\n",
    "\n",
    "In `numpy` `datetime64`s should be created with strings, as we will demonstrate."
   ]
  },
  {
   "cell_type": "code",
   "execution_count": 15,
   "id": "6eceed43",
   "metadata": {},
   "outputs": [
    {
     "data": {
      "text/plain": [
       "numpy.datetime64('2022-04-11')"
      ]
     },
     "execution_count": 15,
     "metadata": {},
     "output_type": "execute_result"
    }
   ],
   "source": [
    "## strings can go \"year-month-day\"\n",
    "np.datetime64(\"2022-04-11\")"
   ]
  },
  {
   "cell_type": "markdown",
   "id": "4e5df307",
   "metadata": {},
   "source": [
    "`datetime64` is not as nice as `datetime` because we are unable to access the day, month, year, etc.\n",
    "\n",
    "However, `timedelta64`s work in roughly the same way as `timedelta`."
   ]
  },
  {
   "cell_type": "code",
   "execution_count": 16,
   "id": "28585b24",
   "metadata": {},
   "outputs": [
    {
     "data": {
      "text/plain": [
       "numpy.datetime64('2022-04-05')"
      ]
     },
     "execution_count": 16,
     "metadata": {},
     "output_type": "execute_result"
    }
   ],
   "source": [
    "## you put in two arguments\n",
    "## first the number of whatever time unit you are adding/subtracting\n",
    "## then the time unit\n",
    "## here we add 12 days\n",
    "np.datetime64(\"2022-03-24\") + np.timedelta64(12, 'D')"
   ]
  },
  {
   "cell_type": "markdown",
   "id": "f1b5a231",
   "metadata": {},
   "source": [
    "D)ay, (M)onth, (Y)ear, (h)ours, (m)inutes, or (s)e\n",
    "\n",
    "Time units you can use include:\n",
    "- `'D'` for days,\n",
    "- `'W'` for weeks,\n",
    "- `'M'` for months,\n",
    "- `'Y'` for years,\n",
    "- `'h'` for hours,\n",
    "- `'m'` for minutes and\n",
    "- `'s'` for seconds.\n",
    "\n",
    "\n",
    "An added nice feature is that `datetime64`s play well with `np.arange`."
   ]
  },
  {
   "cell_type": "code",
   "execution_count": 17,
   "id": "deb102d2",
   "metadata": {},
   "outputs": [
    {
     "data": {
      "text/plain": [
       "array(['2022-03-24', '2022-03-25', '2022-03-26', '2022-03-27',\n",
       "       '2022-03-28', '2022-03-29', '2022-03-30', '2022-03-31',\n",
       "       '2022-04-01', '2022-04-02', '2022-04-03', '2022-04-04',\n",
       "       '2022-04-05', '2022-04-06', '2022-04-07', '2022-04-08',\n",
       "       '2022-04-09', '2022-04-10', '2022-04-11', '2022-04-12',\n",
       "       '2022-04-13', '2022-04-14', '2022-04-15', '2022-04-16'],\n",
       "      dtype='datetime64[D]')"
      ]
     },
     "execution_count": 17,
     "metadata": {},
     "output_type": "execute_result"
    }
   ],
   "source": [
    "## put the start date first\n",
    "## then the end date\n",
    "## then the unit you would like to increment by in datetime64, all as strings\n",
    "np.arange('2022-03-24', '2022-04-17', dtype='datetime64[D]')"
   ]
  },
  {
   "cell_type": "markdown",
   "id": "f02df0ee",
   "metadata": {},
   "source": [
    "To learn more about `numpy` `datetime64`s and `timedelta64`s check out the `numpy` documentation page, <a href=\"https://numpy.org/doc/stable/reference/arrays.datetime.html\">https://numpy.org/doc/stable/reference/arrays.datetime.html</a>."
   ]
  },
  {
   "cell_type": "markdown",
   "id": "0d3bc699",
   "metadata": {},
   "source": [
    "## `pandas` `Timestamp`s\n",
    "\n",
    "We will end with a brief introduction to `pandas` `Timestamp` object. Since we use `pandas` for a lot of our data handling, we will likely encounter such objects.\n",
    "\n",
    "Creating a `Timestamp` is closer to creating `datetime`."
   ]
  },
  {
   "cell_type": "code",
   "execution_count": 18,
   "id": "2d9d50bd",
   "metadata": {},
   "outputs": [
    {
     "data": {
      "text/plain": [
       "Timestamp('2022-04-11 00:00:00')"
      ]
     },
     "execution_count": 18,
     "metadata": {},
     "output_type": "execute_result"
    }
   ],
   "source": [
    "## pd.Timestamp(year, month, day)\n",
    "pd.Timestamp(2022, 4, 11)"
   ]
  },
  {
   "cell_type": "code",
   "execution_count": 20,
   "id": "36c1cb28",
   "metadata": {},
   "outputs": [
    {
     "data": {
      "text/plain": [
       "datetime.datetime(2022, 4, 11, 0, 0)"
      ]
     },
     "execution_count": 20,
     "metadata": {},
     "output_type": "execute_result"
    }
   ],
   "source": [
    "datetime.datetime(2022,4,11)"
   ]
  },
  {
   "cell_type": "markdown",
   "id": "7eac440a",
   "metadata": {},
   "source": [
    "You can also similarly access the `day`, `month`, `year` etc."
   ]
  },
  {
   "cell_type": "code",
   "execution_count": 25,
   "id": "3ec99eee",
   "metadata": {},
   "outputs": [
    {
     "data": {
      "text/plain": [
       "2022"
      ]
     },
     "execution_count": 25,
     "metadata": {},
     "output_type": "execute_result"
    }
   ],
   "source": [
    "pd.Timestamp(2022, 4, 11).year"
   ]
  },
  {
   "cell_type": "markdown",
   "id": "4cd4240b",
   "metadata": {},
   "source": [
    "When we read in a data set with time or date values it is not automatically converted to a `Timestamp`."
   ]
  },
  {
   "cell_type": "code",
   "execution_count": 26,
   "id": "11b8c567",
   "metadata": {},
   "outputs": [
    {
     "data": {
      "text/html": [
       "<div>\n",
       "<style scoped>\n",
       "    .dataframe tbody tr th:only-of-type {\n",
       "        vertical-align: middle;\n",
       "    }\n",
       "\n",
       "    .dataframe tbody tr th {\n",
       "        vertical-align: top;\n",
       "    }\n",
       "\n",
       "    .dataframe thead th {\n",
       "        text-align: right;\n",
       "    }\n",
       "</style>\n",
       "<table border=\"1\" class=\"dataframe\">\n",
       "  <thead>\n",
       "    <tr style=\"text-align: right;\">\n",
       "      <th></th>\n",
       "      <th>date</th>\n",
       "      <th>index_value</th>\n",
       "    </tr>\n",
       "  </thead>\n",
       "  <tbody>\n",
       "    <tr>\n",
       "      <th>0</th>\n",
       "      <td>2022-03-22</td>\n",
       "      <td>3</td>\n",
       "    </tr>\n",
       "    <tr>\n",
       "      <th>1</th>\n",
       "      <td>2022-03-23</td>\n",
       "      <td>5</td>\n",
       "    </tr>\n",
       "    <tr>\n",
       "      <th>2</th>\n",
       "      <td>2022-03-24</td>\n",
       "      <td>4</td>\n",
       "    </tr>\n",
       "    <tr>\n",
       "      <th>3</th>\n",
       "      <td>2022-03-25</td>\n",
       "      <td>3</td>\n",
       "    </tr>\n",
       "    <tr>\n",
       "      <th>4</th>\n",
       "      <td>2022-03-26</td>\n",
       "      <td>6</td>\n",
       "    </tr>\n",
       "  </tbody>\n",
       "</table>\n",
       "</div>"
      ],
      "text/plain": [
       "         date  index_value\n",
       "0  2022-03-22            3\n",
       "1  2022-03-23            5\n",
       "2  2022-03-24            4\n",
       "3  2022-03-25            3\n",
       "4  2022-03-26            6"
      ]
     },
     "execution_count": 26,
     "metadata": {},
     "output_type": "execute_result"
    }
   ],
   "source": [
    "df = pd.read_csv(\"../../../Data/sample_time_series.csv\")\n",
    "\n",
    "df.head()"
   ]
  },
  {
   "cell_type": "code",
   "execution_count": 27,
   "id": "f8c7b089",
   "metadata": {},
   "outputs": [
    {
     "data": {
      "text/plain": [
       "str"
      ]
     },
     "execution_count": 27,
     "metadata": {},
     "output_type": "execute_result"
    }
   ],
   "source": [
    "type(df.date[0])"
   ]
  },
  {
   "cell_type": "markdown",
   "id": "29ed62e0",
   "metadata": {},
   "source": [
    "But we can convert such values with `to_datetime`."
   ]
  },
  {
   "cell_type": "code",
   "execution_count": 28,
   "id": "807f1c82",
   "metadata": {},
   "outputs": [
    {
     "data": {
      "text/plain": [
       "Timestamp('2022-03-22 00:00:00')"
      ]
     },
     "execution_count": 28,
     "metadata": {},
     "output_type": "execute_result"
    }
   ],
   "source": [
    "pd.to_datetime(df['date'])[0]"
   ]
  },
  {
   "cell_type": "markdown",
   "id": "48117b02",
   "metadata": {},
   "source": [
    "Or we can tell `pandas` ahead of time that we are reading in time or date data with the `parse_dates` argument."
   ]
  },
  {
   "cell_type": "code",
   "execution_count": 29,
   "id": "17dd5a9c",
   "metadata": {},
   "outputs": [],
   "source": [
    "df = pd.read_csv(\"../../../Data/sample_time_series.csv\",\n",
    "                    parse_dates = ['date'])"
   ]
  },
  {
   "cell_type": "code",
   "execution_count": 30,
   "id": "14146277",
   "metadata": {},
   "outputs": [
    {
     "data": {
      "text/plain": [
       "Timestamp('2022-03-22 00:00:00')"
      ]
     },
     "execution_count": 30,
     "metadata": {},
     "output_type": "execute_result"
    }
   ],
   "source": [
    "df.date[0]"
   ]
  },
  {
   "cell_type": "markdown",
   "id": "958be43f",
   "metadata": {},
   "source": [
    "To learn more about `Timestamp`s check out the `pandas` documentation page found here, <a href=\"https://pandas.pydata.org/docs/reference/api/pandas.Timestamp.html\">https://pandas.pydata.org/docs/reference/api/pandas.Timestamp.html</a>."
   ]
  },
  {
   "cell_type": "markdown",
   "id": "861e80df",
   "metadata": {},
   "source": [
    "## Plotting a time series\n",
    "\n",
    "As a quick final note, `matplotlib` also handles date and time data by default. Let's illustrate this with the data set we just read in with `pandas`."
   ]
  },
  {
   "cell_type": "code",
   "execution_count": 31,
   "id": "5da4a51c",
   "metadata": {},
   "outputs": [
    {
     "data": {
      "image/png": "[encoded data removed]",
      "text/plain": [
       "<Figure size 720x432 with 1 Axes>"
      ]
     },
     "metadata": {},
     "output_type": "display_data"
    }
   ],
   "source": [
    "plt.figure(figsize=(10,6))\n",
    "\n",
    "plt.plot(df.date,\n",
    "            df.index_value)\n",
    "\n",
    "plt.xticks(fontsize=12)\n",
    "plt.yticks(fontsize=12)\n",
    "\n",
    "plt.show()"
   ]
  },
  {
   "cell_type": "markdown",
   "id": "f4d1537a",
   "metadata": {},
   "source": [
    "It is difficult to cover every little thing regarding time and date data types, but you now, hopefully, know enough to be able to figure out any time and date data issue that could arise."
   ]
  },
  {
   "cell_type": "markdown",
   "id": "5e4a8900",
   "metadata": {},
   "source": [
    "--------------------------\n",
    "\n",
    "This notebook was written for the Erd&#337;s Institute C&#337;de Data Science Boot Camp by Matthew Osborne, Ph. D., 2022.\n",
    "\n",
    "Any potential redistributors must seek and receive permission from Matthew Tyler Osborne, Ph.D. prior to redistribution. Redistribution of the material contained in this repository is conditional on acknowledgement of Matthew Tyler Osborne, Ph.D.'s original authorship and sponsorship of the Erdős Institute as subject to the license (see License.md)"
   ]
  },
  {
   "cell_type": "code",
   "execution_count": null,
   "id": "91325c79",
   "metadata": {},
   "outputs": [],
   "source": []
  }
 ],
 "metadata": {
  "kernelspec": {
   "display_name": "Python 3 (ipykernel)",
   "language": "python",
   "name": "python3"
  },
  "language_info": {
   "codemirror_mode": {
    "name": "ipython",
    "version": 3
   },
   "file_extension": ".py",
   "mimetype": "text/x-python",
   "name": "python",
   "nbconvert_exporter": "python",
   "pygments_lexer": "ipython3",
   "version": "3.9.9"
  }
 },
 "nbformat": 4,
 "nbformat_minor": 5
}
