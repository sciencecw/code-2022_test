{
 "cells": [
  {
   "cell_type": "markdown",
   "id": "988d79cf",
   "metadata": {},
   "source": [
    "# Time and Dates in Python\n",
    "\n",
    "Time and date data are not precisely the same as integers, strings and floats. Here we will introduce a couple of ways that python handles time and date data.\n",
    "\n",
    "## What we will accomplish\n",
    "\n",
    "In this notebook we will introduce:\n",
    "- The `datetime` module,\n",
    "- `timedelta`s,\n",
    "- Datetimes in `numpy` and\n",
    "- Timestamps in `pandas`."
   ]
  },
  {
   "cell_type": "code",
   "execution_count": null,
   "id": "a3afbcc3",
   "metadata": {},
   "outputs": [],
   "source": [
    "import pandas as pd\n",
    "import numpy as np\n",
    "import matplotlib.pyplot as plt\n",
    "from seaborn import set_style\n",
    "\n",
    "set_style(\"whitegrid\")"
   ]
  },
  {
   "cell_type": "markdown",
   "id": "a3eba74e",
   "metadata": {},
   "source": [
    "## `datetime`s and `timedelta`s\n",
    "\n",
    "Python's built-in module for handling time and date data is the `datetime` module."
   ]
  },
  {
   "cell_type": "code",
   "execution_count": null,
   "id": "eddd485f",
   "metadata": {},
   "outputs": [],
   "source": [
    "## DOCS: https://docs.python.org/3/library/datetime.html\n",
    "import datetime"
   ]
  },
  {
   "cell_type": "markdown",
   "id": "6f796beb",
   "metadata": {},
   "source": [
    "This module allows you to make `date` objects which only include the date, `datetime` objects which include the date and time and `timedelta`s which encode a temporal difference between two `dates` or `datetime`s. \n",
    "\n",
    "We will focus on `datetime`s and `timedelta`s and you can learn more about `date`s on your own time using the documentation link provided above.\n",
    "\n",
    "### Making `datetime`s\n",
    "\n",
    "There are a few different ways you can make a `datetime` from scratch, we will cover the most basic."
   ]
  },
  {
   "cell_type": "code",
   "execution_count": null,
   "id": "08e7aecf",
   "metadata": {},
   "outputs": [],
   "source": [
    "## to make a datetime object call \n",
    "## datetime.datetime(year, month, day, hour, minute, second, microsecond)\n"
   ]
  },
  {
   "cell_type": "code",
   "execution_count": null,
   "id": "6e205841",
   "metadata": {},
   "outputs": [],
   "source": [
    "## let's store a datetime\n",
    "## write in the datetime for your birthday\n",
    "D = "
   ]
  },
  {
   "cell_type": "code",
   "execution_count": null,
   "id": "97533530",
   "metadata": {},
   "outputs": [],
   "source": [
    "## We can access the year\n",
    "D.year"
   ]
  },
  {
   "cell_type": "code",
   "execution_count": null,
   "id": "f226e4b3",
   "metadata": {},
   "outputs": [],
   "source": [
    "## We can access the month\n",
    "D.month"
   ]
  },
  {
   "cell_type": "code",
   "execution_count": null,
   "id": "d5a5ab17",
   "metadata": {},
   "outputs": [],
   "source": [
    "## We can access the day\n",
    "D.day"
   ]
  },
  {
   "cell_type": "code",
   "execution_count": null,
   "id": "262420b8",
   "metadata": {},
   "outputs": [],
   "source": [
    "## We can access the hour\n",
    "D.hour"
   ]
  },
  {
   "cell_type": "code",
   "execution_count": null,
   "id": "764ae1f2",
   "metadata": {},
   "outputs": [],
   "source": [
    "## We can access the minute\n",
    "D.minute"
   ]
  },
  {
   "cell_type": "code",
   "execution_count": null,
   "id": "5a08d6b3",
   "metadata": {},
   "outputs": [],
   "source": [
    "## We can access the second\n",
    "D.second"
   ]
  },
  {
   "cell_type": "code",
   "execution_count": null,
   "id": "3a95240d",
   "metadata": {},
   "outputs": [],
   "source": [
    "## There are even special datetimes like .now()\n"
   ]
  },
  {
   "cell_type": "markdown",
   "id": "1e34e51d",
   "metadata": {},
   "source": [
    "#### `timedelta`\n",
    "\n",
    "A `timedelta` allows you to move forward or backward from a given datetime."
   ]
  },
  {
   "cell_type": "code",
   "execution_count": null,
   "id": "fea23466",
   "metadata": {},
   "outputs": [],
   "source": [
    "print(\"Current datetime\", D)\n",
    "print(\"Moving back two days\", D - datetime.timedelta(days=2))"
   ]
  },
  {
   "cell_type": "markdown",
   "id": "e82603db",
   "metadata": {},
   "source": [
    "Note that you cannot do this for any time unit, only:\n",
    "- `weeks`,\n",
    "- `days`,\n",
    "- `hours`,\n",
    "- `minutes`,\n",
    "- `seconds`,\n",
    "- `microseconds` and\n",
    "- `milliseconds`."
   ]
  },
  {
   "cell_type": "markdown",
   "id": "341c21bb",
   "metadata": {},
   "source": [
    "## Dates and times in `numpy`\n",
    "\n",
    "`numpy` has its own built-in `datetime64` and `timedelta64` objects that you may have to use depending upon the project.\n",
    "\n",
    "In `numpy` `datetime64`s should be created with strings, as we will demonstrate."
   ]
  },
  {
   "cell_type": "code",
   "execution_count": null,
   "id": "6eceed43",
   "metadata": {},
   "outputs": [],
   "source": [
    "## strings can go \"year-month-day\"\n"
   ]
  },
  {
   "cell_type": "markdown",
   "id": "4e5df307",
   "metadata": {},
   "source": [
    "`datetime64` is not as nice as `datetime` because we are unable to access the day, month, year, etc.\n",
    "\n",
    "However, `timedelta64`s work in roughly the same way as `timedelta`."
   ]
  },
  {
   "cell_type": "code",
   "execution_count": null,
   "id": "28585b24",
   "metadata": {},
   "outputs": [],
   "source": [
    "## you put in two arguments\n",
    "## first the number of whatever time unit you are adding/subtracting\n",
    "## then the time unit\n",
    "## here we add 12 days\n",
    "np.datetime64(\"2022-03-24\") + np.timedelta64(12, 'D')"
   ]
  },
  {
   "cell_type": "markdown",
   "id": "f1b5a231",
   "metadata": {},
   "source": [
    "D)ay, (M)onth, (Y)ear, (h)ours, (m)inutes, or (s)e\n",
    "\n",
    "Time units you can use include:\n",
    "- `'D'` for days,\n",
    "- `'W'` for weeks,\n",
    "- `'M'` for months,\n",
    "- `'Y'` for years,\n",
    "- `'h'` for hours,\n",
    "- `'m'` for minutes and\n",
    "- `'s'` for seconds.\n",
    "\n",
    "\n",
    "An added nice feature is that `datetime64`s play well with `np.arange`."
   ]
  },
  {
   "cell_type": "code",
   "execution_count": null,
   "id": "deb102d2",
   "metadata": {},
   "outputs": [],
   "source": [
    "## put the start date first\n",
    "## then the end date\n",
    "## then the unit you would like to increment by in datetime64, all as strings\n",
    "np.arange('2022-03-24', '2022-04-17', dtype='datetime64[D]')"
   ]
  },
  {
   "cell_type": "markdown",
   "id": "f02df0ee",
   "metadata": {},
   "source": [
    "To learn more about `numpy` `datetime64`s and `timedelta64`s check out the `numpy` documentation page, <a href=\"https://numpy.org/doc/stable/reference/arrays.datetime.html\">https://numpy.org/doc/stable/reference/arrays.datetime.html</a>."
   ]
  },
  {
   "cell_type": "markdown",
   "id": "0d3bc699",
   "metadata": {},
   "source": [
    "## `pandas` `Timestamp`s\n",
    "\n",
    "We will end with a brief introduction to `pandas` `Timestamp` object. Since we use `pandas` for a lot of our data handling, we will likely encounter such objects.\n",
    "\n",
    "Creating a `Timestamp` is closer to creating `datetime`."
   ]
  },
  {
   "cell_type": "code",
   "execution_count": null,
   "id": "2d9d50bd",
   "metadata": {},
   "outputs": [],
   "source": [
    "## pd.Timestamp(year, month, day)"
   ]
  },
  {
   "cell_type": "markdown",
   "id": "7eac440a",
   "metadata": {},
   "source": [
    "You can also similarly access the `day`, `month`, `year` etc."
   ]
  },
  {
   "cell_type": "code",
   "execution_count": null,
   "id": "3ec99eee",
   "metadata": {},
   "outputs": [],
   "source": []
  },
  {
   "cell_type": "markdown",
   "id": "4cd4240b",
   "metadata": {},
   "source": [
    "When we read in a data set with time or date values it is not automatically converted to a `Timestamp`."
   ]
  },
  {
   "cell_type": "code",
   "execution_count": null,
   "id": "11b8c567",
   "metadata": {},
   "outputs": [],
   "source": [
    "df = pd.read_csv(\"../../../Data/sample_time_series.csv\")\n",
    "\n",
    "df.head()"
   ]
  },
  {
   "cell_type": "code",
   "execution_count": null,
   "id": "f8c7b089",
   "metadata": {},
   "outputs": [],
   "source": [
    "type(df.date[0])"
   ]
  },
  {
   "cell_type": "markdown",
   "id": "29ed62e0",
   "metadata": {},
   "source": [
    "But we can convert such values with `to_datetime`."
   ]
  },
  {
   "cell_type": "code",
   "execution_count": null,
   "id": "807f1c82",
   "metadata": {},
   "outputs": [],
   "source": []
  },
  {
   "cell_type": "markdown",
   "id": "48117b02",
   "metadata": {},
   "source": [
    "Or we can tell `pandas` ahead of time that we are reading in time or date data with the `parse_dates` argument."
   ]
  },
  {
   "cell_type": "code",
   "execution_count": null,
   "id": "17dd5a9c",
   "metadata": {},
   "outputs": [],
   "source": [
    "df = pd.read_csv(\"../../../Data/sample_time_series.csv\")"
   ]
  },
  {
   "cell_type": "code",
   "execution_count": null,
   "id": "14146277",
   "metadata": {},
   "outputs": [],
   "source": [
    "df.date[0]"
   ]
  },
  {
   "cell_type": "markdown",
   "id": "958be43f",
   "metadata": {},
   "source": [
    "To learn more about `Timestamp`s check out the `pandas` documentation page found here, <a href=\"https://pandas.pydata.org/docs/reference/api/pandas.Timestamp.html\">https://pandas.pydata.org/docs/reference/api/pandas.Timestamp.html</a>."
   ]
  },
  {
   "cell_type": "markdown",
   "id": "861e80df",
   "metadata": {},
   "source": [
    "## Plotting a time series\n",
    "\n",
    "As a quick final note, `matplotlib` also handles date and time data by default. Let's illustrate this with the data set we just read in with `pandas`."
   ]
  },
  {
   "cell_type": "code",
   "execution_count": null,
   "id": "5da4a51c",
   "metadata": {},
   "outputs": [],
   "source": [
    "plt.figure(figsize=(10,6))\n",
    "\n",
    "plt.plot(df.date,\n",
    "            df.index_value)\n",
    "\n",
    "plt.xticks(fontsize=12)\n",
    "plt.yticks(fontsize=12)\n",
    "\n",
    "plt.show()"
   ]
  },
  {
   "cell_type": "markdown",
   "id": "f4d1537a",
   "metadata": {},
   "source": [
    "It is difficult to cover every little thing regarding time and date data types, but you now, hopefully, know enough to be able to figure out any time and date data issue that could arise."
   ]
  },
  {
   "cell_type": "markdown",
   "id": "5e4a8900",
   "metadata": {},
   "source": [
    "--------------------------\n",
    "\n",
    "This notebook was written for the Erd&#337;s Institute C&#337;de Data Science Boot Camp by Matthew Osborne, Ph. D., 2022.\n",
    "\n",
    "Any potential redistributors must seek and receive permission from Matthew Tyler Osborne, Ph.D. prior to redistribution. Redistribution of the material contained in this repository is conditional on acknowledgement of Matthew Tyler Osborne, Ph.D.'s original authorship and sponsorship of the Erdős Institute as subject to the license (see License.md)"
   ]
  },
  {
   "cell_type": "code",
   "execution_count": null,
   "id": "91325c79",
   "metadata": {},
   "outputs": [],
   "source": []
  }
 ],
 "metadata": {
  "kernelspec": {
   "display_name": "Python 3 (ipykernel)",
   "language": "python",
   "name": "python3"
  },
  "language_info": {
   "codemirror_mode": {
    "name": "ipython",
    "version": 3
   },
   "file_extension": ".py",
   "mimetype": "text/x-python",
   "name": "python",
   "nbconvert_exporter": "python",
   "pygments_lexer": "ipython3",
   "version": "3.9.9"
  }
 },
 "nbformat": 4,
 "nbformat_minor": 5
}
