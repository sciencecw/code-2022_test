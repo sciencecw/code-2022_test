{
 "cells": [
  {
   "cell_type": "markdown",
   "id": "96bf52c1",
   "metadata": {},
   "source": [
    "# Introduction\n",
    "\n",
    "Supervised learning is a large subfield of statistical learning that is frequently utilized in data science. In this subsection we will learn more about supervised learning in general as well as cover particular supervised learning algorithms.\n",
    "\n",
    "## What is supervised learning?\n",
    "\n",
    "<i>Supervised learning</i> is a form of statistical learning problem in which the outcome variable is a known quantity we wish to predict. In particular, a distinction between supervised learning and other subfields of statistical learning is that the data set we are starting with (which we will come to know as the <i>training set</i> or <i>sample</i>) contains observations of a particular value of interest. \n",
    "\n",
    "The type of outcome data in which we are interested helps determine the flavor of supervised learning problem. We typically consider two kinds of supervised learning problems.\n",
    "\n",
    "### Regression\n",
    "\n",
    "A <i>regression</i> problem is one in which you are using data to predict an outcome that is \"continous\". Importantly, we do not think of continuous in the mathematical sense. For example, the points scored in a game of basketball could be the variable we wish to predict in a regression problem, but every possible score is not possible in basketball (you cannot get a fraction of a point).\n",
    "\n",
    "Some example regression problems include:\n",
    "- Predicting the price of gas given the date, price of crude oil and temperature,\n",
    "- Predicting the points scored by an NBA team and\n",
    "- Predicting how a student will score on a test given prior test and quiz scores.\n",
    "\n",
    "<i>We should note that this notion of regression is slightly different from the statistical notion of regression. While many regression techniques from statistics would fall under the banner of a regression supervised learning problem, this is not always the case.</i>\n",
    "\n",
    "### Classification\n",
    "\n",
    "A <i>classification</i> problem is one in which you use data to predict an outcome that falls into one of many classes or categories. \n",
    "\n",
    "Some example classification problems include:\n",
    "- Predicting whether an image contains a cat,\n",
    "- Predicting whether someone has cancer and\n",
    "- Predicting whether someone will default on a loan.\n",
    "\n",
    "In this section we will learn a variety of techniques to solve such problems. Along the way we will:\n",
    "- Cover data preparation procedures for such problems,\n",
    "- Be exposed to a variety of examples and\n",
    "- Discuss foundational data science/machine learning concepts.\n",
    "\n",
    "## Let's get going!\n",
    "\n",
    "We will start this section by reviewing the basic framework underlying all supervised learning problems, then we will branch into specific problem types.\n",
    "\n",
    "Let's get going!"
   ]
  },
  {
   "cell_type": "markdown",
   "id": "0205e604",
   "metadata": {},
   "source": [
    "--------------------------\n",
    "\n",
    "This notebook was written for the Erd&#337;s Institute C&#337;de Data Science Boot Camp by Matthew Osborne, Ph. D., 2022.\n",
    "\n",
    "Any potential redistributors must seek and receive permission from Matthew Tyler Osborne, Ph.D. prior to redistribution. Redistribution of the material contained in this repository is conditional on acknowledgement of Matthew Tyler Osborne, Ph.D.'s original authorship and sponsorship of the Erdős Institute as subject to the license (see License.md)"
   ]
  },
  {
   "cell_type": "code",
   "execution_count": null,
   "id": "437d3fc1",
   "metadata": {},
   "outputs": [],
   "source": []
  }
 ],
 "metadata": {
  "kernelspec": {
   "display_name": "Python 3 (ipykernel)",
   "language": "python",
   "name": "python3"
  },
  "language_info": {
   "codemirror_mode": {
    "name": "ipython",
    "version": 3
   },
   "file_extension": ".py",
   "mimetype": "text/x-python",
   "name": "python",
   "nbconvert_exporter": "python",
   "pygments_lexer": "ipython3",
   "version": "3.9.9"
  }
 },
 "nbformat": 4,
 "nbformat_minor": 5
}
