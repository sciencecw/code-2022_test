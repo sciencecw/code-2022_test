{
 "cells": [
  {
   "cell_type": "markdown",
   "id": "d049c4b5",
   "metadata": {},
   "source": [
    "# Data Splits for Predictive Modeling\n",
    "\n",
    "When trying to build a predictive model we will have to split up our data set. In this notebook we touch on the reasons why and the standard procedures for doing so.\n",
    "\n",
    "## What we will accomplish\n",
    "\n",
    "In this notebook we will:\n",
    "- Discuss the rationale for splitting our data set,\n",
    "- Introduce train test splits,\n",
    "- Define a validation set,\n",
    "- Review cross-validation and\n",
    "- Touch on scenarios in which you may prefer validation sets to cross-validation and versa."
   ]
  },
  {
   "cell_type": "code",
   "execution_count": 1,
   "id": "062831f0",
   "metadata": {},
   "outputs": [],
   "source": [
    "## We will now start importing a common set\n",
    "## of items at the onset of most notebooks\n",
    "import numpy as np\n",
    "import matplotlib.pyplot as plt\n",
    "from seaborn import set_style\n",
    "set_style(\"whitegrid\")"
   ]
  },
  {
   "cell_type": "markdown",
   "id": "d98a0e44",
   "metadata": {},
   "source": [
    "## Rationale for data splits\n",
    "\n",
    "### Goal of predictive modeling\n",
    "\n",
    "Imagine we are solving a predictive modeling problem, as we soon will. Once we have identified the problem we go out and randomly collect some data, $(X,y)$, say $n$ observations of $m$ features and $n$ corresponding outputs. \n",
    "\n",
    "Our goal is to use these data to identify a model with the lowest <i>generalization error</i>. Generalization error is defined to be the error of the model on a new randomly collected set $(X^*, y^*)$. If we fix this new data set, then the fact that the data we collected originally, $(X,y)$, was randomly collected makes the generalization error of any particular model a random variable. Let's call this variable $G$.\n",
    "\n",
    "To determine the \"best\" model from a set of candidate models we would want to choose the one such that the corresponding $G$ is smallest. In other words for each candidate model we want to know something about the corresponding $G$ and its distribution.\n",
    "\n",
    "In an ideal world we would simply collect many sets, $(X,y)$, fit our models on each of them and compare the resulting distributions. However, it may not be practical, possible or ethical to continually collect data for model selection purposes. In practice, thus, we are often constrained to a single data set for model fitting and comparisons.\n",
    "\n",
    "### Data splits\n",
    "\n",
    "In order to estimate $G$ we typically split our data (often more than once) so that we can use one part of the split to fit or estimate the model and the other part to estimate $G$.\n",
    "\n",
    "These splits are typically random because we want to be able to assume that the data used to fit the model follows the same distribution as the data used to measure generalization performance.\n",
    "\n",
    "We will now cover three splitting steps/strategies employed in data science and machine learning."
   ]
  },
  {
   "cell_type": "markdown",
   "id": "032dcf34",
   "metadata": {},
   "source": [
    "## Train test splits\n",
    "\n",
    "The first split we will touch on is the first split you would do in a new data science project, the <i>train test split</i>.\n",
    "\n",
    "The purpose of the train test split is to create two data sets:\n",
    "1. <b>The training set</b> - This subset is used to fit models and compare model candidates. This data set is usually split further.\n",
    "2. <b>The testing set</b> - This subset is used as a final check on your selected model prior to putting your model into its desired final state.\n",
    "\n",
    "The training set usually contains the majority of the original data. Common train test split percentage divisions are $80\\% - 20\\%$ or $75\\% - 25\\%$, but it may sometimes be appropriate to use different split sizes. Train test splits are done randomly, with the form of randomness dependent upon your project.\n",
    "\n",
    "Here is an illustration of a train test split:\n",
    "\n",
    "<img src=\"train_test.png\" width=\"40%\"></img>\n",
    "\n",
    "\n",
    "#### A potential point of confusion\n",
    "\n",
    "Perhaps confusingly, the test set is not directly used to compare models, model comparison is typically done using a subset(s) of the training set as we will soon see. The main purpose of the test is to serve as a final check on your chosen model. This final check is important! Checking model performance on the test set let's you look for coding/modeling errors as well as <i>overfitting</i> on the training set (we will talk about this more explicitly soon).\n",
    "\n",
    "### Performing train test splits in `sklearn`\n",
    "\n",
    "While you can use the `random` or `numpy.random` packages to perform the train test split by hand, the `sklearn` package has a useful `train_test_split` function that will perform the train test split. Here is a link to the documentation, <a href=\"https://scikit-learn.org/stable/modules/generated/sklearn.model_selection.train_test_split.html\">https://scikit-learn.org/stable/modules/generated/sklearn.model_selection.train_test_split.html</a>."
   ]
  },
  {
   "cell_type": "code",
   "execution_count": 2,
   "id": "0e2e4299",
   "metadata": {},
   "outputs": [],
   "source": [
    "## First we will make a data set\n",
    "X = np.random.random((1000,10))\n",
    "y = np.random.randn(1000)"
   ]
  },
  {
   "cell_type": "code",
   "execution_count": 3,
   "id": "54d47a6c",
   "metadata": {},
   "outputs": [],
   "source": [
    "## Now we import train_test_split\n",
    "from sklearn.model_selection import train_test_split"
   ]
  },
  {
   "cell_type": "code",
   "execution_count": 4,
   "id": "6efc7fac",
   "metadata": {},
   "outputs": [],
   "source": [
    "## Here we make the split\n",
    "## train_test_split returns 4 outputs: X_train, X_test, y_train and y_test\n",
    "##\n",
    "## First you input the X and y for your data\n",
    "##\n",
    "## then set the shuffle argument to True, this randomly shuffles the\n",
    "## data before it is split\n",
    "##\n",
    "## The random_state ensures that the random split is the same each time\n",
    "## someone runs the code chunk, it can be any strictly positive integer\n",
    "##\n",
    "## You can specify the size of the test set with test_size,\n",
    "## here I want 20% of the data\n",
    "X_train, X_test, y_train, y_test = train_test_split(X, y,\n",
    "                                                       shuffle = True,\n",
    "                                                       random_state = 440,\n",
    "                                                       test_size = .2)"
   ]
  },
  {
   "cell_type": "code",
   "execution_count": 5,
   "id": "f57b420b",
   "metadata": {},
   "outputs": [
    {
     "name": "stdout",
     "output_type": "stream",
     "text": [
      "The shape of X_train is (800, 10)\n",
      "The shape of X_test is (200, 10)\n",
      "The length of y_train is 800\n",
      "The length of y_test is 200\n"
     ]
    }
   ],
   "source": [
    "## check the data lengths to see that they match\n",
    "## what we'd expect\n",
    "print(\"The shape of X_train is\",X_train.shape)\n",
    "print(\"The shape of X_test is\",X_test.shape)\n",
    "print(\"The length of y_train is\",len(y_train))\n",
    "print(\"The length of y_test is\",len(y_test))"
   ]
  },
  {
   "cell_type": "markdown",
   "id": "44132dbb",
   "metadata": {},
   "source": [
    "##### Exercise\n",
    "\n",
    "Make a train test split for the following data. Set aside $25\\%$ of the data, $(Z, w)$ as a test set. <i>Do not overwrite the data stored in `X_train`, `X_test`, `y_train` and `y_test`."
   ]
  },
  {
   "cell_type": "code",
   "execution_count": 7,
   "id": "f720eefc",
   "metadata": {},
   "outputs": [],
   "source": [
    "## Your data to split\n",
    "Z = np.random.random((1000,10))\n",
    "w = np.random.randn(1000)"
   ]
  },
  {
   "cell_type": "code",
   "execution_count": 8,
   "id": "297ddc71",
   "metadata": {},
   "outputs": [],
   "source": [
    "## Split the data here\n",
    "Z_train, Z_test, w_train, w_test = train_test_split(Z, w,\n",
    "                                                       shuffle=True,\n",
    "                                                       random_state=909,\n",
    "                                                       test_size=.25)\n"
   ]
  },
  {
   "cell_type": "markdown",
   "id": "9a47dfeb",
   "metadata": {},
   "source": [
    "## Two split types for model comparison and selection\n",
    "\n",
    "We will now cover two data splits you can make from the training set for model comparison purposes. Which you choose depends upon the project you are working on, but we will give some reasons to choose one over the other below."
   ]
  },
  {
   "cell_type": "markdown",
   "id": "56435013",
   "metadata": {},
   "source": [
    "### Validation sets\n",
    "\n",
    "A <i>validation set</i> is a subset of the training data (the result of the train test split defined above) used solely for the purpose of comparing candidate models. This split is typically also performed randomly. Further, the validation set should be a small subset, common sizes range from $10\\%-25\\%$ of the training set depending on the training set size. An illustration of this concept is given below:\n",
    "\n",
    "<img src=\"validation_set.png\" width=\"45%\"></img>\n",
    "\n",
    "The best model in this setting would be the one that has the best performance metric on the validation set.\n",
    "\n",
    "#### In practice\n",
    "\n",
    "In practice we can once again use `sklearn`'s `train_test_split` function to make the validation split. Note that it is good practice to not overwrite the original `X_train` or `y_train` sets when making the validation split."
   ]
  },
  {
   "cell_type": "code",
   "execution_count": 9,
   "id": "b869318f",
   "metadata": {},
   "outputs": [],
   "source": [
    "## Here we make a validation set with 15% of the \n",
    "## training data in the validation set\n",
    "X_train_train, X_val, y_train_train, y_val = train_test_split(X_train, y_train,\n",
    "                                                                 shuffle = True,\n",
    "                                                                 random_state = 321,\n",
    "                                                                 test_size=.15)"
   ]
  },
  {
   "cell_type": "code",
   "execution_count": 11,
   "id": "419372cd",
   "metadata": {},
   "outputs": [
    {
     "name": "stdout",
     "output_type": "stream",
     "text": [
      "800\n",
      "15% of 800 is 120.0\n"
     ]
    }
   ],
   "source": [
    "print(len(X_train))\n",
    "print(\"15% of\",800,\"is\",.15*800)"
   ]
  },
  {
   "cell_type": "code",
   "execution_count": 12,
   "id": "35b78400",
   "metadata": {},
   "outputs": [
    {
     "name": "stdout",
     "output_type": "stream",
     "text": [
      "Shape of X_train_train (680, 10)\n",
      "Shape of X_val (120, 10)\n",
      "Length of y_train_train 680\n",
      "Length of y_val 120\n"
     ]
    }
   ],
   "source": [
    "print(\"Shape of X_train_train\", X_train_train.shape)\n",
    "print(\"Shape of X_val\", X_val.shape)\n",
    "print(\"Length of y_train_train\", len(y_train_train))\n",
    "print(\"Length of y_val\", len(y_val))"
   ]
  },
  {
   "cell_type": "markdown",
   "id": "8c2f4ac3",
   "metadata": {},
   "source": [
    "##### Exercise\n",
    "\n",
    "Make a validation set with $22\\%$ of your training set for the $(Z, w)$ data set."
   ]
  },
  {
   "cell_type": "code",
   "execution_count": 13,
   "id": "1ff6ba61",
   "metadata": {},
   "outputs": [],
   "source": [
    "## split the data here\n",
    "Z_train_train, Z_val, w_train_train, w_val = train_test_split(Z_train, w_train,\n",
    "                                                                 shuffle = True,\n",
    "                                                                 random_state = 51,\n",
    "                                                                 test_size = .22)"
   ]
  },
  {
   "cell_type": "code",
   "execution_count": 16,
   "id": "0927397c",
   "metadata": {},
   "outputs": [
    {
     "name": "stdout",
     "output_type": "stream",
     "text": [
      "750\n",
      "15% of 750 is 165.0\n"
     ]
    }
   ],
   "source": [
    "print(len(Z_train))\n",
    "print(\"15% of\",len(Z_train),\"is\",.22*len(Z_train))"
   ]
  },
  {
   "cell_type": "code",
   "execution_count": 15,
   "id": "cdc35886",
   "metadata": {},
   "outputs": [
    {
     "name": "stdout",
     "output_type": "stream",
     "text": [
      "Shape of X_train_train (585, 10)\n",
      "Shape of X_val (165, 10)\n",
      "Length of y_train_train 585\n",
      "Length of y_val 165\n"
     ]
    }
   ],
   "source": [
    "print(\"Shape of X_train_train\", Z_train_train.shape)\n",
    "print(\"Shape of X_val\", Z_val.shape)\n",
    "print(\"Length of y_train_train\", len(w_train_train))\n",
    "print(\"Length of y_val\", len(w_val))"
   ]
  },
  {
   "cell_type": "markdown",
   "id": "3346d703",
   "metadata": {},
   "source": [
    "### $k$-Fold cross-validation\n",
    "\n",
    "The validation set approach in essence gives us a <i>point estimate</i> of $G$. An issue with this approach for model selection is that point estimates are not always reflective of overall or even average model performance. What would be really nice is knowing something about the distribution from which $G$ is drawn. While this is difficult, we can leverage a well known rule from probability theory called the <i>law of large numbers</i>.\n",
    "\n",
    "#### The law of large numbers\n",
    "\n",
    "As a quick review let us remind ourselves what the law of large numbers says.\n",
    "\n",
    "Let $V_1, V_2, \\dots, V_n$ denote a sequence of independent identically distributed random variables with true mean $\\mu$. Let $\\overline{V} = \\frac{1}{n} \\left(V_1 + V_2 + \\dots + V_n \\right)$. The law of large numbers says that $\\lim_{n\\rightarrow\\infty} \\overline{V} = \\mu$\n",
    "\n",
    "What this says is that the arithmetic mean of a set of random draws will be \"close\" to the expected value of the distribution given enough draws.\n",
    "\n",
    "#### Leveraging the law of large numbers\n",
    "\n",
    "We can use this probability rule to our advantage to estimate the average (or expected) generalization error. If we can somehow generate a sequence of observations of this error, say $G_1, G_2, \\dots, G_n$, then we know that $\\overline{G} \\approx E(G)$. How do we generate such a sequence? Enter $k$-fold cross-validation.\n",
    "\n",
    "After conducting your train test split, you will randomly break your training set into $k$ equally sized (or roughly equal depending on how the division works out) chunks. You then generate \"observations\" of $G$ by cycling through each of the $k$ chunks. For each chunk you train your model on the $k-1$ other chunks and then calculate the error of that model on the chunk you held out. At the end you will have $k$ observations of $G$. Calculating the arithmetic mean of $G_1, \\dots, G_k$ gives you an estimate of $E(G)$.\n",
    "\n",
    "If those words were confusing let's look at some pictures instead.\n",
    "\n",
    "\n",
    "<img src=\"cv1.png\" width=\"60%\"></img>\n",
    "\n",
    "<br>\n",
    "<br>\n",
    "<br>\n",
    "\n",
    "<img src=\"cv2.png\" width=\"60%\"></img>\n",
    "\n",
    "Common values for $k$ are $5$ and $10$.\n",
    "\n",
    "#### Implementing $k$-fold cross-validation in `sklearn`.\n",
    "\n",
    "You can implement cross-validation using `sklearn`'s `KFold` object. Documentation for this method can be found here <a href=\"https://scikit-learn.org/stable/modules/generated/sklearn.model_selection.KFold.html\">https://scikit-learn.org/stable/modules/generated/sklearn.model_selection.KFold.html</a>."
   ]
  },
  {
   "cell_type": "code",
   "execution_count": 17,
   "id": "7494a6df",
   "metadata": {},
   "outputs": [],
   "source": [
    "## import KFold\n",
    "from sklearn.model_selection import KFold"
   ]
  },
  {
   "cell_type": "code",
   "execution_count": 18,
   "id": "4fe87b14",
   "metadata": {},
   "outputs": [],
   "source": [
    "## make a KFold object\n",
    "## n_splits controls the value of k\n",
    "## shuffle=True, randomly shuffles the data prior to splitting\n",
    "## random_state is the same as for train_test_split\n",
    "kfold = KFold(n_splits = 5,\n",
    "              shuffle = True,\n",
    "              random_state = 582)"
   ]
  },
  {
   "cell_type": "code",
   "execution_count": 19,
   "id": "a100e3db",
   "metadata": {},
   "outputs": [
    {
     "data": {
      "text/plain": [
       "<generator object _BaseKFold.split at 0x158c82ac0>"
      ]
     },
     "execution_count": 19,
     "metadata": {},
     "output_type": "execute_result"
    }
   ],
   "source": [
    "## demonstrate.split\n",
    "kfold.split(X_train, y_train)"
   ]
  },
  {
   "cell_type": "code",
   "execution_count": 20,
   "id": "4d1adf09",
   "metadata": {},
   "outputs": [
    {
     "name": "stdout",
     "output_type": "stream",
     "text": [
      "Train index: [  0   1   2   3   4   5   6   8  10  11  12  13  14  15  17  18  21  22\n",
      "  23  25  27  28  29  30  31  32  33  34  35  36  37  38  41  45  46  47\n",
      "  48  49  50  51  52  53  54  55  56  57  58  59  60  61  63  64  66  67\n",
      "  68  69  70  71  72  73  74  75  76  78  79  80  83  84  85  86  87  88\n",
      "  89  90  91  92  93  94  95  96  97  99 100 102 103 104 105 107 108 109\n",
      " 110 111 112 114 115 116 117 118 119 120 121 122 124 125 126 127 128 129\n",
      " 130 132 133 135 136 137 139 141 142 145 146 147 148 149 150 151 154 155\n",
      " 156 157 158 159 160 161 162 163 164 166 168 169 170 171 173 174 175 176\n",
      " 177 178 179 180 182 183 184 185 187 189 190 191 192 193 194 195 198 200\n",
      " 201 202 203 204 205 206 207 208 209 210 211 213 216 217 219 220 221 222\n",
      " 224 225 227 228 229 231 233 234 235 236 237 239 240 241 242 243 244 245\n",
      " 246 247 249 250 253 254 255 256 257 259 260 261 262 263 264 265 266 267\n",
      " 268 269 270 271 272 273 275 276 277 278 281 282 283 284 285 286 287 288\n",
      " 289 291 293 294 295 296 297 300 301 302 303 304 306 308 309 310 311 312\n",
      " 313 315 316 317 319 320 321 322 324 325 326 329 330 331 332 333 334 335\n",
      " 336 337 338 340 342 344 346 347 348 350 353 354 355 356 357 358 359 360\n",
      " 361 364 365 366 367 368 369 371 373 374 375 376 377 378 379 380 381 382\n",
      " 383 386 387 388 389 390 391 392 393 394 395 396 397 398 399 401 404 407\n",
      " 408 409 410 411 413 414 416 417 418 419 420 421 423 424 425 426 427 428\n",
      " 429 430 431 432 433 434 435 436 437 438 440 443 444 445 446 447 448 451\n",
      " 452 453 454 456 457 458 459 460 461 462 463 464 466 467 468 469 470 471\n",
      " 472 473 474 475 476 477 479 480 481 482 483 484 485 486 487 489 490 491\n",
      " 492 493 494 495 497 498 499 500 502 504 505 506 508 509 510 511 512 514\n",
      " 515 516 518 519 520 521 522 523 524 525 528 529 530 531 532 533 534 536\n",
      " 537 538 539 541 542 543 544 545 546 547 548 549 550 551 552 553 554 555\n",
      " 556 557 559 560 561 563 565 566 567 569 570 571 572 575 576 578 579 580\n",
      " 581 582 585 586 587 588 590 591 593 594 595 596 597 598 599 600 601 602\n",
      " 603 604 605 608 609 610 611 612 613 614 615 616 617 620 621 622 623 624\n",
      " 625 626 627 628 629 631 633 636 638 639 640 641 642 645 646 647 648 649\n",
      " 650 651 652 654 655 656 657 658 659 661 662 664 665 666 668 670 671 672\n",
      " 673 674 675 676 677 678 679 680 682 683 684 686 688 689 690 691 692 693\n",
      " 694 700 701 703 704 705 706 707 708 709 710 711 712 713 714 715 716 717\n",
      " 718 719 720 722 724 725 726 727 728 729 730 731 732 733 734 735 736 737\n",
      " 739 740 741 742 743 744 746 747 748 751 752 753 754 757 758 760 761 762\n",
      " 764 765 766 767 768 769 770 772 773 775 776 777 779 780 781 783 785 787\n",
      " 788 789 790 791 793 794 795 796 797 798]\n",
      "Test index: [  7   9  16  19  20  24  26  39  40  42  43  44  62  65  77  81  82  98\n",
      " 101 106 113 123 131 134 138 140 143 144 152 153 165 167 172 181 186 188\n",
      " 196 197 199 212 214 215 218 223 226 230 232 238 248 251 252 258 274 279\n",
      " 280 290 292 298 299 305 307 314 318 323 327 328 339 341 343 345 349 351\n",
      " 352 362 363 370 372 384 385 400 402 403 405 406 412 415 422 439 441 442\n",
      " 449 450 455 465 478 488 496 501 503 507 513 517 526 527 535 540 558 562\n",
      " 564 568 573 574 577 583 584 589 592 606 607 618 619 630 632 634 635 637\n",
      " 643 644 653 660 663 667 669 681 685 687 695 696 697 698 699 702 721 723\n",
      " 738 745 749 750 755 756 759 763 771 774 778 782 784 786 792 799]\n",
      "\n",
      "\n",
      "Train index: [  1   2   5   6   7   8   9  10  11  12  13  14  16  17  19  20  21  22\n",
      "  23  24  25  26  27  28  29  30  31  32  33  34  36  37  38  39  40  41\n",
      "  42  43  44  45  46  47  49  50  51  53  54  55  56  57  58  61  62  63\n",
      "  64  65  66  67  69  71  73  74  75  77  78  79  80  81  82  83  86  87\n",
      "  88  89  90  92  93  94  96  97  98  99 100 101 102 103 104 106 108 109\n",
      " 111 112 113 114 115 116 117 118 120 121 123 124 125 126 127 128 130 131\n",
      " 133 134 135 136 137 138 139 140 141 143 144 145 146 147 148 150 151 152\n",
      " 153 154 155 158 159 160 161 162 163 164 165 166 167 168 169 170 171 172\n",
      " 174 175 176 177 178 179 180 181 182 183 184 186 187 188 189 190 195 196\n",
      " 197 199 200 201 202 204 206 208 209 210 211 212 213 214 215 216 218 219\n",
      " 220 221 222 223 226 229 230 231 232 233 234 235 236 237 238 239 240 242\n",
      " 243 245 247 248 249 251 252 254 255 256 257 258 259 261 264 265 266 267\n",
      " 268 269 271 273 274 275 277 278 279 280 281 282 284 285 287 288 289 290\n",
      " 292 293 295 297 298 299 300 301 304 305 307 309 310 311 312 313 314 316\n",
      " 317 318 319 321 322 323 325 326 327 328 329 330 331 333 334 335 336 337\n",
      " 338 339 340 341 342 343 344 345 346 347 349 351 352 353 356 357 358 359\n",
      " 360 361 362 363 364 365 366 368 369 370 371 372 373 374 375 377 378 379\n",
      " 380 384 385 386 387 389 390 391 392 393 394 395 396 397 398 400 401 402\n",
      " 403 404 405 406 408 409 411 412 414 415 417 418 419 420 421 422 423 425\n",
      " 426 427 428 429 433 434 435 436 438 439 440 441 442 443 445 447 448 449\n",
      " 450 451 452 454 455 456 458 459 461 462 463 464 465 466 469 470 472 473\n",
      " 474 475 476 478 479 483 484 485 486 487 488 489 491 492 495 496 497 498\n",
      " 499 500 501 502 503 504 505 506 507 508 510 511 512 513 515 516 517 518\n",
      " 520 521 522 523 524 525 526 527 529 531 532 533 534 535 536 537 538 540\n",
      " 541 542 543 544 545 546 547 548 549 551 554 557 558 559 560 561 562 563\n",
      " 564 565 566 567 568 569 570 571 572 573 574 575 577 578 580 581 583 584\n",
      " 585 588 589 590 591 592 593 594 595 596 597 598 600 601 602 606 607 608\n",
      " 610 611 613 615 617 618 619 620 621 622 624 625 628 629 630 631 632 634\n",
      " 635 637 639 640 641 642 643 644 645 646 647 649 650 651 652 653 655 656\n",
      " 657 658 660 661 662 663 666 667 668 669 670 671 674 675 676 677 678 680\n",
      " 681 683 685 686 687 689 690 691 694 695 696 697 698 699 700 701 702 703\n",
      " 704 705 707 708 710 711 713 714 715 716 717 718 719 721 722 723 724 726\n",
      " 727 728 729 730 731 732 733 734 735 736 737 738 739 740 741 742 743 744\n",
      " 745 746 747 748 749 750 751 752 753 754 755 756 757 758 759 760 762 763\n",
      " 764 765 766 767 768 769 771 773 774 775 776 778 780 781 782 783 784 785\n",
      " 786 789 792 793 794 795 796 797 798 799]\n",
      "Test index: [  0   3   4  15  18  35  48  52  59  60  68  70  72  76  84  85  91  95\n",
      " 105 107 110 119 122 129 132 142 149 156 157 173 185 191 192 193 194 198\n",
      " 203 205 207 217 224 225 227 228 241 244 246 250 253 260 262 263 270 272\n",
      " 276 283 286 291 294 296 302 303 306 308 315 320 324 332 348 350 354 355\n",
      " 367 376 381 382 383 388 399 407 410 413 416 424 430 431 432 437 444 446\n",
      " 453 457 460 467 468 471 477 480 481 482 490 493 494 509 514 519 528 530\n",
      " 539 550 552 553 555 556 576 579 582 586 587 599 603 604 605 609 612 614\n",
      " 616 623 626 627 633 636 638 648 654 659 664 665 672 673 679 682 684 688\n",
      " 692 693 706 709 712 720 725 761 770 772 777 779 787 788 790 791]\n",
      "\n",
      "\n",
      "Train index: [  0   3   4   5   7   8   9  11  13  14  15  16  17  18  19  20  22  23\n",
      "  24  26  27  28  29  31  34  35  37  38  39  40  41  42  43  44  45  46\n",
      "  47  48  49  50  52  53  54  55  58  59  60  61  62  64  65  66  67  68\n",
      "  69  70  71  72  73  74  75  76  77  78  79  80  81  82  83  84  85  86\n",
      "  87  88  90  91  93  94  95  97  98 101 102 103 104 105 106 107 108 109\n",
      " 110 112 113 114 115 116 119 120 121 122 123 124 126 127 128 129 131 132\n",
      " 134 135 136 137 138 140 142 143 144 148 149 151 152 153 154 156 157 159\n",
      " 160 161 162 164 165 166 167 168 169 170 172 173 176 177 178 180 181 183\n",
      " 184 185 186 188 190 191 192 193 194 195 196 197 198 199 200 201 203 205\n",
      " 206 207 208 209 210 212 214 215 217 218 219 220 221 222 223 224 225 226\n",
      " 227 228 230 231 232 235 237 238 240 241 243 244 245 246 247 248 249 250\n",
      " 251 252 253 254 256 258 260 261 262 263 267 269 270 271 272 273 274 276\n",
      " 278 279 280 283 284 285 286 288 290 291 292 293 294 296 298 299 300 301\n",
      " 302 303 304 305 306 307 308 309 311 313 314 315 316 317 318 319 320 322\n",
      " 323 324 325 326 327 328 329 330 331 332 333 334 335 336 339 340 341 342\n",
      " 343 344 345 346 348 349 350 351 352 353 354 355 356 357 358 361 362 363\n",
      " 366 367 368 369 370 371 372 374 375 376 378 379 380 381 382 383 384 385\n",
      " 386 387 388 390 391 392 394 395 397 398 399 400 401 402 403 404 405 406\n",
      " 407 408 410 411 412 413 414 415 416 417 418 419 422 424 425 426 427 428\n",
      " 430 431 432 433 435 436 437 438 439 440 441 442 444 446 449 450 451 452\n",
      " 453 454 455 457 458 460 461 462 463 465 466 467 468 471 473 476 477 478\n",
      " 479 480 481 482 483 484 486 488 489 490 492 493 494 495 496 497 498 499\n",
      " 500 501 503 504 506 507 508 509 511 513 514 516 517 518 519 522 523 524\n",
      " 526 527 528 530 531 533 535 536 537 539 540 541 542 545 546 547 548 549\n",
      " 550 551 552 553 555 556 558 559 560 561 562 563 564 565 567 568 569 571\n",
      " 572 573 574 575 576 577 578 579 580 582 583 584 585 586 587 588 589 590\n",
      " 591 592 596 598 599 600 603 604 605 606 607 608 609 611 612 614 615 616\n",
      " 617 618 619 620 622 623 624 625 626 627 628 629 630 631 632 633 634 635\n",
      " 636 637 638 639 641 643 644 645 646 647 648 651 652 653 654 655 656 657\n",
      " 659 660 661 662 663 664 665 667 668 669 670 671 672 673 675 676 677 679\n",
      " 680 681 682 684 685 687 688 689 691 692 693 694 695 696 697 698 699 700\n",
      " 701 702 705 706 707 708 709 710 712 713 714 715 716 717 718 719 720 721\n",
      " 722 723 724 725 728 730 732 736 737 738 739 740 741 742 743 744 745 746\n",
      " 747 748 749 750 751 752 753 754 755 756 757 758 759 761 763 764 765 766\n",
      " 768 769 770 771 772 773 774 775 777 778 779 782 783 784 785 786 787 788\n",
      " 789 790 791 792 793 794 795 797 798 799]\n",
      "Test index: [  1   2   6  10  12  21  25  30  32  33  36  51  56  57  63  89  92  96\n",
      "  99 100 111 117 118 125 130 133 139 141 145 146 147 150 155 158 163 171\n",
      " 174 175 179 182 187 189 202 204 211 213 216 229 233 234 236 239 242 255\n",
      " 257 259 264 265 266 268 275 277 281 282 287 289 295 297 310 312 321 337\n",
      " 338 347 359 360 364 365 373 377 389 393 396 409 420 421 423 429 434 443\n",
      " 445 447 448 456 459 464 469 470 472 474 475 485 487 491 502 505 510 512\n",
      " 515 520 521 525 529 532 534 538 543 544 554 557 566 570 581 593 594 595\n",
      " 597 601 602 610 613 621 640 642 649 650 658 666 674 678 683 686 690 703\n",
      " 704 711 726 727 729 731 733 734 735 760 762 767 776 780 781 796]\n",
      "\n",
      "\n",
      "Train index: [  0   1   2   3   4   6   7   9  10  11  12  13  15  16  18  19  20  21\n",
      "  22  24  25  26  27  30  31  32  33  34  35  36  39  40  42  43  44  48\n",
      "  50  51  52  54  56  57  59  60  61  62  63  64  65  68  69  70  71  72\n",
      "  74  75  76  77  78  80  81  82  84  85  87  88  89  91  92  93  94  95\n",
      "  96  97  98  99 100 101 102 105 106 107 108 109 110 111 112 113 115 116\n",
      " 117 118 119 120 122 123 125 128 129 130 131 132 133 134 138 139 140 141\n",
      " 142 143 144 145 146 147 149 150 151 152 153 154 155 156 157 158 160 161\n",
      " 162 163 164 165 167 168 171 172 173 174 175 176 178 179 180 181 182 183\n",
      " 185 186 187 188 189 191 192 193 194 196 197 198 199 201 202 203 204 205\n",
      " 206 207 208 211 212 213 214 215 216 217 218 219 221 222 223 224 225 226\n",
      " 227 228 229 230 232 233 234 236 238 239 240 241 242 243 244 245 246 248\n",
      " 249 250 251 252 253 254 255 256 257 258 259 260 261 262 263 264 265 266\n",
      " 268 270 272 274 275 276 277 278 279 280 281 282 283 286 287 288 289 290\n",
      " 291 292 294 295 296 297 298 299 300 301 302 303 304 305 306 307 308 310\n",
      " 312 314 315 316 318 320 321 322 323 324 326 327 328 332 333 334 335 336\n",
      " 337 338 339 340 341 342 343 344 345 346 347 348 349 350 351 352 353 354\n",
      " 355 359 360 362 363 364 365 367 368 369 370 372 373 374 375 376 377 380\n",
      " 381 382 383 384 385 386 388 389 393 394 396 399 400 401 402 403 405 406\n",
      " 407 408 409 410 412 413 414 415 416 419 420 421 422 423 424 425 429 430\n",
      " 431 432 433 434 435 436 437 439 440 441 442 443 444 445 446 447 448 449\n",
      " 450 451 453 455 456 457 459 460 461 463 464 465 466 467 468 469 470 471\n",
      " 472 473 474 475 476 477 478 479 480 481 482 484 485 487 488 489 490 491\n",
      " 492 493 494 495 496 500 501 502 503 504 505 507 509 510 511 512 513 514\n",
      " 515 517 518 519 520 521 525 526 527 528 529 530 531 532 534 535 538 539\n",
      " 540 541 543 544 545 546 547 548 549 550 551 552 553 554 555 556 557 558\n",
      " 559 560 561 562 563 564 566 567 568 570 573 574 575 576 577 578 579 580\n",
      " 581 582 583 584 585 586 587 589 590 591 592 593 594 595 597 598 599 601\n",
      " 602 603 604 605 606 607 609 610 612 613 614 615 616 618 619 621 623 624\n",
      " 625 626 627 628 629 630 632 633 634 635 636 637 638 639 640 641 642 643\n",
      " 644 647 648 649 650 651 653 654 656 657 658 659 660 662 663 664 665 666\n",
      " 667 668 669 671 672 673 674 678 679 681 682 683 684 685 686 687 688 689\n",
      " 690 692 693 695 696 697 698 699 700 702 703 704 705 706 709 711 712 714\n",
      " 716 718 720 721 722 723 724 725 726 727 729 731 732 733 734 735 737 738\n",
      " 739 740 741 744 745 748 749 750 753 754 755 756 758 759 760 761 762 763\n",
      " 764 767 770 771 772 773 774 775 776 777 778 779 780 781 782 784 785 786\n",
      " 787 788 789 790 791 792 794 795 796 799]\n",
      "Test index: [  5   8  14  17  23  28  29  37  38  41  45  46  47  49  53  55  58  66\n",
      "  67  73  79  83  86  90 103 104 114 121 124 126 127 135 136 137 148 159\n",
      " 166 169 170 177 184 190 195 200 209 210 220 231 235 237 247 267 269 271\n",
      " 273 284 285 293 309 311 313 317 319 325 329 330 331 356 357 358 361 366\n",
      " 371 378 379 387 390 391 392 395 397 398 404 411 417 418 426 427 428 438\n",
      " 452 454 458 462 483 486 497 498 499 506 508 516 522 523 524 533 536 537\n",
      " 542 565 569 571 572 588 596 600 608 611 617 620 622 631 645 646 652 655\n",
      " 661 670 675 676 677 680 691 694 701 707 708 710 713 715 717 719 728 730\n",
      " 736 742 743 746 747 751 752 757 765 766 768 769 783 793 797 798]\n",
      "\n",
      "\n",
      "Train index: [  0   1   2   3   4   5   6   7   8   9  10  12  14  15  16  17  18  19\n",
      "  20  21  23  24  25  26  28  29  30  32  33  35  36  37  38  39  40  41\n",
      "  42  43  44  45  46  47  48  49  51  52  53  55  56  57  58  59  60  62\n",
      "  63  65  66  67  68  70  72  73  76  77  79  81  82  83  84  85  86  89\n",
      "  90  91  92  95  96  98  99 100 101 103 104 105 106 107 110 111 113 114\n",
      " 117 118 119 121 122 123 124 125 126 127 129 130 131 132 133 134 135 136\n",
      " 137 138 139 140 141 142 143 144 145 146 147 148 149 150 152 153 155 156\n",
      " 157 158 159 163 165 166 167 169 170 171 172 173 174 175 177 179 181 182\n",
      " 184 185 186 187 188 189 190 191 192 193 194 195 196 197 198 199 200 202\n",
      " 203 204 205 207 209 210 211 212 213 214 215 216 217 218 220 223 224 225\n",
      " 226 227 228 229 230 231 232 233 234 235 236 237 238 239 241 242 244 246\n",
      " 247 248 250 251 252 253 255 257 258 259 260 262 263 264 265 266 267 268\n",
      " 269 270 271 272 273 274 275 276 277 279 280 281 282 283 284 285 286 287\n",
      " 289 290 291 292 293 294 295 296 297 298 299 302 303 305 306 307 308 309\n",
      " 310 311 312 313 314 315 317 318 319 320 321 323 324 325 327 328 329 330\n",
      " 331 332 337 338 339 341 343 345 347 348 349 350 351 352 354 355 356 357\n",
      " 358 359 360 361 362 363 364 365 366 367 370 371 372 373 376 377 378 379\n",
      " 381 382 383 384 385 387 388 389 390 391 392 393 395 396 397 398 399 400\n",
      " 402 403 404 405 406 407 409 410 411 412 413 415 416 417 418 420 421 422\n",
      " 423 424 426 427 428 429 430 431 432 434 437 438 439 441 442 443 444 445\n",
      " 446 447 448 449 450 452 453 454 455 456 457 458 459 460 462 464 465 467\n",
      " 468 469 470 471 472 474 475 477 478 480 481 482 483 485 486 487 488 490\n",
      " 491 493 494 496 497 498 499 501 502 503 505 506 507 508 509 510 512 513\n",
      " 514 515 516 517 519 520 521 522 523 524 525 526 527 528 529 530 532 533\n",
      " 534 535 536 537 538 539 540 542 543 544 550 552 553 554 555 556 557 558\n",
      " 562 564 565 566 568 569 570 571 572 573 574 576 577 579 581 582 583 584\n",
      " 586 587 588 589 592 593 594 595 596 597 599 600 601 602 603 604 605 606\n",
      " 607 608 609 610 611 612 613 614 616 617 618 619 620 621 622 623 626 627\n",
      " 630 631 632 633 634 635 636 637 638 640 642 643 644 645 646 648 649 650\n",
      " 652 653 654 655 658 659 660 661 663 664 665 666 667 669 670 672 673 674\n",
      " 675 676 677 678 679 680 681 682 683 684 685 686 687 688 690 691 692 693\n",
      " 694 695 696 697 698 699 701 702 703 704 706 707 708 709 710 711 712 713\n",
      " 715 717 719 720 721 723 725 726 727 728 729 730 731 733 734 735 736 738\n",
      " 742 743 745 746 747 749 750 751 752 755 756 757 759 760 761 762 763 765\n",
      " 766 767 768 769 770 771 772 774 776 777 778 779 780 781 782 783 784 786\n",
      " 787 788 790 791 792 793 796 797 798 799]\n",
      "Test index: [ 11  13  22  27  31  34  50  54  61  64  69  71  74  75  78  80  87  88\n",
      "  93  94  97 102 108 109 112 115 116 120 128 151 154 160 161 162 164 168\n",
      " 176 178 180 183 201 206 208 219 221 222 240 243 245 249 254 256 261 278\n",
      " 288 300 301 304 316 322 326 333 334 335 336 340 342 344 346 353 368 369\n",
      " 374 375 380 386 394 401 408 414 419 425 433 435 436 440 451 461 463 466\n",
      " 473 476 479 484 489 492 495 500 504 511 518 531 541 545 546 547 548 549\n",
      " 551 559 560 561 563 567 575 578 580 585 590 591 598 615 624 625 628 629\n",
      " 639 641 647 651 656 657 662 668 671 689 700 705 714 716 718 722 724 732\n",
      " 737 739 740 741 744 748 753 754 758 764 773 775 785 789 794 795]\n",
      "\n",
      "\n"
     ]
    }
   ],
   "source": [
    "## use for loop to demonstrate .split\n",
    "for train_index, test_index in kfold.split(X_train, y_train):\n",
    "    print(\"Train index:\", train_index)\n",
    "    print(\"Test index:\", test_index)\n",
    "    print()\n",
    "    print()"
   ]
  },
  {
   "cell_type": "code",
   "execution_count": 21,
   "id": "d72c84d9",
   "metadata": {},
   "outputs": [],
   "source": [
    "## When fitting a model we'd do something like the following\n",
    "for train_index, test_index in kfold.split(X_train, y_train):\n",
    "    ## get the kfold training data\n",
    "    X_train_train = X_train[train_index,:]\n",
    "    y_train_train = y_train[train_index]\n",
    "    \n",
    "    ## get the holdout data\n",
    "    X_holdout = X_train[test_index,:]\n",
    "    y_holdout = y_train[test_index]\n",
    "    \n",
    "    ## Then you'd fit your model\n",
    "    ## Then you'd record the error on the holdout set here\n",
    "#     model.fit(X_train_train, y_train_train)\n",
    "    \n",
    "#     error(y_holdout, model.predict(X_holdout))"
   ]
  },
  {
   "cell_type": "markdown",
   "id": "70382988",
   "metadata": {},
   "source": [
    "##### Exercise\n",
    "\n",
    "Using the $(Z, w)$ data from before perform $10$-fold cross-validation on the training set."
   ]
  },
  {
   "cell_type": "code",
   "execution_count": 22,
   "id": "6f4ec9e8",
   "metadata": {},
   "outputs": [],
   "source": [
    "## Work here\n",
    "kfold = KFold(n_splits = 10,\n",
    "                 shuffle = True,\n",
    "                 random_state = 323)"
   ]
  },
  {
   "cell_type": "code",
   "execution_count": 25,
   "id": "3ad7770b",
   "metadata": {},
   "outputs": [],
   "source": [
    "## Work here\n",
    "for train_index, test_index in kfold.split(Z_train, w_train):\n",
    "    Z_train_train = Z_train[train_index, :]\n",
    "    w_train_train = w_train[train_index]\n",
    "    \n",
    "    Z_holdout = Z_train[test_index, :]\n",
    "    w_holdout = w_train[test_index]"
   ]
  },
  {
   "cell_type": "markdown",
   "id": "cee0d1ab",
   "metadata": {},
   "source": [
    "### Validation set or cross-validation\n",
    "\n",
    "Cross-validation, when feasible, is preferred to a single validation set. In general it is better to have a collection of estimates than just a single point estimate.\n",
    "\n",
    "However, it is not always feasible to perform cross-validation. Two limiting factors to consider are:\n",
    "1. Data set size and\n",
    "2. Model training time.\n",
    "\n",
    "In the case of 1., if you have too few observations cross-validation is not possible. This is because splitting your dataset into too many different sets can lead to deficiencies in both model fitting and estimation of $G$.\n",
    "\n",
    "Regarding 2. models that take prohibitively long to train limit the usefulness of cross-validation. $k$-fold cross-validation requires you to train the model $k$ distinct times.\n",
    "\n",
    "In either of those cases a validation set is preferred."
   ]
  },
  {
   "cell_type": "markdown",
   "id": "0e870c74",
   "metadata": {},
   "source": [
    "--------------------------\n",
    "\n",
    "This notebook was written for the Erd&#337;s Institute C&#337;de Data Science Boot Camp by Matthew Osborne, Ph. D., 2022.\n",
    "\n",
    "Any potential redistributors must seek and receive permission from Matthew Tyler Osborne, Ph.D. prior to redistribution. Redistribution of the material contained in this repository is conditional on acknowledgement of Matthew Tyler Osborne, Ph.D.'s original authorship and sponsorship of the Erdős Institute as subject to the license (see License.md)"
   ]
  },
  {
   "cell_type": "code",
   "execution_count": null,
   "id": "62daf9a9",
   "metadata": {},
   "outputs": [],
   "source": []
  }
 ],
 "metadata": {
  "kernelspec": {
   "display_name": "Python 3 (ipykernel)",
   "language": "python",
   "name": "python3"
  },
  "language_info": {
   "codemirror_mode": {
    "name": "ipython",
    "version": 3
   },
   "file_extension": ".py",
   "mimetype": "text/x-python",
   "name": "python",
   "nbconvert_exporter": "python",
   "pygments_lexer": "ipython3",
   "version": "3.9.9"
  }
 },
 "nbformat": 4,
 "nbformat_minor": 5
}
