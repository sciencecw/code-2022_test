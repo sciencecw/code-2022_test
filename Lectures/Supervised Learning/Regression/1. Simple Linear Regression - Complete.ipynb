{
 "cells": [
  {
   "cell_type": "markdown",
   "id": "52da8da7",
   "metadata": {},
   "source": [
    "# Simple Linear Regression\n",
    "\n",
    "We start our section on regression with the simplest model, simple linear regression.\n",
    "\n",
    "## What we will accomplish in this notebook\n",
    "\n",
    "In this notebook we will:\n",
    "- Introduce the simple linear regression model,\n",
    "- Discuss and visualize its assumptions,\n",
    "- Demonstrate how to fit the model theoretically and practically and\n",
    "- Define mean square error (MSE)"
   ]
  },
  {
   "cell_type": "code",
   "execution_count": 1,
   "id": "3b710adb",
   "metadata": {},
   "outputs": [],
   "source": [
    "import pandas as pd\n",
    "import numpy as np\n",
    "import matplotlib.pyplot as plt\n",
    "from seaborn import set_style\n",
    "\n",
    "set_style(\"whitegrid\")"
   ]
  },
  {
   "cell_type": "markdown",
   "id": "7a13f7a5",
   "metadata": {},
   "source": [
    "## The model\n",
    "\n",
    "In simple linear regression (SLR) we have a variable we would like to predict, $y$, and a single feature $x$. The form of $f$ in the supervised learning framework we have discussed is as follows:\n",
    "\n",
    "$$\n",
    "y = f(x) + \\epsilon = \\beta_0 + \\beta_1 x + \\epsilon,\n",
    "$$\n",
    "\n",
    "where $\\beta_0, \\beta_1 \\in \\mathbb{R}$ are constants we must estimate and we assume that $\\epsilon \\sim N(0,\\sigma)$ is an error term independent of $x$.\n",
    "\n",
    "### Visualizing the model\n",
    "\n",
    "Let's think about what this model is saying about the outcome variable, $y$. For help we will look at the picture drawn below.\n",
    "\n",
    "<img src=\"slr_curves.png\" width=\"60%\"></img>\n",
    "\n",
    "Above we see both the systematic part and the random error. For a given value of $x$ you can find the theoretically possible values for $y$ by going to the line $\\beta_0 + \\beta_1 x$ and randomly drawing an error term from the normal distribution centered on the line. We can also see one of our key assumptions at play (minus a few artistic deficiencies on my part), no matter what the value of $x$, our errors are drawn from the same exact bell curve.\n",
    "\n",
    "If our assumptions hold, we can derive some nice features about estimates and predictions made in the course of fitting this model that we may touch on in our problem session and/or the corresponding `Practice Problems` notebook.\n",
    "\n",
    "### Fitting the model\n",
    "\n",
    "Given $n$ observations of pairs $(x_i,y_i)$, $i = 1,\\dots,n$ how do we fit this model, what do we need to estimate? Remember that our goal is to find an estimate of $f$ called $\\hat{f}$. For SLR this means that we need to estimate $\\beta_0$ and $\\beta_1$, i.e. we need to find $\\hat{\\beta_0}$ and $\\hat{\\beta_1}$.\n",
    "\n",
    "#### Minimizing mean square error (MSE)\n",
    "\n",
    "We find a $\\hat{\\beta_0}$ and $\\hat{\\beta_1}$ by minimizing a <i>loss function</i>, namely the mean square error (MSE), which is given by:\n",
    "\n",
    "$$\n",
    "MSE = \\frac{1}{n}\\sum_{i=1}^n (y_i - \\hat{f}(x_i))^2.\n",
    "$$\n",
    "\n",
    "For the particular case of SLR this is:\n",
    "\n",
    "$$\n",
    "MSE = \\frac{1}{n}\\sum_{i=1}^n (y_i - \\hat{\\beta_0} - \\hat{\\beta_1} x_i)^2.\n",
    "$$\n",
    "\n",
    "The MSE represents the average square error of the estimate from the actual value, for a measurement of the average error that is on the same scale as $y$ you can take the square root of the MSE known as the Root MSE or RMSE.\n",
    "\n",
    "Doing a little bit of calculus you can find that the values of $\\hat{\\beta_0}$ and $\\hat{\\beta_1}$ that minimize the MSE are:\n",
    "\n",
    "$$\n",
    "\\hat{\\beta_0} = \\overline{y} - \\hat{\\beta_1} \\overline{x}, \\text{ and}\n",
    "$$\n",
    "\n",
    "$$\n",
    "\\hat{\\beta_1} = \\frac{\\sum_{i=1}^n \\left( x_i - \\overline{x}\\right)\\left( y_i - \\overline{y} \\right)}{\\sum_{i=1}^n \\left(x_i - \\overline{x} \\right)^2} = \\frac{\\text{cov}(x,y)}{\\text{var}(x)},\n",
    "$$\n",
    "\n",
    "where $\\overline{x}$ and $\\overline{y}$ are the means of $x$ and $y$ respectively, $\\text{cov}$ denotes the covariance and $\\text{var}$ denotes the variance.\n",
    "\n",
    "<i>Note:</i> MSE is used as the default loss function for simple linear regression for a number of reasons stemming from its roots as a statistical regression technique. Importantly, MSE is differentiable with respect to $\\hat{\\beta}_i$ and is a convex function. However, MSE is not the only loss function people consider in this type of model. Check out the corresponding `Practice Problems` notebook to learn about mean absolute error (MAE)."
   ]
  },
  {
   "cell_type": "markdown",
   "id": "7898b2e3",
   "metadata": {},
   "source": [
    "## Implementing SLR in `sklearn`\n",
    "\n",
    "While we can code up coefficient estimates for SLR using the formulae we just derived, we can also use `sklearn`'s `LinearRegression` model object. This will be our first model object from scikit-learn, but it will not be our last.\n",
    "\n",
    "Here is the documentation for `LinearRegression`, <a href=\"https://scikit-learn.org/stable/modules/generated/sklearn.linear_model.LinearRegression.html\">https://scikit-learn.org/stable/modules/generated/sklearn.linear_model.LinearRegression.html</a>. We will show how to fit the model with some randomly generated data, but in the next notebook we will work with some real data."
   ]
  },
  {
   "cell_type": "code",
   "execution_count": 2,
   "id": "b7ffc345",
   "metadata": {},
   "outputs": [],
   "source": [
    "## Making some data\n",
    "np.random.seed(321)\n",
    "X = np.random.random(100)\n",
    "y = 2*X + 1 + .5*np.random.randn(100)"
   ]
  },
  {
   "cell_type": "code",
   "execution_count": 3,
   "id": "c1a71d6a",
   "metadata": {},
   "outputs": [
    {
     "data": {
      "image/png": "[encoded data removed]",
      "text/plain": [
       "<Figure size 576x432 with 1 Axes>"
      ]
     },
     "metadata": {},
     "output_type": "display_data"
    }
   ],
   "source": [
    "plt.figure(figsize=(8,6))\n",
    "\n",
    "plt.scatter(X, y)\n",
    "\n",
    "plt.xlabel(\"$X$\", fontsize=16)\n",
    "plt.ylabel(\"$y$\", fontsize=16)\n",
    "\n",
    "plt.show()"
   ]
  },
  {
   "cell_type": "markdown",
   "id": "12524231",
   "metadata": {},
   "source": [
    "`sklearn` is <b>the</b> python machine learning model package. We will use it frequently throughout these notebooks. `sklearn` models follow a similar pattern we will now demonstrate.\n",
    "\n",
    "##### Import the model class"
   ]
  },
  {
   "cell_type": "code",
   "execution_count": 4,
   "id": "99bba41a",
   "metadata": {},
   "outputs": [],
   "source": [
    "## First we import the model class\n",
    "from sklearn.linear_model import LinearRegression"
   ]
  },
  {
   "cell_type": "markdown",
   "id": "7f7d84c7",
   "metadata": {},
   "source": [
    "##### Make a model object"
   ]
  },
  {
   "cell_type": "code",
   "execution_count": 5,
   "id": "b3693681",
   "metadata": {},
   "outputs": [],
   "source": [
    "## Now we make an instance of the model\n",
    "## To do this just call the name of the model class, LinearRegression()\n",
    "## Sometimes there are optional arguments, here we input copy_X = True\n",
    "## this ensures that the X array is hard copied prior to fitting\n",
    "slr = LinearRegression(copy_X = True)"
   ]
  },
  {
   "cell_type": "code",
   "execution_count": 6,
   "id": "ded84f06",
   "metadata": {},
   "outputs": [
    {
     "data": {
      "text/plain": [
       "LinearRegression()"
      ]
     },
     "execution_count": 6,
     "metadata": {},
     "output_type": "execute_result"
    }
   ],
   "source": [
    "slr"
   ]
  },
  {
   "cell_type": "markdown",
   "id": "2dfad672",
   "metadata": {},
   "source": [
    "##### `fit`ting the model"
   ]
  },
  {
   "cell_type": "code",
   "execution_count": 9,
   "id": "cdd4f8a8",
   "metadata": {},
   "outputs": [
    {
     "data": {
      "text/plain": [
       "(100, 1)"
      ]
     },
     "execution_count": 9,
     "metadata": {},
     "output_type": "execute_result"
    }
   ],
   "source": [
    "X.reshape(-1,1).shape"
   ]
  },
  {
   "cell_type": "code",
   "execution_count": 10,
   "id": "0f27291a",
   "metadata": {},
   "outputs": [
    {
     "data": {
      "text/plain": [
       "array([0.88594794, 0.07791236, 0.97964616, 0.24767146, 0.75288472,\n",
       "       0.52667564, 0.90755375, 0.8840703 , 0.08926896, 0.5173446 ,\n",
       "       0.34362129, 0.21229369, 0.36067344, 0.27077517, 0.76162502,\n",
       "       0.4780419 , 0.09899468, 0.27539478, 0.79442731, 0.51397031,\n",
       "       0.45329481, 0.25515125, 0.1139766 , 0.82431305, 0.3177535 ,\n",
       "       0.15230703, 0.21497959, 0.91211032, 0.04311515, 0.37595241,\n",
       "       0.31796557, 0.35403302, 0.93335757, 0.3885452 , 0.89593944,\n",
       "       0.14550322, 0.4903603 , 0.9233404 , 0.8013113 , 0.84837182,\n",
       "       0.66544598, 0.14321914, 0.11609391, 0.07739594, 0.38291192,\n",
       "       0.14642985, 0.44785731, 0.35552736, 0.43314193, 0.80080664,\n",
       "       0.35500568, 0.0477506 , 0.8495784 , 0.62342568, 0.14159893,\n",
       "       0.99707981, 0.43055091, 0.92260123, 0.23040647, 0.51684848,\n",
       "       0.74245013, 0.08755963, 0.20380958, 0.5563697 , 0.0069422 ,\n",
       "       0.35661115, 0.84971676, 0.09130986, 0.1303308 , 0.81932886,\n",
       "       0.71126234, 0.51564004, 0.32849226, 0.61874605, 0.82843957,\n",
       "       0.51893094, 0.65146536, 0.84698965, 0.47796507, 0.72038246,\n",
       "       0.7057224 , 0.77446474, 0.15782307, 0.10043526, 0.63983793,\n",
       "       0.12224158, 0.54364296, 0.42278257, 0.74938053, 0.0139759 ,\n",
       "       0.84925728, 0.77967445, 0.23807523, 0.87024043, 0.4436975 ,\n",
       "       0.18578928, 0.92726635, 0.1460104 , 0.56378288, 0.93859753])"
      ]
     },
     "execution_count": 10,
     "metadata": {},
     "output_type": "execute_result"
    }
   ],
   "source": [
    "X"
   ]
  },
  {
   "cell_type": "code",
   "execution_count": 11,
   "id": "c4e3e4ab",
   "metadata": {
    "scrolled": true
   },
   "outputs": [
    {
     "data": {
      "text/plain": [
       "array([[0.88594794],\n",
       "       [0.07791236],\n",
       "       [0.97964616],\n",
       "       [0.24767146],\n",
       "       [0.75288472],\n",
       "       [0.52667564],\n",
       "       [0.90755375],\n",
       "       [0.8840703 ],\n",
       "       [0.08926896],\n",
       "       [0.5173446 ],\n",
       "       [0.34362129],\n",
       "       [0.21229369],\n",
       "       [0.36067344],\n",
       "       [0.27077517],\n",
       "       [0.76162502],\n",
       "       [0.4780419 ],\n",
       "       [0.09899468],\n",
       "       [0.27539478],\n",
       "       [0.79442731],\n",
       "       [0.51397031],\n",
       "       [0.45329481],\n",
       "       [0.25515125],\n",
       "       [0.1139766 ],\n",
       "       [0.82431305],\n",
       "       [0.3177535 ],\n",
       "       [0.15230703],\n",
       "       [0.21497959],\n",
       "       [0.91211032],\n",
       "       [0.04311515],\n",
       "       [0.37595241],\n",
       "       [0.31796557],\n",
       "       [0.35403302],\n",
       "       [0.93335757],\n",
       "       [0.3885452 ],\n",
       "       [0.89593944],\n",
       "       [0.14550322],\n",
       "       [0.4903603 ],\n",
       "       [0.9233404 ],\n",
       "       [0.8013113 ],\n",
       "       [0.84837182],\n",
       "       [0.66544598],\n",
       "       [0.14321914],\n",
       "       [0.11609391],\n",
       "       [0.07739594],\n",
       "       [0.38291192],\n",
       "       [0.14642985],\n",
       "       [0.44785731],\n",
       "       [0.35552736],\n",
       "       [0.43314193],\n",
       "       [0.80080664],\n",
       "       [0.35500568],\n",
       "       [0.0477506 ],\n",
       "       [0.8495784 ],\n",
       "       [0.62342568],\n",
       "       [0.14159893],\n",
       "       [0.99707981],\n",
       "       [0.43055091],\n",
       "       [0.92260123],\n",
       "       [0.23040647],\n",
       "       [0.51684848],\n",
       "       [0.74245013],\n",
       "       [0.08755963],\n",
       "       [0.20380958],\n",
       "       [0.5563697 ],\n",
       "       [0.0069422 ],\n",
       "       [0.35661115],\n",
       "       [0.84971676],\n",
       "       [0.09130986],\n",
       "       [0.1303308 ],\n",
       "       [0.81932886],\n",
       "       [0.71126234],\n",
       "       [0.51564004],\n",
       "       [0.32849226],\n",
       "       [0.61874605],\n",
       "       [0.82843957],\n",
       "       [0.51893094],\n",
       "       [0.65146536],\n",
       "       [0.84698965],\n",
       "       [0.47796507],\n",
       "       [0.72038246],\n",
       "       [0.7057224 ],\n",
       "       [0.77446474],\n",
       "       [0.15782307],\n",
       "       [0.10043526],\n",
       "       [0.63983793],\n",
       "       [0.12224158],\n",
       "       [0.54364296],\n",
       "       [0.42278257],\n",
       "       [0.74938053],\n",
       "       [0.0139759 ],\n",
       "       [0.84925728],\n",
       "       [0.77967445],\n",
       "       [0.23807523],\n",
       "       [0.87024043],\n",
       "       [0.4436975 ],\n",
       "       [0.18578928],\n",
       "       [0.92726635],\n",
       "       [0.1460104 ],\n",
       "       [0.56378288],\n",
       "       [0.93859753]])"
      ]
     },
     "execution_count": 11,
     "metadata": {},
     "output_type": "execute_result"
    }
   ],
   "source": [
    "X.reshape(-1,1)"
   ]
  },
  {
   "cell_type": "code",
   "execution_count": 12,
   "id": "ae5486b5",
   "metadata": {},
   "outputs": [
    {
     "data": {
      "text/plain": [
       "LinearRegression()"
      ]
     },
     "execution_count": 12,
     "metadata": {},
     "output_type": "execute_result"
    }
   ],
   "source": [
    "## Now we fit the model\n",
    "## this is typically model.fit(X, y)\n",
    "## NOTE! X has to be a 2D array, think matrix or column vector\n",
    "## Thus we must use .reshape(-1,1), see the Python Prep numpy notebook\n",
    "slr.fit(X.reshape(-1,1), y)"
   ]
  },
  {
   "cell_type": "markdown",
   "id": "905dfa85",
   "metadata": {},
   "source": [
    "##### Making `predict`ions"
   ]
  },
  {
   "cell_type": "code",
   "execution_count": 13,
   "id": "2128c99f",
   "metadata": {},
   "outputs": [
    {
     "data": {
      "text/plain": [
       "array([2.90417501, 1.16518582, 3.10582478, 1.5305277 , 2.61780705,\n",
       "       2.13097806, 2.9506733 , 2.9001341 , 1.18962659, 2.11089654,\n",
       "       1.73702322, 1.45439053, 1.77372148, 1.58024966, 2.63661722,\n",
       "       2.02631244, 1.21055749, 1.5901916 , 2.70721167, 2.10363468,\n",
       "       1.97305374, 1.54662511, 1.24280039, 2.77152936, 1.68135263,\n",
       "       1.32529205, 1.46017089, 2.96047958, 1.09029806, 1.80660365,\n",
       "       1.68180904, 1.75943051, 3.00620621, 1.83370485, 2.92567791,\n",
       "       1.31064944, 2.0528231 , 2.98464806, 2.72202685, 2.8233067 ,\n",
       "       2.42962842, 1.30573383, 1.24735708, 1.16407442, 1.82158136,\n",
       "       1.31264367, 1.9613516 , 1.76264649, 1.92968234, 2.72094075,\n",
       "       1.76152378, 1.10027411, 2.8259034 , 2.33919572, 1.30224694,\n",
       "       3.14334408, 1.92410615, 2.98305728, 1.49337138, 2.10982884,\n",
       "       2.59535056, 1.18594791, 1.43613169, 2.19488324, 1.01244956,\n",
       "       1.76497895, 2.82620118, 1.19401885, 1.27799657, 2.76080278,\n",
       "       2.52823072, 2.10722813, 1.70446374, 2.32912459, 2.78041013,\n",
       "       2.11431055, 2.39954046, 2.82033211, 2.0261471 , 2.5478583 ,\n",
       "       2.51630809, 2.66424984, 1.33716324, 1.2136578 , 2.37451684,\n",
       "       1.26058762, 2.16749377, 1.90738776, 2.61026562, 1.02758691,\n",
       "       2.82521232, 2.67546175, 1.50987547, 2.87037057, 1.95239919,\n",
       "       1.39734986, 2.99309717, 1.31174096, 2.21083728, 3.01748323])"
      ]
     },
     "execution_count": 13,
     "metadata": {},
     "output_type": "execute_result"
    }
   ],
   "source": [
    "## model.predict will tell us what the model says\n",
    "## for an array of input values\n",
    "slr.predict(X.reshape(-1,1))"
   ]
  },
  {
   "cell_type": "markdown",
   "id": "3d763262",
   "metadata": {},
   "source": [
    "Those are the basic steps for most every `sklearn` model we will work with. However, models typically have features and methods that are unique to them. We will review a few of those for `LinearRegression` below."
   ]
  },
  {
   "cell_type": "markdown",
   "id": "34249621",
   "metadata": {},
   "source": [
    "##### Simple linear regression content"
   ]
  },
  {
   "cell_type": "code",
   "execution_count": 14,
   "id": "8178dd8d",
   "metadata": {},
   "outputs": [
    {
     "data": {
      "text/plain": [
       "0.9975091130141549"
      ]
     },
     "execution_count": 14,
     "metadata": {},
     "output_type": "execute_result"
    }
   ],
   "source": [
    "## We can look at beta_0_hat with .intercept_\n",
    "slr.intercept_"
   ]
  },
  {
   "cell_type": "code",
   "execution_count": 15,
   "id": "bdd5b43e",
   "metadata": {},
   "outputs": [
    {
     "data": {
      "text/plain": [
       "array([2.15211957])"
      ]
     },
     "execution_count": 15,
     "metadata": {},
     "output_type": "execute_result"
    }
   ],
   "source": [
    "## We can look at beta_1_hat with .coef_\n",
    "slr.coef_"
   ]
  },
  {
   "cell_type": "code",
   "execution_count": 17,
   "id": "4ebcbf58",
   "metadata": {},
   "outputs": [
    {
     "data": {
      "image/png": "[encoded data removed]",
      "text/plain": [
       "<Figure size 576x432 with 1 Axes>"
      ]
     },
     "metadata": {},
     "output_type": "display_data"
    }
   ],
   "source": [
    "## Plotting the model with our sample\n",
    "\n",
    "## y = 2*X + 1 + .5*np.random.randn(100)\n",
    "plt.figure(figsize=(8,6))\n",
    "\n",
    "plt.scatter(X, \n",
    "            y, \n",
    "            alpha=.7,\n",
    "            label=\"Sample\")\n",
    "\n",
    "plt.plot(np.linspace(0, 1, 100),\n",
    "         slr.predict(np.linspace(0, 1, 100).reshape(-1,1)),\n",
    "         'k',\n",
    "         label='Model')\n",
    "\n",
    "plt.plot(np.linspace(0,1,100),\n",
    "         2*np.linspace(0,1,100) + 1,\n",
    "         'r--',\n",
    "         label = \"f(x)\")\n",
    "\n",
    "plt.legend(fontsize=14)\n",
    "plt.xlabel(\"$X$\", fontsize=16)\n",
    "plt.ylabel(\"$y$\", fontsize=16)\n",
    "\n",
    "plt.show()"
   ]
  },
  {
   "cell_type": "markdown",
   "id": "61b25df0",
   "metadata": {},
   "source": [
    "Now you know the basics about simple linear regression and `LinearRegression` in `sklearn`!"
   ]
  },
  {
   "cell_type": "markdown",
   "id": "ecb119dc",
   "metadata": {},
   "source": [
    "--------------------------\n",
    "\n",
    "This notebook was written for the Erd&#337;s Institute C&#337;de Data Science Boot Camp by Matthew Osborne, Ph. D., 2022.\n",
    "\n",
    "Any potential redistributors must seek and receive permission from Matthew Tyler Osborne, Ph.D. prior to redistribution. Redistribution of the material contained in this repository is conditional on acknowledgement of Matthew Tyler Osborne, Ph.D.'s original authorship and sponsorship of the Erdős Institute as subject to the license (see License.md)"
   ]
  },
  {
   "cell_type": "code",
   "execution_count": null,
   "id": "9c206dcd",
   "metadata": {},
   "outputs": [],
   "source": []
  }
 ],
 "metadata": {
  "kernelspec": {
   "display_name": "Python 3 (ipykernel)",
   "language": "python",
   "name": "python3"
  },
  "language_info": {
   "codemirror_mode": {
    "name": "ipython",
    "version": 3
   },
   "file_extension": ".py",
   "mimetype": "text/x-python",
   "name": "python",
   "nbconvert_exporter": "python",
   "pygments_lexer": "ipython3",
   "version": "3.9.9"
  }
 },
 "nbformat": 4,
 "nbformat_minor": 5
}
