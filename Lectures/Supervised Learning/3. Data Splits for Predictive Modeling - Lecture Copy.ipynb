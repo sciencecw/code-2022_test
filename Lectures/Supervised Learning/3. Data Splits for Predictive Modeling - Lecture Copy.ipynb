{
 "cells": [
  {
   "cell_type": "markdown",
   "id": "d049c4b5",
   "metadata": {},
   "source": [
    "# Data Splits for Predictive Modeling\n",
    "\n",
    "When trying to build a predictive model we will have to split up our data set. In this notebook we touch on the reasons why and the standard procedures for doing so.\n",
    "\n",
    "## What we will accomplish\n",
    "\n",
    "In this notebook we will:\n",
    "- Discuss the rationale for splitting our data set,\n",
    "- Introduce train test splits,\n",
    "- Define a validation set,\n",
    "- Review cross-validation and\n",
    "- Touch on scenarios in which you may prefer validation sets to cross-validation and versa."
   ]
  },
  {
   "cell_type": "code",
   "execution_count": 1,
   "id": "062831f0",
   "metadata": {},
   "outputs": [],
   "source": [
    "## We will now start importing a common set\n",
    "## of items at the onset of most notebooks\n",
    "import numpy as np\n",
    "import matplotlib.pyplot as plt\n",
    "from seaborn import set_style\n",
    "set_style(\"whitegrid\")"
   ]
  },
  {
   "cell_type": "markdown",
   "id": "d98a0e44",
   "metadata": {},
   "source": [
    "## Rationale for data splits\n",
    "\n",
    "### Goal of predictive modeling\n",
    "\n",
    "Imagine we are solving a predictive modeling problem, as we soon will. Once we have identified the problem we go out and randomly collect some data, $(X,y)$, say $n$ observations of $m$ features and $n$ corresponding outputs. \n",
    "\n",
    "Our goal is to use these data to identify a model with the lowest <i>generalization error</i>. Generalization error is defined to be the error of the model on a new randomly collected set $(X^*, y^*)$. If we fix this new data set, then the fact that the data we collected originally, $(X,y)$, was randomly collected makes the generalization error of any particular model a random variable. Let's call this variable $G$.\n",
    "\n",
    "To determine the \"best\" model from a set of candidate models we would want to choose the one such that the corresponding $G$ is smallest. In other words for each candidate model we want to know something about the corresponding $G$ and its distribution.\n",
    "\n",
    "In an ideal world we would simply collect many sets, $(X,y)$, fit our models on each of them and compare the resulting distributions. However, it may not be practical, possible or ethical to continually collect data for model selection purposes. In practice, thus, we are often constrained to a single data set for model fitting and comparisons.\n",
    "\n",
    "### Data splits\n",
    "\n",
    "In order to estimate $G$ we typically split our data (often more than once) so that we can use one part of the split to fit or estimate the model and the other part to estimate $G$.\n",
    "\n",
    "These splits are typically random because we want to be able to assume that the data used to fit the model follows the same distribution as the data used to measure generalization performance.\n",
    "\n",
    "We will now cover three splitting steps/strategies employed in data science and machine learning."
   ]
  },
  {
   "cell_type": "markdown",
   "id": "032dcf34",
   "metadata": {},
   "source": [
    "## Train test splits\n",
    "\n",
    "The first split we will touch on is the first split you would do in a new data science project, the <i>train test split</i>.\n",
    "\n",
    "The purpose of the train test split is to create two data sets:\n",
    "1. <b>The training set</b> - This subset is used to fit models and compare model candidates. This data set is usually split further.\n",
    "2. <b>The testing set</b> - This subset is used as a final check on your selected model prior to putting your model into its desired final state.\n",
    "\n",
    "The training set usually contains the majority of the original data. Common train test split percentage divisions are $80\\% - 20\\%$ or $75\\% - 25\\%$, but it may sometimes be appropriate to use different split sizes. Train test splits are done randomly, with the form of randomness dependent upon your project.\n",
    "\n",
    "Here is an illustration of a train test split:\n",
    "\n",
    "<img src=\"train_test.png\" width=\"40%\"></img>\n",
    "\n",
    "\n",
    "#### A potential point of confusion\n",
    "\n",
    "Perhaps confusingly, the test set is not directly used to compare models, model comparison is typically done using a subset(s) of the training set as we will soon see. The main purpose of the test is to serve as a final check on your chosen model. This final check is important! Checking model performance on the test set let's you look for coding/modeling errors as well as <i>overfitting</i> on the training set (we will talk about this more explicitly soon).\n",
    "\n",
    "### Performing train test splits in `sklearn`\n",
    "\n",
    "While you can use the `random` or `numpy.random` packages to perform the train test split by hand, the `sklearn` package has a useful `train_test_split` function that will perform the train test split. Here is a link to the documentation, <a href=\"https://scikit-learn.org/stable/modules/generated/sklearn.model_selection.train_test_split.html\">https://scikit-learn.org/stable/modules/generated/sklearn.model_selection.train_test_split.html</a>."
   ]
  },
  {
   "cell_type": "code",
   "execution_count": 2,
   "id": "0e2e4299",
   "metadata": {},
   "outputs": [],
   "source": [
    "## First we will make a data set\n",
    "X = np.random.random((1000,10))\n",
    "y = np.random.randn(1000)"
   ]
  },
  {
   "cell_type": "code",
   "execution_count": 3,
   "id": "54d47a6c",
   "metadata": {},
   "outputs": [],
   "source": [
    "## Now we import train_test_split\n",
    "from sklearn.model_selection import train_test_split"
   ]
  },
  {
   "cell_type": "code",
   "execution_count": 4,
   "id": "6efc7fac",
   "metadata": {},
   "outputs": [],
   "source": [
    "## Here we make the split\n",
    "## train_test_split returns 4 outputs: X_train, X_test, y_train and y_test\n",
    "##\n",
    "## First you input the X and y for your data\n",
    "##\n",
    "## then set the shuffle argument to True, this randomly shuffles the\n",
    "## data before it is split\n",
    "##\n",
    "## The random_state ensures that the random split is the same each time\n",
    "## someone runs the code chunk, it can be any strictly positive integer\n",
    "##\n",
    "## You can specify the size of the test set with test_size,\n",
    "## here I want 20% of the data\n",
    "X_train, X_test, y_train, y_test = train_test_split(X, y,\n",
    "                                                       shuffle = True,\n",
    "                                                       random_state = 614,\n",
    "                                                       test_size = .2)"
   ]
  },
  {
   "cell_type": "code",
   "execution_count": 5,
   "id": "f57b420b",
   "metadata": {},
   "outputs": [
    {
     "name": "stdout",
     "output_type": "stream",
     "text": [
      "The shape of X_train is (800, 10)\n",
      "The shape of X_test is (200, 10)\n",
      "The length of y_train is 800\n",
      "The length of y_test is 200\n"
     ]
    }
   ],
   "source": [
    "## check the data lengths to see that they match\n",
    "## what we'd expect\n",
    "print(\"The shape of X_train is\",X_train.shape)\n",
    "print(\"The shape of X_test is\",X_test.shape)\n",
    "print(\"The length of y_train is\",len(y_train))\n",
    "print(\"The length of y_test is\",len(y_test))"
   ]
  },
  {
   "cell_type": "markdown",
   "id": "44132dbb",
   "metadata": {},
   "source": [
    "##### Exercise\n",
    "\n",
    "Make a train test split for the following data. Set aside $25\\%$ of the data, $(Z, w)$ as a test set. <i>Do not overwrite the data stored in `X_train`, `X_test`, `y_train` and `y_test`."
   ]
  },
  {
   "cell_type": "code",
   "execution_count": null,
   "id": "f720eefc",
   "metadata": {},
   "outputs": [],
   "source": [
    "## Your data to split\n",
    "Z = np.random.random((1000,10))\n",
    "w = np.random.randn(1000)"
   ]
  },
  {
   "cell_type": "code",
   "execution_count": null,
   "id": "297ddc71",
   "metadata": {},
   "outputs": [],
   "source": [
    "## Split the data here\n",
    "\n"
   ]
  },
  {
   "cell_type": "markdown",
   "id": "9a47dfeb",
   "metadata": {},
   "source": [
    "## Two split types for model comparison and selection\n",
    "\n",
    "We will now cover two data splits you can make from the training set for model comparison purposes. Which you choose depends upon the project you are working on, but we will give some reasons to choose one over the other below."
   ]
  },
  {
   "cell_type": "markdown",
   "id": "56435013",
   "metadata": {},
   "source": [
    "### Validation sets\n",
    "\n",
    "A <i>validation set</i> is a subset of the training data (the result of the train test split defined above) used solely for the purpose of comparing candidate models. This split is typically also performed randomly. Further, the validation set should be a small subset, common sizes range from $10\\%-25\\%$ of the training set depending on the training set size. An illustration of this concept is given below:\n",
    "\n",
    "<img src=\"validation_set.png\" width=\"45%\"></img>\n",
    "\n",
    "The best model in this setting would be the one that has the best performance metric on the validation set.\n",
    "\n",
    "#### In practice\n",
    "\n",
    "In practice we can once again use `sklearn`'s `train_test_split` function to make the validation split. Note that it is good practice to not overwrite the original `X_train` or `y_train` sets when making the validation split."
   ]
  },
  {
   "cell_type": "code",
   "execution_count": 32,
   "id": "b869318f",
   "metadata": {},
   "outputs": [],
   "source": [
    "## Here we make a validation set with 15% of the \n",
    "## training data in the validation set\n",
    "X_train_train, X_val, y_train_train, y_val = train_test_split(X_train, y_train,\n",
    "                                                                 shuffle=True,\n",
    "                                                                 random_state = 440,\n",
    "                                                                 test_size=.15)"
   ]
  },
  {
   "cell_type": "code",
   "execution_count": 33,
   "id": "67f6d4cd",
   "metadata": {},
   "outputs": [
    {
     "data": {
      "text/plain": [
       "array([-4.49224085e-01,  2.02725027e-01,  1.15230529e+00,  1.22324484e+00,\n",
       "        1.21487466e-01, -1.19787552e-01, -2.40016886e-01,  2.59116587e-01,\n",
       "        1.96136864e+00,  1.24433622e+00, -7.23893268e-01, -2.36986534e-01,\n",
       "       -5.72039610e-01,  9.20239082e-01, -7.37923630e-01,  4.05283426e-01,\n",
       "       -5.38162603e-02, -5.74916192e-02, -4.80775717e-01,  6.89806432e-01,\n",
       "       -1.75224585e+00,  1.34159525e+00, -1.52655148e+00, -3.38721836e-01,\n",
       "       -9.27912329e-01, -8.82645385e-01,  8.76884764e-02,  4.64828224e-01,\n",
       "        6.19217170e-01, -3.65333917e-01,  1.75775908e+00, -1.09875547e+00,\n",
       "       -6.06777096e-01,  5.60925277e-01, -3.95982431e-01, -8.30822107e-02,\n",
       "       -5.78925265e-01, -2.02602199e-01,  8.75852623e-01,  5.04722540e-02,\n",
       "        1.30713464e+00,  1.31410264e+00,  4.80737319e-01, -1.80173458e-01,\n",
       "       -1.85674929e+00,  4.45086536e-01,  1.58923886e+00, -5.64126436e-01,\n",
       "        1.32954677e-01, -7.04093456e-01, -1.67366690e+00,  1.65891722e-01,\n",
       "        8.18387628e-01,  5.92835160e-01, -1.71806921e-03,  1.74724031e+00,\n",
       "       -1.04269437e+00,  4.91997398e-01,  7.51690910e-01,  5.63156722e-01,\n",
       "       -5.07794938e-01, -1.22310266e-01,  1.72771029e-01,  1.27240381e+00,\n",
       "        6.87890806e-01, -5.68396693e-01, -3.25435172e-01, -5.20631178e-01,\n",
       "       -1.77243748e+00, -3.55618489e-01,  1.44826854e-01, -1.98019342e+00,\n",
       "       -1.79932509e+00, -5.49451089e-01,  4.40679106e-01, -1.09649515e+00,\n",
       "       -5.75142973e-01,  6.59713977e-01,  8.34148641e-01, -3.10386657e-01,\n",
       "        1.24577882e-01,  5.31103884e-01,  3.30108839e-02,  5.62764605e-01,\n",
       "        2.72219952e-01,  3.26710562e-01, -6.54837832e-01, -7.66581955e-01,\n",
       "        3.93973253e-01, -9.16287092e-01,  1.11165103e+00,  8.82401653e-01,\n",
       "       -1.76723789e+00, -2.11272563e-01, -8.78398685e-02, -1.21246347e+00,\n",
       "        5.33148807e-01,  9.83378083e-03,  4.07032169e-01, -6.53012546e-01,\n",
       "        2.51534693e-01, -1.11838113e-01,  4.58629540e-02, -7.49671384e-02,\n",
       "        2.35838476e-02,  7.52141878e-01, -1.35568690e-01, -7.26304823e-01,\n",
       "        1.51736271e-01,  9.03739338e-01, -1.33587604e+00, -1.77821856e+00,\n",
       "        2.59856741e-01,  1.94067975e+00, -9.75229775e-01, -1.41176033e-01,\n",
       "        1.33382808e+00, -1.12655979e+00,  8.01505485e-01, -1.31636786e+00])"
      ]
     },
     "execution_count": 33,
     "metadata": {},
     "output_type": "execute_result"
    }
   ],
   "source": [
    "y_val"
   ]
  },
  {
   "cell_type": "code",
   "execution_count": 8,
   "id": "10358b5d",
   "metadata": {},
   "outputs": [
    {
     "name": "stdout",
     "output_type": "stream",
     "text": [
      "(680, 10)\n",
      "(120, 10)\n"
     ]
    }
   ],
   "source": [
    "print(X_train_train.shape)\n",
    "print(X_val.shape)"
   ]
  },
  {
   "cell_type": "markdown",
   "id": "8c2f4ac3",
   "metadata": {},
   "source": [
    "##### Exercise\n",
    "\n",
    "Make a validation set with $22\\%$ of your training set for the $(Z, w)$ data set."
   ]
  },
  {
   "cell_type": "code",
   "execution_count": null,
   "id": "1ff6ba61",
   "metadata": {},
   "outputs": [],
   "source": [
    "## split the data here\n",
    "\n",
    "\n"
   ]
  },
  {
   "cell_type": "markdown",
   "id": "3346d703",
   "metadata": {},
   "source": [
    "### $k$-Fold cross-validation\n",
    "\n",
    "The validation set approach in essence gives us a <i>point estimate</i> of $G$. An issue with this approach for model selection is that point estimates are not always reflective of overall or even average model performance. What would be really nice is knowing something about the distribution from which $G$ is drawn. While this is difficult, we can leverage a well known rule from probability theory called the <i>law of large numbers</i>.\n",
    "\n",
    "#### The law of large numbers\n",
    "\n",
    "As a quick review let us remind ourselves what the law of large numbers says.\n",
    "\n",
    "Let $V_1, V_2, \\dots, V_n$ denote a sequence of independent identically distributed random variables with true mean $\\mu$. Let $\\overline{V} = \\frac{1}{n} \\left(V_1 + V_2 + \\dots + V_n \\right)$. The law of large numbers says that $\\lim_{n\\rightarrow\\infty} \\overline{V} = \\mu$\n",
    "\n",
    "What this says is that the arithmetic mean of a set of random draws will be \"close\" to the expected value of the distribution given enough draws.\n",
    "\n",
    "#### Leveraging the law of large numbers\n",
    "\n",
    "We can use this probability rule to our advantage to estimate the average (or expected) generalization error. If we can somehow generate a sequence of observations of this error, say $G_1, G_2, \\dots, G_n$, then we know that $\\overline{G} \\approx E(G)$. How do we generate such a sequence? Enter $k$-fold cross-validation.\n",
    "\n",
    "After conducting your train test split, you will randomly break your training set into $k$ equally sized (or roughly equal depending on how the division works out) chunks. You then generate \"observations\" of $G$ by cycling through each of the $k$ chunks. For each chunk you train your model on the $k-1$ other chunks and then calculate the error of that model on the chunk you held out. At the end you will have $k$ observations of $G$. Calculating the arithmetic mean of $G_1, \\dots, G_k$ gives you an estimate of $E(G)$.\n",
    "\n",
    "If those words were confusing let's look at some pictures instead.\n",
    "\n",
    "\n",
    "<img src=\"cv1.png\" width=\"60%\"></img>\n",
    "\n",
    "<br>\n",
    "<br>\n",
    "<br>\n",
    "\n",
    "<img src=\"cv2.png\" width=\"60%\"></img>\n",
    "\n",
    "Common values for $k$ are $5$ and $10$.\n",
    "\n",
    "#### Implementing $k$-fold cross-validation in `sklearn`.\n",
    "\n",
    "You can implement cross-validation using `sklearn`'s `KFold` object. Documentation for this method can be found here <a href=\"https://scikit-learn.org/stable/modules/generated/sklearn.model_selection.KFold.html\">https://scikit-learn.org/stable/modules/generated/sklearn.model_selection.KFold.html</a>."
   ]
  },
  {
   "cell_type": "code",
   "execution_count": 34,
   "id": "7494a6df",
   "metadata": {},
   "outputs": [],
   "source": [
    "## import KFold\n",
    "from sklearn.model_selection import KFold"
   ]
  },
  {
   "cell_type": "code",
   "execution_count": 35,
   "id": "4fe87b14",
   "metadata": {},
   "outputs": [],
   "source": [
    "## make a KFold object\n",
    "## n_sp controls the value of k\n",
    "## shuffle=True, randomly shuffles the data prior to splitting\n",
    "## random_state is the same as for train_test_split\n",
    "kfold = KFold(n_splits = 5,\n",
    "                 shuffle = True,\n",
    "                 random_state = 734)"
   ]
  },
  {
   "cell_type": "code",
   "execution_count": 37,
   "id": "a100e3db",
   "metadata": {},
   "outputs": [
    {
     "data": {
      "text/plain": [
       "<generator object _BaseKFold.split at 0x17cf0f2e0>"
      ]
     },
     "execution_count": 37,
     "metadata": {},
     "output_type": "execute_result"
    }
   ],
   "source": [
    "## demonstrate.split\n",
    "kfold.split(X_train, y_train)"
   ]
  },
  {
   "cell_type": "code",
   "execution_count": 38,
   "id": "4d1adf09",
   "metadata": {},
   "outputs": [
    {
     "name": "stdout",
     "output_type": "stream",
     "text": [
      "Train index: [  1   2   3   4   5   6   7   8   9  10  11  12  13  14  15  16  17  18\n",
      "  23  25  26  27  28  29  30  31  32  34  35  37  38  39  40  41  42  43\n",
      "  44  45  46  47  48  50  52  53  56  57  59  60  61  62  63  64  65  66\n",
      "  67  68  69  70  72  73  74  75  78  79  80  81  82  83  84  85  86  87\n",
      "  89  90  91  92  93  94  95  96  97  98 100 102 103 104 106 107 108 109\n",
      " 110 111 113 114 115 116 117 118 119 120 121 122 123 124 125 126 127 128\n",
      " 130 131 132 133 135 136 137 138 139 140 142 143 144 145 146 147 148 149\n",
      " 150 151 152 153 155 157 158 159 160 161 162 163 165 166 167 168 169 170\n",
      " 171 172 174 175 177 178 179 181 183 184 185 186 187 188 189 191 192 193\n",
      " 195 196 197 198 199 200 201 202 203 204 205 206 207 209 210 212 213 214\n",
      " 215 216 218 219 220 221 222 223 224 225 226 227 228 231 232 233 234 235\n",
      " 236 237 238 240 241 242 243 245 246 248 249 250 251 253 255 256 257 258\n",
      " 259 260 261 262 263 264 265 266 267 268 269 270 272 274 275 276 277 279\n",
      " 280 281 282 283 284 285 286 287 288 289 290 291 293 294 296 297 299 300\n",
      " 301 302 303 304 305 307 308 309 310 311 315 317 318 319 320 321 322 323\n",
      " 324 326 327 328 329 330 331 332 333 334 335 338 339 340 341 342 343 344\n",
      " 345 346 347 348 349 350 351 352 354 357 358 361 362 363 364 367 370 371\n",
      " 372 374 375 376 377 378 380 381 382 387 388 389 390 392 393 394 398 399\n",
      " 400 401 402 403 404 405 406 407 408 411 414 415 417 418 420 421 422 423\n",
      " 424 425 426 427 428 429 431 432 433 434 438 439 440 441 442 444 445 447\n",
      " 448 449 452 453 454 456 458 460 461 462 463 465 466 467 468 469 470 471\n",
      " 472 473 474 475 477 478 479 481 482 483 484 485 486 487 488 490 491 492\n",
      " 494 496 497 499 500 501 502 503 504 507 508 509 510 511 512 513 514 515\n",
      " 516 517 518 519 520 524 525 526 527 528 529 530 531 532 533 535 536 537\n",
      " 539 540 541 544 545 547 548 549 550 551 552 553 554 556 557 558 559 560\n",
      " 561 565 566 567 568 569 570 571 572 573 575 576 577 578 579 580 581 582\n",
      " 583 585 586 588 590 591 592 593 594 595 596 597 598 599 602 603 604 606\n",
      " 609 610 611 613 614 615 617 618 619 620 621 622 625 627 628 629 630 631\n",
      " 632 633 634 635 637 638 639 640 641 642 643 645 646 648 649 651 654 655\n",
      " 656 657 658 659 660 661 662 663 664 665 666 667 668 669 670 671 672 673\n",
      " 675 676 677 679 683 687 689 690 691 693 694 695 696 697 698 700 702 703\n",
      " 704 705 706 707 708 709 711 713 714 715 716 717 718 720 722 723 724 725\n",
      " 726 728 729 731 732 733 734 736 737 739 740 741 742 743 744 745 746 747\n",
      " 748 750 751 752 753 754 755 756 757 758 759 760 761 763 764 765 766 767\n",
      " 768 769 770 772 774 775 776 777 778 779 780 781 782 783 785 786 787 788\n",
      " 789 790 791 792 793 794 795 796 798 799]\n",
      "Test index: [  0  19  20  21  22  24  33  36  49  51  54  55  58  71  76  77  88  99\n",
      " 101 105 112 129 134 141 154 156 164 173 176 180 182 190 194 208 211 217\n",
      " 229 230 239 244 247 252 254 271 273 278 292 295 298 306 312 313 314 316\n",
      " 325 336 337 353 355 356 359 360 365 366 368 369 373 379 383 384 385 386\n",
      " 391 395 396 397 409 410 412 413 416 419 430 435 436 437 443 446 450 451\n",
      " 455 457 459 464 476 480 489 493 495 498 505 506 521 522 523 534 538 542\n",
      " 543 546 555 562 563 564 574 584 587 589 600 601 605 607 608 612 616 623\n",
      " 624 626 636 644 647 650 652 653 674 678 680 681 682 684 685 686 688 692\n",
      " 699 701 710 712 719 721 727 730 735 738 749 762 771 773 784 797]\n",
      "\n",
      "\n",
      "Train index: [  0   2   3   5   6   8   9  10  11  12  13  14  15  17  19  20  21  22\n",
      "  23  24  25  26  27  28  29  30  31  33  35  36  37  38  39  40  41  42\n",
      "  45  46  47  48  49  50  51  52  53  54  55  56  57  58  59  60  61  62\n",
      "  63  65  66  67  68  71  72  73  74  75  76  77  78  79  80  81  82  83\n",
      "  85  86  87  88  89  91  92  93  96  97  98  99 100 101 103 104 105 106\n",
      " 107 108 111 112 113 115 116 117 118 119 121 122 123 124 125 126 129 130\n",
      " 132 133 134 135 136 137 138 139 140 141 142 146 147 148 149 150 151 152\n",
      " 154 155 156 158 159 161 162 163 164 166 168 169 170 171 172 173 175 176\n",
      " 177 179 180 181 182 183 184 185 189 190 191 192 194 197 198 199 200 201\n",
      " 202 204 208 209 210 211 216 217 219 220 221 222 223 224 225 227 228 229\n",
      " 230 231 232 233 234 235 236 239 240 241 242 244 247 248 250 252 254 255\n",
      " 256 257 258 259 260 261 262 263 264 265 266 269 270 271 273 274 275 276\n",
      " 278 279 281 282 283 285 286 290 291 292 293 295 296 297 298 299 300 303\n",
      " 304 305 306 309 310 311 312 313 314 315 316 317 318 319 320 321 323 324\n",
      " 325 326 327 329 330 332 334 335 336 337 338 340 341 342 343 344 345 346\n",
      " 350 353 354 355 356 358 359 360 361 362 363 364 365 366 367 368 369 370\n",
      " 371 372 373 376 378 379 380 381 382 383 384 385 386 387 388 389 390 391\n",
      " 392 393 394 395 396 397 401 402 403 404 405 407 408 409 410 411 412 413\n",
      " 414 415 416 417 418 419 422 423 424 425 426 427 429 430 432 433 434 435\n",
      " 436 437 438 439 440 441 442 443 444 445 446 447 448 450 451 452 453 455\n",
      " 456 457 458 459 460 462 463 464 465 466 467 468 470 471 472 474 476 477\n",
      " 478 479 480 481 482 484 485 486 487 489 491 493 495 496 497 498 499 500\n",
      " 502 503 504 505 506 507 509 510 511 513 514 516 517 518 519 520 521 522\n",
      " 523 524 525 526 527 528 529 532 533 534 535 537 538 539 540 541 542 543\n",
      " 544 546 547 549 550 551 552 554 555 556 557 558 559 560 562 563 564 565\n",
      " 566 567 568 570 572 573 574 575 576 577 578 579 580 581 582 583 584 585\n",
      " 586 587 588 589 591 592 593 594 596 597 598 599 600 601 602 605 606 607\n",
      " 608 609 611 612 613 614 615 616 617 619 620 621 622 623 624 625 626 627\n",
      " 628 629 630 631 632 633 634 635 636 637 638 640 641 643 644 645 647 649\n",
      " 650 651 652 653 655 656 657 658 659 662 664 666 667 668 669 670 672 674\n",
      " 675 676 677 678 679 680 681 682 684 685 686 687 688 689 690 692 695 696\n",
      " 697 698 699 700 701 702 704 705 706 707 708 710 711 712 714 715 716 718\n",
      " 719 720 721 722 724 725 726 727 728 730 732 735 736 737 738 739 740 741\n",
      " 742 743 744 745 746 749 750 751 752 754 756 757 759 760 761 762 764 765\n",
      " 767 768 769 770 771 772 773 774 775 776 777 778 779 780 781 782 784 785\n",
      " 786 787 788 789 792 793 794 796 797 799]\n",
      "Test index: [  1   4   7  16  18  32  34  43  44  64  69  70  84  90  94  95 102 109\n",
      " 110 114 120 127 128 131 143 144 145 153 157 160 165 167 174 178 186 187\n",
      " 188 193 195 196 203 205 206 207 212 213 214 215 218 226 237 238 243 245\n",
      " 246 249 251 253 267 268 272 277 280 284 287 288 289 294 301 302 307 308\n",
      " 322 328 331 333 339 347 348 349 351 352 357 374 375 377 398 399 400 406\n",
      " 420 421 428 431 449 454 461 469 473 475 483 488 490 492 494 501 508 512\n",
      " 515 530 531 536 545 548 553 561 569 571 590 595 603 604 610 618 639 642\n",
      " 646 648 654 660 661 663 665 671 673 683 691 693 694 703 709 713 717 723\n",
      " 729 731 733 734 747 748 753 755 758 763 766 783 790 791 795 798]\n",
      "\n",
      "\n",
      "Train index: [  0   1   2   4   5   6   7   8   9  10  11  16  17  18  19  20  21  22\n",
      "  24  25  26  27  28  29  30  31  32  33  34  36  37  38  39  40  42  43\n",
      "  44  46  47  49  50  51  52  53  54  55  56  57  58  59  61  63  64  65\n",
      "  66  67  68  69  70  71  73  75  76  77  79  81  82  84  85  86  88  90\n",
      "  91  92  94  95  96  99 100 101 102 105 106 107 108 109 110 112 113 114\n",
      " 115 116 117 119 120 123 124 126 127 128 129 130 131 132 133 134 135 136\n",
      " 137 138 140 141 142 143 144 145 146 147 148 149 150 151 152 153 154 155\n",
      " 156 157 158 160 161 162 164 165 167 169 171 173 174 176 177 178 179 180\n",
      " 182 183 184 185 186 187 188 189 190 191 192 193 194 195 196 198 201 203\n",
      " 204 205 206 207 208 210 211 212 213 214 215 216 217 218 219 220 221 223\n",
      " 226 227 228 229 230 231 232 234 235 236 237 238 239 240 241 242 243 244\n",
      " 245 246 247 249 250 251 252 253 254 255 256 258 260 261 264 266 267 268\n",
      " 270 271 272 273 274 276 277 278 280 282 283 284 286 287 288 289 291 292\n",
      " 293 294 295 296 297 298 299 301 302 303 305 306 307 308 309 312 313 314\n",
      " 316 318 319 320 321 322 324 325 326 327 328 331 332 333 335 336 337 338\n",
      " 339 341 343 344 347 348 349 351 352 353 354 355 356 357 359 360 363 365\n",
      " 366 368 369 370 371 372 373 374 375 377 378 379 381 382 383 384 385 386\n",
      " 387 389 391 392 393 394 395 396 397 398 399 400 401 402 403 404 406 407\n",
      " 408 409 410 411 412 413 414 415 416 419 420 421 422 423 425 426 428 429\n",
      " 430 431 432 434 435 436 437 439 440 441 443 444 445 446 447 449 450 451\n",
      " 452 453 454 455 456 457 458 459 460 461 462 464 465 466 467 468 469 471\n",
      " 473 474 475 476 477 478 480 481 482 483 485 486 488 489 490 492 493 494\n",
      " 495 496 497 498 501 502 504 505 506 507 508 510 511 512 513 514 515 516\n",
      " 517 520 521 522 523 524 525 526 527 528 530 531 532 534 535 536 537 538\n",
      " 540 541 542 543 545 546 547 548 550 551 552 553 554 555 556 557 559 561\n",
      " 562 563 564 566 569 570 571 573 574 578 579 580 581 582 583 584 585 586\n",
      " 587 588 589 590 591 594 595 596 597 598 599 600 601 602 603 604 605 606\n",
      " 607 608 609 610 612 613 615 616 618 621 622 623 624 625 626 627 629 630\n",
      " 631 632 633 634 635 636 637 638 639 640 642 644 645 646 647 648 649 650\n",
      " 651 652 653 654 655 656 657 658 659 660 661 662 663 664 665 666 667 668\n",
      " 669 670 671 672 673 674 675 678 679 680 681 682 683 684 685 686 688 690\n",
      " 691 692 693 694 698 699 700 701 702 703 705 706 707 709 710 711 712 713\n",
      " 714 715 716 717 718 719 720 721 722 723 724 727 728 729 730 731 733 734\n",
      " 735 736 738 739 740 742 745 746 747 748 749 750 751 753 754 755 756 757\n",
      " 758 759 762 763 765 766 767 768 770 771 773 775 776 777 779 781 782 783\n",
      " 784 786 789 790 791 794 795 797 798 799]\n",
      "Test index: [  3  12  13  14  15  23  35  41  45  48  60  62  72  74  78  80  83  87\n",
      "  89  93  97  98 103 104 111 118 121 122 125 139 159 163 166 168 170 172\n",
      " 175 181 197 199 200 202 209 222 224 225 233 248 257 259 262 263 265 269\n",
      " 275 279 281 285 290 300 304 310 311 315 317 323 329 330 334 340 342 345\n",
      " 346 350 358 361 362 364 367 376 380 388 390 405 417 418 424 427 433 438\n",
      " 442 448 463 470 472 479 484 487 491 499 500 503 509 518 519 529 533 539\n",
      " 544 549 558 560 565 567 568 572 575 576 577 592 593 611 614 617 619 620\n",
      " 628 641 643 676 677 687 689 695 696 697 704 708 725 726 732 737 741 743\n",
      " 744 752 760 761 764 769 772 774 778 780 785 787 788 792 793 796]\n",
      "\n",
      "\n",
      "Train index: [  0   1   3   4   5   6   7   9  10  12  13  14  15  16  18  19  20  21\n",
      "  22  23  24  26  27  32  33  34  35  36  38  41  42  43  44  45  47  48\n",
      "  49  50  51  52  54  55  56  57  58  59  60  61  62  64  65  67  69  70\n",
      "  71  72  73  74  76  77  78  80  82  83  84  87  88  89  90  91  93  94\n",
      "  95  97  98  99 100 101 102 103 104 105 107 109 110 111 112 113 114 118\n",
      " 120 121 122 123 124 125 127 128 129 131 134 135 136 139 140 141 143 144\n",
      " 145 147 148 149 150 151 153 154 155 156 157 159 160 161 162 163 164 165\n",
      " 166 167 168 170 172 173 174 175 176 177 178 179 180 181 182 183 186 187\n",
      " 188 190 192 193 194 195 196 197 199 200 202 203 205 206 207 208 209 211\n",
      " 212 213 214 215 216 217 218 219 220 221 222 223 224 225 226 227 228 229\n",
      " 230 231 232 233 234 235 237 238 239 241 243 244 245 246 247 248 249 251\n",
      " 252 253 254 257 258 259 261 262 263 265 266 267 268 269 270 271 272 273\n",
      " 274 275 276 277 278 279 280 281 282 283 284 285 286 287 288 289 290 291\n",
      " 292 294 295 297 298 300 301 302 304 306 307 308 310 311 312 313 314 315\n",
      " 316 317 318 320 321 322 323 324 325 326 328 329 330 331 332 333 334 336\n",
      " 337 339 340 342 343 344 345 346 347 348 349 350 351 352 353 355 356 357\n",
      " 358 359 360 361 362 364 365 366 367 368 369 370 373 374 375 376 377 379\n",
      " 380 383 384 385 386 388 389 390 391 394 395 396 397 398 399 400 401 402\n",
      " 403 405 406 408 409 410 411 412 413 415 416 417 418 419 420 421 423 424\n",
      " 427 428 430 431 432 433 434 435 436 437 438 439 440 442 443 444 445 446\n",
      " 447 448 449 450 451 454 455 456 457 458 459 460 461 463 464 469 470 472\n",
      " 473 475 476 477 478 479 480 481 483 484 485 487 488 489 490 491 492 493\n",
      " 494 495 497 498 499 500 501 502 503 505 506 507 508 509 510 512 515 516\n",
      " 517 518 519 521 522 523 525 526 527 528 529 530 531 533 534 536 537 538\n",
      " 539 542 543 544 545 546 548 549 552 553 555 556 557 558 559 560 561 562\n",
      " 563 564 565 567 568 569 570 571 572 574 575 576 577 578 579 580 581 582\n",
      " 584 587 589 590 592 593 595 596 597 598 600 601 603 604 605 607 608 610\n",
      " 611 612 613 614 615 616 617 618 619 620 621 623 624 625 626 627 628 630\n",
      " 634 636 637 638 639 640 641 642 643 644 645 646 647 648 650 652 653 654\n",
      " 655 658 660 661 662 663 665 668 671 672 673 674 675 676 677 678 679 680\n",
      " 681 682 683 684 685 686 687 688 689 690 691 692 693 694 695 696 697 698\n",
      " 699 700 701 703 704 705 708 709 710 711 712 713 714 715 717 719 721 722\n",
      " 723 725 726 727 728 729 730 731 732 733 734 735 736 737 738 739 740 741\n",
      " 743 744 745 747 748 749 750 752 753 755 758 759 760 761 762 763 764 765\n",
      " 766 768 769 771 772 773 774 778 779 780 781 782 783 784 785 786 787 788\n",
      " 790 791 792 793 794 795 796 797 798 799]\n",
      "Test index: [  2   8  11  17  25  28  29  30  31  37  39  40  46  53  63  66  68  75\n",
      "  79  81  85  86  92  96 106 108 115 116 117 119 126 130 132 133 137 138\n",
      " 142 146 152 158 169 171 184 185 189 191 198 201 204 210 236 240 242 250\n",
      " 255 256 260 264 293 296 299 303 305 309 319 327 335 338 341 354 363 371\n",
      " 372 378 381 382 387 392 393 404 407 414 422 425 426 429 441 452 453 462\n",
      " 465 466 467 468 471 474 482 486 496 504 511 513 514 520 524 532 535 540\n",
      " 541 547 550 551 554 566 573 583 585 586 588 591 594 599 602 606 609 622\n",
      " 629 631 632 633 635 649 651 656 657 659 664 666 667 669 670 702 706 707\n",
      " 716 718 720 724 742 746 751 754 756 757 767 770 775 776 777 789]\n",
      "\n",
      "\n",
      "Train index: [  0   1   2   3   4   7   8  11  12  13  14  15  16  17  18  19  20  21\n",
      "  22  23  24  25  28  29  30  31  32  33  34  35  36  37  39  40  41  43\n",
      "  44  45  46  48  49  51  53  54  55  58  60  62  63  64  66  68  69  70\n",
      "  71  72  74  75  76  77  78  79  80  81  83  84  85  86  87  88  89  90\n",
      "  92  93  94  95  96  97  98  99 101 102 103 104 105 106 108 109 110 111\n",
      " 112 114 115 116 117 118 119 120 121 122 125 126 127 128 129 130 131 132\n",
      " 133 134 137 138 139 141 142 143 144 145 146 152 153 154 156 157 158 159\n",
      " 160 163 164 165 166 167 168 169 170 171 172 173 174 175 176 178 180 181\n",
      " 182 184 185 186 187 188 189 190 191 193 194 195 196 197 198 199 200 201\n",
      " 202 203 204 205 206 207 208 209 210 211 212 213 214 215 217 218 222 224\n",
      " 225 226 229 230 233 236 237 238 239 240 242 243 244 245 246 247 248 249\n",
      " 250 251 252 253 254 255 256 257 259 260 262 263 264 265 267 268 269 271\n",
      " 272 273 275 277 278 279 280 281 284 285 287 288 289 290 292 293 294 295\n",
      " 296 298 299 300 301 302 303 304 305 306 307 308 309 310 311 312 313 314\n",
      " 315 316 317 319 322 323 325 327 328 329 330 331 333 334 335 336 337 338\n",
      " 339 340 341 342 345 346 347 348 349 350 351 352 353 354 355 356 357 358\n",
      " 359 360 361 362 363 364 365 366 367 368 369 371 372 373 374 375 376 377\n",
      " 378 379 380 381 382 383 384 385 386 387 388 390 391 392 393 395 396 397\n",
      " 398 399 400 404 405 406 407 409 410 412 413 414 416 417 418 419 420 421\n",
      " 422 424 425 426 427 428 429 430 431 433 435 436 437 438 441 442 443 446\n",
      " 448 449 450 451 452 453 454 455 457 459 461 462 463 464 465 466 467 468\n",
      " 469 470 471 472 473 474 475 476 479 480 482 483 484 486 487 488 489 490\n",
      " 491 492 493 494 495 496 498 499 500 501 503 504 505 506 508 509 511 512\n",
      " 513 514 515 518 519 520 521 522 523 524 529 530 531 532 533 534 535 536\n",
      " 538 539 540 541 542 543 544 545 546 547 548 549 550 551 553 554 555 558\n",
      " 560 561 562 563 564 565 566 567 568 569 571 572 573 574 575 576 577 583\n",
      " 584 585 586 587 588 589 590 591 592 593 594 595 599 600 601 602 603 604\n",
      " 605 606 607 608 609 610 611 612 614 616 617 618 619 620 622 623 624 626\n",
      " 628 629 631 632 633 635 636 639 641 642 643 644 646 647 648 649 650 651\n",
      " 652 653 654 656 657 659 660 661 663 664 665 666 667 669 670 671 673 674\n",
      " 676 677 678 680 681 682 683 684 685 686 687 688 689 691 692 693 694 695\n",
      " 696 697 699 701 702 703 704 706 707 708 709 710 712 713 716 717 718 719\n",
      " 720 721 723 724 725 726 727 729 730 731 732 733 734 735 737 738 741 742\n",
      " 743 744 746 747 748 749 751 752 753 754 755 756 757 758 760 761 762 763\n",
      " 764 766 767 769 770 771 772 773 774 775 776 777 778 780 783 784 785 787\n",
      " 788 789 790 791 792 793 795 796 797 798]\n",
      "Test index: [  5   6   9  10  26  27  38  42  47  50  52  56  57  59  61  65  67  73\n",
      "  82  91 100 107 113 123 124 135 136 140 147 148 149 150 151 155 161 162\n",
      " 177 179 183 192 216 219 220 221 223 227 228 231 232 234 235 241 258 261\n",
      " 266 270 274 276 282 283 286 291 297 318 320 321 324 326 332 343 344 370\n",
      " 389 394 401 402 403 408 411 415 423 432 434 439 440 444 445 447 456 458\n",
      " 460 477 478 481 485 497 502 507 510 516 517 525 526 527 528 537 552 556\n",
      " 557 559 570 578 579 580 581 582 596 597 598 613 615 621 625 627 630 634\n",
      " 637 638 640 645 655 658 662 668 672 675 679 690 698 700 705 711 714 715\n",
      " 722 728 736 739 740 745 750 759 765 768 779 781 782 786 794 799]\n",
      "\n",
      "\n"
     ]
    }
   ],
   "source": [
    "## use for loop to demonstrate .split\n",
    "for train_index, test_index in kfold.split(X_train, y_train):\n",
    "    print(\"Train index:\", train_index)\n",
    "    print(\"Test index:\", test_index)\n",
    "    print()\n",
    "    print()"
   ]
  },
  {
   "cell_type": "code",
   "execution_count": 39,
   "id": "d72c84d9",
   "metadata": {},
   "outputs": [],
   "source": [
    "## When fitting a model we'd do something like the following\n",
    "for train_index, test_index in kfold.split(X_train, y_train):\n",
    "    ## get the kfold training data\n",
    "    ## X_tt\n",
    "    X_train_train = X_train[train_index,:]\n",
    "    y_train_train = y_train[train_index]\n",
    "    \n",
    "    ## get the holdout data\n",
    "    X_holdout = X_train[test_index,:]\n",
    "    y_holdout = y_train[test_index]\n",
    "    \n",
    "    ## Then you'd fit your model\n",
    "    Train model 1\n",
    "    Train model 2\n",
    "    Train model 3\n",
    "    \n",
    "    ## Then you'd record the error on the holdout set here\n",
    "    MSE(model 1)\n",
    "    MSE(model 2)\n",
    "    MSE(model 3)"
   ]
  },
  {
   "cell_type": "markdown",
   "id": "70382988",
   "metadata": {},
   "source": [
    "##### Exercise\n",
    "\n",
    "Using the $(Z, w)$ data from before perform $10$-fold cross-validation on the training set."
   ]
  },
  {
   "cell_type": "code",
   "execution_count": null,
   "id": "6f4ec9e8",
   "metadata": {},
   "outputs": [],
   "source": [
    "## Work here\n",
    "\n",
    "\n",
    "\n"
   ]
  },
  {
   "cell_type": "code",
   "execution_count": null,
   "id": "3ad7770b",
   "metadata": {},
   "outputs": [],
   "source": [
    "## Work here\n",
    "\n",
    "\n",
    "\n"
   ]
  },
  {
   "cell_type": "markdown",
   "id": "cee0d1ab",
   "metadata": {},
   "source": [
    "### Validation set or cross-validation\n",
    "\n",
    "Cross-validation, when feasible, is preferred to a single validation set. In general it is better to have a collection of estimates than just a single point estimate.\n",
    "\n",
    "However, it is not always feasible to perform cross-validation. Two limiting factors to consider are:\n",
    "1. Data set size and\n",
    "2. Model training time.\n",
    "\n",
    "In the case of 1., if you have too few observations cross-validation is not possible. This is because splitting your dataset into too many different sets can lead to deficiencies in both model fitting and estimation of $G$.\n",
    "\n",
    "Regarding 2. models that take prohibitively long to train limit the usefulness of cross-validation. $k$-fold cross-validation requires you to train the model $k$ distinct times.\n",
    "\n",
    "In either of those cases a validation set is preferred."
   ]
  },
  {
   "cell_type": "markdown",
   "id": "0e870c74",
   "metadata": {},
   "source": [
    "--------------------------\n",
    "\n",
    "This notebook was written for the Erd&#337;s Institute C&#337;de Data Science Boot Camp by Matthew Osborne, Ph. D., 2022.\n",
    "\n",
    "Any potential redistributors must seek and receive permission from Matthew Tyler Osborne, Ph.D. prior to redistribution. Redistribution of the material contained in this repository is conditional on acknowledgement of Matthew Tyler Osborne, Ph.D.'s original authorship and sponsorship of the Erdős Institute as subject to the license (see License.md)"
   ]
  },
  {
   "cell_type": "code",
   "execution_count": null,
   "id": "62daf9a9",
   "metadata": {},
   "outputs": [],
   "source": []
  }
 ],
 "metadata": {
  "kernelspec": {
   "display_name": "Python 3 (ipykernel)",
   "language": "python",
   "name": "python3"
  },
  "language_info": {
   "codemirror_mode": {
    "name": "ipython",
    "version": 3
   },
   "file_extension": ".py",
   "mimetype": "text/x-python",
   "name": "python",
   "nbconvert_exporter": "python",
   "pygments_lexer": "ipython3",
   "version": "3.9.9"
  }
 },
 "nbformat": 4,
 "nbformat_minor": 5
}
